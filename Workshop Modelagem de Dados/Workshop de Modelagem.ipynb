{
 "cells": [
  {
   "cell_type": "code",
   "execution_count": 1,
   "id": "36f5d3e0",
   "metadata": {},
   "outputs": [],
   "source": [
    "import pandas as pd\n",
    "import numpy as np\n",
    "import matplotlib\n",
    "import matplotlib.pyplot as plt\n",
    "import seaborn as sns\n",
    "import statsmodels.api as sm\n",
    "import statsmodels.formula.api as smf\n",
    "import numpy as np\n",
    "import plotly.express as px\n",
    "\n",
    "# Change 'default' to the style that you want to try out\n",
    "matplotlib.style.use('seaborn')\n",
    "\n",
    "import warnings\n",
    "warnings.filterwarnings(\"ignore\")\n",
    "\n",
    "np.set_printoptions(suppress=True)\n"
   ]
  },
  {
   "cell_type": "markdown",
   "id": "f48ac8fc",
   "metadata": {},
   "source": [
    "# Microdados do ENEM 2019\n",
    "\n",
    "O conjunto de dados utilizado é um recorte dos microdados do enem de 2019 disponibilizados pelo INEP em: https://www.gov.br/inep/pt-br/acesso-a-informacao/dados-abertos/microdados/enem\n",
    "\n",
    "O banco de dados utilizado será um recorte por estado que contém 500 observações com as seguintes variáveis:\n",
    "\n",
    "* SG_UF_RESIDENCIA - Estado que o recorte foi feito\n",
    "* NU_IDADE - Idade do candidato em anos\n",
    "* TP_SEXO - Sexo biológico do candidato (F:feminino ou M:masculino)\n",
    "* TP_ESTADO_CIVIL - Estado Civil do Candidato (1: Solteiro ou 2: Outros)\n",
    "* TP_COR_RACA - (1: Branca/amarela ou 2:Preta/parda/indigena) \n",
    "* TP_ESCOLA - (1: Pública ou 2: Privada) \n",
    "* Q001 - Escolaridade do pai do Candidato (A: Fundamental, B: Médio, C: Superior ou D: Não informado)\n",
    "* Q002 - Escolaridade da mãe do Candidato (A: Fundamental, B: Médio, C: Superior ou D: Não informado)\n",
    "* Q005 - Quantas pessoas moram na mesma residência\n",
    "* Q006 - A renda familiar Mensal (A: 1 SM, B: 1 a 2 SM, C:2 a 5 SM ou D: +5 SM)\n",
    "* Q025 - Possuí acesso a internet em casa (A:Não, S:Sim)\n",
    "* NU_MED - Nota média das provas\n",
    "\n",
    "**O objetivo é determinar quais fatores influenciam a nota média dos candidatos do ENEM.**\n"
   ]
  },
  {
   "cell_type": "code",
   "execution_count": 2,
   "id": "5c2e0316",
   "metadata": {},
   "outputs": [
    {
     "data": {
      "text/html": [
       "<div>\n",
       "<style scoped>\n",
       "    .dataframe tbody tr th:only-of-type {\n",
       "        vertical-align: middle;\n",
       "    }\n",
       "\n",
       "    .dataframe tbody tr th {\n",
       "        vertical-align: top;\n",
       "    }\n",
       "\n",
       "    .dataframe thead th {\n",
       "        text-align: right;\n",
       "    }\n",
       "</style>\n",
       "<table border=\"1\" class=\"dataframe\">\n",
       "  <thead>\n",
       "    <tr style=\"text-align: right;\">\n",
       "      <th></th>\n",
       "      <th>SG_UF_RESIDENCIA</th>\n",
       "      <th>NU_IDADE</th>\n",
       "      <th>TP_SEXO</th>\n",
       "      <th>TP_ESTADO_CIVIL</th>\n",
       "      <th>TP_COR_RACA</th>\n",
       "      <th>TP_ESCOLA</th>\n",
       "      <th>Q001</th>\n",
       "      <th>Q002</th>\n",
       "      <th>Q005</th>\n",
       "      <th>Q006</th>\n",
       "      <th>Q025</th>\n",
       "      <th>NU_MED</th>\n",
       "    </tr>\n",
       "  </thead>\n",
       "  <tbody>\n",
       "    <tr>\n",
       "      <th>0</th>\n",
       "      <td>SP</td>\n",
       "      <td>17</td>\n",
       "      <td>F</td>\n",
       "      <td>1</td>\n",
       "      <td>1</td>\n",
       "      <td>2</td>\n",
       "      <td>C</td>\n",
       "      <td>C</td>\n",
       "      <td>4</td>\n",
       "      <td>B</td>\n",
       "      <td>B</td>\n",
       "      <td>589.70</td>\n",
       "    </tr>\n",
       "    <tr>\n",
       "      <th>1</th>\n",
       "      <td>SP</td>\n",
       "      <td>17</td>\n",
       "      <td>F</td>\n",
       "      <td>1</td>\n",
       "      <td>1</td>\n",
       "      <td>2</td>\n",
       "      <td>C</td>\n",
       "      <td>C</td>\n",
       "      <td>4</td>\n",
       "      <td>D</td>\n",
       "      <td>B</td>\n",
       "      <td>575.10</td>\n",
       "    </tr>\n",
       "    <tr>\n",
       "      <th>2</th>\n",
       "      <td>SP</td>\n",
       "      <td>17</td>\n",
       "      <td>F</td>\n",
       "      <td>1</td>\n",
       "      <td>1</td>\n",
       "      <td>2</td>\n",
       "      <td>C</td>\n",
       "      <td>C</td>\n",
       "      <td>2</td>\n",
       "      <td>D</td>\n",
       "      <td>B</td>\n",
       "      <td>630.90</td>\n",
       "    </tr>\n",
       "    <tr>\n",
       "      <th>3</th>\n",
       "      <td>SP</td>\n",
       "      <td>18</td>\n",
       "      <td>M</td>\n",
       "      <td>1</td>\n",
       "      <td>1</td>\n",
       "      <td>2</td>\n",
       "      <td>B</td>\n",
       "      <td>B</td>\n",
       "      <td>3</td>\n",
       "      <td>C</td>\n",
       "      <td>B</td>\n",
       "      <td>635.20</td>\n",
       "    </tr>\n",
       "    <tr>\n",
       "      <th>4</th>\n",
       "      <td>SP</td>\n",
       "      <td>18</td>\n",
       "      <td>M</td>\n",
       "      <td>1</td>\n",
       "      <td>1</td>\n",
       "      <td>2</td>\n",
       "      <td>B</td>\n",
       "      <td>A</td>\n",
       "      <td>3</td>\n",
       "      <td>D</td>\n",
       "      <td>B</td>\n",
       "      <td>578.06</td>\n",
       "    </tr>\n",
       "    <tr>\n",
       "      <th>5</th>\n",
       "      <td>SP</td>\n",
       "      <td>17</td>\n",
       "      <td>F</td>\n",
       "      <td>1</td>\n",
       "      <td>2</td>\n",
       "      <td>1</td>\n",
       "      <td>A</td>\n",
       "      <td>A</td>\n",
       "      <td>6</td>\n",
       "      <td>C</td>\n",
       "      <td>B</td>\n",
       "      <td>404.60</td>\n",
       "    </tr>\n",
       "    <tr>\n",
       "      <th>6</th>\n",
       "      <td>SP</td>\n",
       "      <td>17</td>\n",
       "      <td>F</td>\n",
       "      <td>1</td>\n",
       "      <td>1</td>\n",
       "      <td>1</td>\n",
       "      <td>A</td>\n",
       "      <td>B</td>\n",
       "      <td>4</td>\n",
       "      <td>C</td>\n",
       "      <td>B</td>\n",
       "      <td>473.84</td>\n",
       "    </tr>\n",
       "    <tr>\n",
       "      <th>7</th>\n",
       "      <td>SP</td>\n",
       "      <td>17</td>\n",
       "      <td>F</td>\n",
       "      <td>1</td>\n",
       "      <td>1</td>\n",
       "      <td>1</td>\n",
       "      <td>A</td>\n",
       "      <td>A</td>\n",
       "      <td>8</td>\n",
       "      <td>B</td>\n",
       "      <td>B</td>\n",
       "      <td>482.42</td>\n",
       "    </tr>\n",
       "    <tr>\n",
       "      <th>8</th>\n",
       "      <td>SP</td>\n",
       "      <td>17</td>\n",
       "      <td>M</td>\n",
       "      <td>1</td>\n",
       "      <td>1</td>\n",
       "      <td>1</td>\n",
       "      <td>A</td>\n",
       "      <td>A</td>\n",
       "      <td>4</td>\n",
       "      <td>C</td>\n",
       "      <td>B</td>\n",
       "      <td>589.68</td>\n",
       "    </tr>\n",
       "    <tr>\n",
       "      <th>9</th>\n",
       "      <td>SP</td>\n",
       "      <td>17</td>\n",
       "      <td>M</td>\n",
       "      <td>1</td>\n",
       "      <td>2</td>\n",
       "      <td>1</td>\n",
       "      <td>A</td>\n",
       "      <td>B</td>\n",
       "      <td>5</td>\n",
       "      <td>D</td>\n",
       "      <td>B</td>\n",
       "      <td>602.06</td>\n",
       "    </tr>\n",
       "  </tbody>\n",
       "</table>\n",
       "</div>"
      ],
      "text/plain": [
       "  SG_UF_RESIDENCIA  NU_IDADE TP_SEXO  TP_ESTADO_CIVIL  TP_COR_RACA  TP_ESCOLA  \\\n",
       "0               SP        17       F                1            1          2   \n",
       "1               SP        17       F                1            1          2   \n",
       "2               SP        17       F                1            1          2   \n",
       "3               SP        18       M                1            1          2   \n",
       "4               SP        18       M                1            1          2   \n",
       "5               SP        17       F                1            2          1   \n",
       "6               SP        17       F                1            1          1   \n",
       "7               SP        17       F                1            1          1   \n",
       "8               SP        17       M                1            1          1   \n",
       "9               SP        17       M                1            2          1   \n",
       "\n",
       "  Q001 Q002  Q005 Q006 Q025  NU_MED  \n",
       "0    C    C     4    B    B  589.70  \n",
       "1    C    C     4    D    B  575.10  \n",
       "2    C    C     2    D    B  630.90  \n",
       "3    B    B     3    C    B  635.20  \n",
       "4    B    A     3    D    B  578.06  \n",
       "5    A    A     6    C    B  404.60  \n",
       "6    A    B     4    C    B  473.84  \n",
       "7    A    A     8    B    B  482.42  \n",
       "8    A    A     4    C    B  589.68  \n",
       "9    A    B     5    D    B  602.06  "
      ]
     },
     "execution_count": 2,
     "metadata": {},
     "output_type": "execute_result"
    }
   ],
   "source": [
    "enem = pd.read_csv(\"SP.csv\") # Lê o banco de dados escolhidos (Substitua pelo banco escolhido)\n",
    "enem.head(10) # Mostra as 10 primeiras observações   "
   ]
  },
  {
   "cell_type": "markdown",
   "id": "848a9df3",
   "metadata": {},
   "source": [
    "## Exploração dos Dados"
   ]
  },
  {
   "cell_type": "code",
   "execution_count": 3,
   "id": "c055e64a",
   "metadata": {},
   "outputs": [
    {
     "name": "stdout",
     "output_type": "stream",
     "text": [
      "<class 'pandas.core.frame.DataFrame'>\n",
      "RangeIndex: 500 entries, 0 to 499\n",
      "Data columns (total 12 columns):\n",
      " #   Column            Non-Null Count  Dtype  \n",
      "---  ------            --------------  -----  \n",
      " 0   SG_UF_RESIDENCIA  500 non-null    object \n",
      " 1   NU_IDADE          500 non-null    int64  \n",
      " 2   TP_SEXO           500 non-null    object \n",
      " 3   TP_ESTADO_CIVIL   500 non-null    int64  \n",
      " 4   TP_COR_RACA       500 non-null    int64  \n",
      " 5   TP_ESCOLA         500 non-null    int64  \n",
      " 6   Q001              500 non-null    object \n",
      " 7   Q002              500 non-null    object \n",
      " 8   Q005              500 non-null    int64  \n",
      " 9   Q006              500 non-null    object \n",
      " 10  Q025              500 non-null    object \n",
      " 11  NU_MED            500 non-null    float64\n",
      "dtypes: float64(1), int64(5), object(6)\n",
      "memory usage: 47.0+ KB\n"
     ]
    }
   ],
   "source": [
    "enem.info() #Mostra os tipos de variáveis no banco "
   ]
  },
  {
   "cell_type": "code",
   "execution_count": 4,
   "id": "fdeb41d8",
   "metadata": {},
   "outputs": [
    {
     "name": "stdout",
     "output_type": "stream",
     "text": [
      "<class 'pandas.core.frame.DataFrame'>\n",
      "RangeIndex: 500 entries, 0 to 499\n",
      "Data columns (total 12 columns):\n",
      " #   Column            Non-Null Count  Dtype   \n",
      "---  ------            --------------  -----   \n",
      " 0   SG_UF_RESIDENCIA  500 non-null    object  \n",
      " 1   NU_IDADE          500 non-null    int64   \n",
      " 2   TP_SEXO           500 non-null    category\n",
      " 3   TP_ESTADO_CIVIL   500 non-null    category\n",
      " 4   TP_COR_RACA       500 non-null    category\n",
      " 5   TP_ESCOLA         500 non-null    int64   \n",
      " 6   Q001              500 non-null    category\n",
      " 7   Q002              500 non-null    category\n",
      " 8   Q005              500 non-null    int64   \n",
      " 9   Q006              500 non-null    category\n",
      " 10  Q025              500 non-null    category\n",
      " 11  NU_MED            500 non-null    float64 \n",
      "dtypes: category(7), float64(1), int64(3), object(1)\n",
      "memory usage: 24.2+ KB\n"
     ]
    }
   ],
   "source": [
    "#Para alterar o tipo de uma variável, reescreva a variavél utilizando o .astype('tipo novo')\n",
    "enem.TP_SEXO = enem.TP_SEXO.astype('category') #Exemplo mudando a variavel Sexo para categorica\n",
    "enem.TP_ESTADO_CIVIL = enem.TP_ESTADO_CIVIL.astype('category')\n",
    "enem.TP_COR_RACA = enem.TP_COR_RACA.astype('category')\n",
    "enem.Q001 = enem.Q001.astype('category')\n",
    "enem.Q002 = enem.Q002.astype('category')\n",
    "enem.Q006 = enem.Q006.astype('category')\n",
    "enem.Q025 = enem.Q025.astype('category')\n",
    "\n",
    "enem.info()"
   ]
  },
  {
   "cell_type": "markdown",
   "id": "adfa77e5",
   "metadata": {},
   "source": [
    "### Variáveis quantitativas\n"
   ]
  },
  {
   "cell_type": "code",
   "execution_count": 5,
   "id": "1c133829",
   "metadata": {},
   "outputs": [
    {
     "data": {
      "text/plain": [
       "<AxesSubplot:xlabel='NU_MED', ylabel='Count'>"
      ]
     },
     "execution_count": 5,
     "metadata": {},
     "output_type": "execute_result"
    },
    {
     "data": {
      "image/png": "[encoded data removed]",
      "text/plain": [
       "<Figure size 576x396 with 1 Axes>"
      ]
     },
     "metadata": {},
     "output_type": "display_data"
    }
   ],
   "source": [
    "#Gerando histograma da variável resposta\n",
    "sns.histplot(enem.NU_MED, alpha=0.4, kde=True, kde_kws={\"cut\": 3}) "
   ]
  },
  {
   "cell_type": "code",
   "execution_count": 5,
   "id": "3fb483d6",
   "metadata": {},
   "outputs": [
    {
     "data": {
      "text/html": [
       "<div>\n",
       "<style scoped>\n",
       "    .dataframe tbody tr th:only-of-type {\n",
       "        vertical-align: middle;\n",
       "    }\n",
       "\n",
       "    .dataframe tbody tr th {\n",
       "        vertical-align: top;\n",
       "    }\n",
       "\n",
       "    .dataframe thead th {\n",
       "        text-align: right;\n",
       "    }\n",
       "</style>\n",
       "<table border=\"1\" class=\"dataframe\">\n",
       "  <thead>\n",
       "    <tr style=\"text-align: right;\">\n",
       "      <th></th>\n",
       "      <th>NU_IDADE</th>\n",
       "      <th>TP_ESCOLA</th>\n",
       "      <th>Q005</th>\n",
       "      <th>NU_MED</th>\n",
       "    </tr>\n",
       "  </thead>\n",
       "  <tbody>\n",
       "    <tr>\n",
       "      <th>count</th>\n",
       "      <td>500.00</td>\n",
       "      <td>500.00</td>\n",
       "      <td>500.00</td>\n",
       "      <td>500.00</td>\n",
       "    </tr>\n",
       "    <tr>\n",
       "      <th>mean</th>\n",
       "      <td>17.45</td>\n",
       "      <td>1.26</td>\n",
       "      <td>3.93</td>\n",
       "      <td>537.77</td>\n",
       "    </tr>\n",
       "    <tr>\n",
       "      <th>std</th>\n",
       "      <td>1.91</td>\n",
       "      <td>0.44</td>\n",
       "      <td>1.20</td>\n",
       "      <td>80.02</td>\n",
       "    </tr>\n",
       "    <tr>\n",
       "      <th>min</th>\n",
       "      <td>16.00</td>\n",
       "      <td>1.00</td>\n",
       "      <td>2.00</td>\n",
       "      <td>300.18</td>\n",
       "    </tr>\n",
       "    <tr>\n",
       "      <th>25%</th>\n",
       "      <td>17.00</td>\n",
       "      <td>1.00</td>\n",
       "      <td>3.00</td>\n",
       "      <td>483.22</td>\n",
       "    </tr>\n",
       "    <tr>\n",
       "      <th>50%</th>\n",
       "      <td>17.00</td>\n",
       "      <td>1.00</td>\n",
       "      <td>4.00</td>\n",
       "      <td>531.23</td>\n",
       "    </tr>\n",
       "    <tr>\n",
       "      <th>75%</th>\n",
       "      <td>18.00</td>\n",
       "      <td>2.00</td>\n",
       "      <td>4.00</td>\n",
       "      <td>593.47</td>\n",
       "    </tr>\n",
       "    <tr>\n",
       "      <th>max</th>\n",
       "      <td>46.00</td>\n",
       "      <td>2.00</td>\n",
       "      <td>10.00</td>\n",
       "      <td>737.18</td>\n",
       "    </tr>\n",
       "  </tbody>\n",
       "</table>\n",
       "</div>"
      ],
      "text/plain": [
       "       NU_IDADE  TP_ESCOLA    Q005  NU_MED\n",
       "count    500.00     500.00  500.00  500.00\n",
       "mean      17.45       1.26    3.93  537.77\n",
       "std        1.91       0.44    1.20   80.02\n",
       "min       16.00       1.00    2.00  300.18\n",
       "25%       17.00       1.00    3.00  483.22\n",
       "50%       17.00       1.00    4.00  531.23\n",
       "75%       18.00       2.00    4.00  593.47\n",
       "max       46.00       2.00   10.00  737.18"
      ]
     },
     "execution_count": 5,
     "metadata": {},
     "output_type": "execute_result"
    }
   ],
   "source": [
    "enem.describe().round(2) #Mostra as estatísticas sumarias das variaveis numéricas"
   ]
  },
  {
   "cell_type": "code",
   "execution_count": 6,
   "id": "843503e8",
   "metadata": {},
   "outputs": [
    {
     "data": {
      "text/plain": [
       "False"
      ]
     },
     "execution_count": 6,
     "metadata": {},
     "output_type": "execute_result"
    }
   ],
   "source": [
    "enem.isnull().values.any() #Verifica a existência de dados faltantes"
   ]
  },
  {
   "cell_type": "code",
   "execution_count": 7,
   "id": "24964f4d",
   "metadata": {},
   "outputs": [
    {
     "data": {
      "text/html": [
       "<div>\n",
       "<style scoped>\n",
       "    .dataframe tbody tr th:only-of-type {\n",
       "        vertical-align: middle;\n",
       "    }\n",
       "\n",
       "    .dataframe tbody tr th {\n",
       "        vertical-align: top;\n",
       "    }\n",
       "\n",
       "    .dataframe thead th {\n",
       "        text-align: right;\n",
       "    }\n",
       "</style>\n",
       "<table border=\"1\" class=\"dataframe\">\n",
       "  <thead>\n",
       "    <tr style=\"text-align: right;\">\n",
       "      <th></th>\n",
       "      <th>SG_UF_RESIDENCIA</th>\n",
       "      <th>NU_IDADE</th>\n",
       "      <th>TP_SEXO</th>\n",
       "      <th>TP_ESTADO_CIVIL</th>\n",
       "      <th>TP_COR_RACA</th>\n",
       "      <th>TP_ESCOLA</th>\n",
       "      <th>Q001</th>\n",
       "      <th>Q002</th>\n",
       "      <th>Q005</th>\n",
       "      <th>Q006</th>\n",
       "      <th>Q025</th>\n",
       "      <th>NU_MED</th>\n",
       "    </tr>\n",
       "  </thead>\n",
       "  <tbody>\n",
       "  </tbody>\n",
       "</table>\n",
       "</div>"
      ],
      "text/plain": [
       "Empty DataFrame\n",
       "Columns: [SG_UF_RESIDENCIA, NU_IDADE, TP_SEXO, TP_ESTADO_CIVIL, TP_COR_RACA, TP_ESCOLA, Q001, Q002, Q005, Q006, Q025, NU_MED]\n",
       "Index: []"
      ]
     },
     "execution_count": 7,
     "metadata": {},
     "output_type": "execute_result"
    }
   ],
   "source": [
    "enem[pd.isnull(enem).any(axis=1)] # Mostra as linhas com dados faltantes"
   ]
  },
  {
   "cell_type": "code",
   "execution_count": 8,
   "id": "c79eb465",
   "metadata": {},
   "outputs": [
    {
     "data": {
      "text/html": [
       "<style type=\"text/css\">\n",
       "#T_27727_row0_col0, #T_27727_row0_col1, #T_27727_row0_col2, #T_27727_row0_col3, #T_27727_row1_col1, #T_27727_row1_col2, #T_27727_row1_col3, #T_27727_row2_col2, #T_27727_row2_col3, #T_27727_row3_col3 {\n",
       "  background-color: #000000;\n",
       "  color: #f1f1f1;\n",
       "  background-color: #f1f1f1;\n",
       "}\n",
       "#T_27727_row1_col0 {\n",
       "  background-color: #d7dce3;\n",
       "  color: #000000;\n",
       "}\n",
       "#T_27727_row2_col0 {\n",
       "  background-color: #d4dbe6;\n",
       "  color: #000000;\n",
       "}\n",
       "#T_27727_row2_col1 {\n",
       "  background-color: #c9d7f0;\n",
       "  color: #000000;\n",
       "}\n",
       "#T_27727_row3_col0 {\n",
       "  background-color: #d6dce4;\n",
       "  color: #000000;\n",
       "}\n",
       "#T_27727_row3_col1 {\n",
       "  background-color: #f59d7e;\n",
       "  color: #000000;\n",
       "}\n",
       "#T_27727_row3_col2 {\n",
       "  background-color: #c5d6f2;\n",
       "  color: #000000;\n",
       "}\n",
       "</style>\n",
       "<table id=\"T_27727_\">\n",
       "  <thead>\n",
       "    <tr>\n",
       "      <th class=\"blank level0\" >&nbsp;</th>\n",
       "      <th class=\"col_heading level0 col0\" >NU_IDADE</th>\n",
       "      <th class=\"col_heading level0 col1\" >TP_ESCOLA</th>\n",
       "      <th class=\"col_heading level0 col2\" >Q005</th>\n",
       "      <th class=\"col_heading level0 col3\" >NU_MED</th>\n",
       "    </tr>\n",
       "  </thead>\n",
       "  <tbody>\n",
       "    <tr>\n",
       "      <th id=\"T_27727_level0_row0\" class=\"row_heading level0 row0\" >NU_IDADE</th>\n",
       "      <td id=\"T_27727_row0_col0\" class=\"data row0 col0\" >nan</td>\n",
       "      <td id=\"T_27727_row0_col1\" class=\"data row0 col1\" >nan</td>\n",
       "      <td id=\"T_27727_row0_col2\" class=\"data row0 col2\" >nan</td>\n",
       "      <td id=\"T_27727_row0_col3\" class=\"data row0 col3\" >nan</td>\n",
       "    </tr>\n",
       "    <tr>\n",
       "      <th id=\"T_27727_level0_row1\" class=\"row_heading level0 row1\" >TP_ESCOLA</th>\n",
       "      <td id=\"T_27727_row1_col0\" class=\"data row1 col0\" >-0.04</td>\n",
       "      <td id=\"T_27727_row1_col1\" class=\"data row1 col1\" >nan</td>\n",
       "      <td id=\"T_27727_row1_col2\" class=\"data row1 col2\" >nan</td>\n",
       "      <td id=\"T_27727_row1_col3\" class=\"data row1 col3\" >nan</td>\n",
       "    </tr>\n",
       "    <tr>\n",
       "      <th id=\"T_27727_level0_row2\" class=\"row_heading level0 row2\" >Q005</th>\n",
       "      <td id=\"T_27727_row2_col0\" class=\"data row2 col0\" >-0.07</td>\n",
       "      <td id=\"T_27727_row2_col1\" class=\"data row2 col1\" >-0.15</td>\n",
       "      <td id=\"T_27727_row2_col2\" class=\"data row2 col2\" >nan</td>\n",
       "      <td id=\"T_27727_row2_col3\" class=\"data row2 col3\" >nan</td>\n",
       "    </tr>\n",
       "    <tr>\n",
       "      <th id=\"T_27727_level0_row3\" class=\"row_heading level0 row3\" >NU_MED</th>\n",
       "      <td id=\"T_27727_row3_col0\" class=\"data row3 col0\" >-0.05</td>\n",
       "      <td id=\"T_27727_row3_col1\" class=\"data row3 col1\" >0.48</td>\n",
       "      <td id=\"T_27727_row3_col2\" class=\"data row3 col2\" >-0.17</td>\n",
       "      <td id=\"T_27727_row3_col3\" class=\"data row3 col3\" >nan</td>\n",
       "    </tr>\n",
       "  </tbody>\n",
       "</table>\n"
      ],
      "text/plain": [
       "<pandas.io.formats.style.Styler at 0x1f3bafabdf0>"
      ]
     },
     "execution_count": 8,
     "metadata": {},
     "output_type": "execute_result"
    }
   ],
   "source": [
    "#Avalia a correlação das variáveis numéricas\n",
    "corr = enem.select_dtypes(include=['int64', 'float64']).corr() \n",
    "# Fill diagonal and upper half with NaNs\n",
    "mask = np.zeros_like(corr, dtype=bool)\n",
    "mask[np.triu_indices_from(mask)] = True\n",
    "corr[mask] = np.nan\n",
    "(corr\n",
    " .style\n",
    " .background_gradient(cmap='coolwarm', axis=None, vmin=-1, vmax=1)\n",
    " .highlight_null(null_color='#f1f1f1')  # Color NaNs grey\n",
    " .set_precision(2))"
   ]
  },
  {
   "cell_type": "markdown",
   "id": "a7ba799a",
   "metadata": {},
   "source": [
    "### Variáveis Categóricas"
   ]
  },
  {
   "cell_type": "code",
   "execution_count": 9,
   "id": "4f9cd2d2",
   "metadata": {},
   "outputs": [
    {
     "data": {
      "text/html": [
       "<div>\n",
       "<style scoped>\n",
       "    .dataframe tbody tr th:only-of-type {\n",
       "        vertical-align: middle;\n",
       "    }\n",
       "\n",
       "    .dataframe tbody tr th {\n",
       "        vertical-align: top;\n",
       "    }\n",
       "\n",
       "    .dataframe thead th {\n",
       "        text-align: right;\n",
       "    }\n",
       "</style>\n",
       "<table border=\"1\" class=\"dataframe\">\n",
       "  <thead>\n",
       "    <tr style=\"text-align: right;\">\n",
       "      <th></th>\n",
       "      <th>TP_SEXO</th>\n",
       "      <th>TP_ESTADO_CIVIL</th>\n",
       "      <th>TP_COR_RACA</th>\n",
       "      <th>Q001</th>\n",
       "      <th>Q002</th>\n",
       "      <th>Q006</th>\n",
       "      <th>Q025</th>\n",
       "    </tr>\n",
       "  </thead>\n",
       "  <tbody>\n",
       "    <tr>\n",
       "      <th>count</th>\n",
       "      <td>500</td>\n",
       "      <td>500</td>\n",
       "      <td>500</td>\n",
       "      <td>500</td>\n",
       "      <td>500</td>\n",
       "      <td>500</td>\n",
       "      <td>500</td>\n",
       "    </tr>\n",
       "    <tr>\n",
       "      <th>unique</th>\n",
       "      <td>2</td>\n",
       "      <td>2</td>\n",
       "      <td>2</td>\n",
       "      <td>4</td>\n",
       "      <td>4</td>\n",
       "      <td>4</td>\n",
       "      <td>2</td>\n",
       "    </tr>\n",
       "    <tr>\n",
       "      <th>top</th>\n",
       "      <td>F</td>\n",
       "      <td>1</td>\n",
       "      <td>1</td>\n",
       "      <td>B</td>\n",
       "      <td>B</td>\n",
       "      <td>C</td>\n",
       "      <td>B</td>\n",
       "    </tr>\n",
       "    <tr>\n",
       "      <th>freq</th>\n",
       "      <td>287</td>\n",
       "      <td>496</td>\n",
       "      <td>317</td>\n",
       "      <td>187</td>\n",
       "      <td>194</td>\n",
       "      <td>190</td>\n",
       "      <td>473</td>\n",
       "    </tr>\n",
       "  </tbody>\n",
       "</table>\n",
       "</div>"
      ],
      "text/plain": [
       "       TP_SEXO  TP_ESTADO_CIVIL  TP_COR_RACA Q001 Q002 Q006 Q025\n",
       "count      500              500          500  500  500  500  500\n",
       "unique       2                2            2    4    4    4    2\n",
       "top          F                1            1    B    B    C    B\n",
       "freq       287              496          317  187  194  190  473"
      ]
     },
     "execution_count": 9,
     "metadata": {},
     "output_type": "execute_result"
    }
   ],
   "source": [
    "enem.describe(include=['category']) #Mostra as estatísticas sumarias das variaveis categóricas"
   ]
  },
  {
   "cell_type": "code",
   "execution_count": 6,
   "id": "12935ba8",
   "metadata": {},
   "outputs": [
    {
     "data": {
      "text/plain": [
       "TP_SEXO\n",
       "F    AxesSubplot(0.125,0.125;0.775x0.755)\n",
       "M    AxesSubplot(0.125,0.125;0.775x0.755)\n",
       "Name: NU_MED, dtype: object"
      ]
     },
     "execution_count": 6,
     "metadata": {},
     "output_type": "execute_result"
    },
    {
     "data": {
      "image/png": "[encoded data removed]",
      "text/plain": [
       "<Figure size 576x396 with 1 Axes>"
      ]
     },
     "metadata": {},
     "output_type": "display_data"
    }
   ],
   "source": [
    "#gera um gráfico da variavel resposta de acordo com as categorias de interesse\n",
    "enem.groupby('TP_SEXO').NU_MED.plot(kind='kde', legend=True, title='Notas por Sexo')"
   ]
  },
  {
   "cell_type": "code",
   "execution_count": 14,
   "metadata": {},
   "outputs": [
    {
     "data": {
      "text/plain": [
       "TP_COR_RACA\n",
       "1    AxesSubplot(0.125,0.125;0.775x0.755)\n",
       "2    AxesSubplot(0.125,0.125;0.775x0.755)\n",
       "Name: NU_MED, dtype: object"
      ]
     },
     "execution_count": 14,
     "metadata": {},
     "output_type": "execute_result"
    },
    {
     "data": {
      "image/png": "[encoded data removed]",
      "text/plain": [
       "<Figure size 576x396 with 1 Axes>"
      ]
     },
     "metadata": {},
     "output_type": "display_data"
    }
   ],
   "source": [
    "#gera um gráfico da variavel resposta de acordo com a raça de interesse\n",
    "enem.groupby('TP_COR_RACA').NU_MED.plot(kind='kde', legend=True, title='Notas por Raça')"
   ]
  },
  {
   "cell_type": "code",
   "execution_count": 24,
   "id": "a1a3a3dc",
   "metadata": {},
   "outputs": [
    {
     "data": {
      "text/plain": [
       "Q025\n",
       "A    AxesSubplot(0.125,0.125;0.775x0.755)\n",
       "B    AxesSubplot(0.125,0.125;0.775x0.755)\n",
       "Name: NU_MED, dtype: object"
      ]
     },
     "execution_count": 24,
     "metadata": {},
     "output_type": "execute_result"
    },
    {
     "data": {
      "image/png": "[encoded data removed]",
      "text/plain": [
       "<Figure size 576x396 with 1 Axes>"
      ]
     },
     "metadata": {},
     "output_type": "display_data"
    }
   ],
   "source": [
    "#gera um gráfico da variavel resposta de acordo com a internet em casa\n",
    "enem.groupby('Q025').NU_MED.plot(kind='kde', legend=True, title='Notas por Internet em Casa')"
   ]
  },
  {
   "cell_type": "code",
   "execution_count": 15,
   "id": "9aa0536c",
   "metadata": {},
   "outputs": [
    {
     "data": {
      "text/plain": [
       "<AxesSubplot:xlabel='TP_COR_RACA', ylabel='NU_MED'>"
      ]
     },
     "execution_count": 15,
     "metadata": {},
     "output_type": "execute_result"
    },
    {
     "data": {
      "image/png": "[encoded data removed]",
      "text/plain": [
       "<Figure size 576x396 with 1 Axes>"
      ]
     },
     "metadata": {},
     "output_type": "display_data"
    }
   ],
   "source": [
    "#gera um boxplot da variavel resposta de acordo com as categorias de interesse\n",
    "sns.boxplot(x ='TP_COR_RACA',y = 'NU_MED', data = enem)"
   ]
  },
  {
   "cell_type": "code",
   "execution_count": 13,
   "id": "ec35383d",
   "metadata": {},
   "outputs": [
    {
     "data": {
      "text/plain": [
       "<AxesSubplot:xlabel='TP_SEXO', ylabel='NU_MED'>"
      ]
     },
     "execution_count": 13,
     "metadata": {},
     "output_type": "execute_result"
    },
    {
     "data": {
      "image/png": "[encoded data removed]",
      "text/plain": [
       "<Figure size 576x396 with 1 Axes>"
      ]
     },
     "metadata": {},
     "output_type": "display_data"
    }
   ],
   "source": [
    "#gera um boxplot da variavel resposta de acordo com as categorias de interesse\n",
    "sns.boxplot(x ='TP_SEXO',y = 'NU_MED', data = enem)"
   ]
  },
  {
   "cell_type": "code",
   "execution_count": 25,
   "id": "128d30d3",
   "metadata": {},
   "outputs": [
    {
     "data": {
      "text/plain": [
       "<AxesSubplot:xlabel='Q025', ylabel='NU_MED'>"
      ]
     },
     "execution_count": 25,
     "metadata": {},
     "output_type": "execute_result"
    },
    {
     "data": {
      "image/png": "[encoded data removed]",
      "text/plain": [
       "<Figure size 576x396 with 1 Axes>"
      ]
     },
     "metadata": {},
     "output_type": "display_data"
    }
   ],
   "source": [
    "#gera um boxplot da variavel resposta de acordo com as categorias de interesse\n",
    "sns.boxplot(x ='Q025',y = 'NU_MED', data = enem)"
   ]
  },
  {
   "cell_type": "code",
   "execution_count": 27,
   "id": "a81552bf",
   "metadata": {},
   "outputs": [
    {
     "data": {
      "text/plain": [
       "<AxesSubplot:xlabel='Q001', ylabel='NU_MED'>"
      ]
     },
     "execution_count": 27,
     "metadata": {},
     "output_type": "execute_result"
    },
    {
     "data": {
      "image/png": "[encoded data removed]",
      "text/plain": [
       "<Figure size 576x396 with 1 Axes>"
      ]
     },
     "metadata": {},
     "output_type": "display_data"
    }
   ],
   "source": [
    "#gera um boxplot da variavel resposta de acordo com as categorias de interesse (Escolaridade do Pai do Candidato)\n",
    "sns.boxplot(x ='Q001',y = 'NU_MED', data = enem)"
   ]
  },
  {
   "cell_type": "code",
   "execution_count": 28,
   "id": "bcd861c8",
   "metadata": {},
   "outputs": [
    {
     "data": {
      "text/plain": [
       "<AxesSubplot:xlabel='Q002', ylabel='NU_MED'>"
      ]
     },
     "execution_count": 28,
     "metadata": {},
     "output_type": "execute_result"
    },
    {
     "data": {
      "image/png": "[encoded data removed]",
      "text/plain": [
       "<Figure size 576x396 with 1 Axes>"
      ]
     },
     "metadata": {},
     "output_type": "display_data"
    }
   ],
   "source": [
    "#gera um boxplot da variavel resposta de acordo com as categorias de interesse (Escolaridade da Mãe do Candidato)\n",
    "sns.boxplot(x ='Q002',y = 'NU_MED', data = enem)"
   ]
  },
  {
   "cell_type": "code",
   "execution_count": 30,
   "id": "be84b00d",
   "metadata": {},
   "outputs": [
    {
     "data": {
      "text/plain": [
       "<AxesSubplot:xlabel='TP_ESCOLA', ylabel='NU_MED'>"
      ]
     },
     "execution_count": 30,
     "metadata": {},
     "output_type": "execute_result"
    },
    {
     "data": {
      "image/png": "[encoded data removed]",
      "text/plain": [
       "<Figure size 576x396 with 1 Axes>"
      ]
     },
     "metadata": {},
     "output_type": "display_data"
    }
   ],
   "source": [
    "#gera um boxplot da variavel resposta de acordo com as categorias de interesse (Escola pública vs privada)\n",
    "sns.boxplot(x ='TP_ESCOLA',y = 'NU_MED', data = enem)"
   ]
  },
  {
   "cell_type": "code",
   "execution_count": 29,
   "id": "e18dd634",
   "metadata": {},
   "outputs": [
    {
     "data": {
      "text/plain": [
       "<AxesSubplot:xlabel='Q006', ylabel='NU_MED'>"
      ]
     },
     "execution_count": 29,
     "metadata": {},
     "output_type": "execute_result"
    },
    {
     "data": {
      "image/png": "[encoded data removed]",
      "text/plain": [
       "<Figure size 576x396 with 1 Axes>"
      ]
     },
     "metadata": {},
     "output_type": "display_data"
    }
   ],
   "source": [
    "#gera um boxplot da variavel resposta de acordo com as categorias de interesse (Renda familiar Mensal)\n",
    "sns.boxplot(x ='Q006',y = 'NU_MED', data = enem)"
   ]
  },
  {
   "cell_type": "markdown",
   "id": "f5d7e229",
   "metadata": {},
   "source": [
    "## Ajuste dos modelos de Regressão\n",
    "\n",
    "Ajuste *3 modelos* de regressão, utilizando as variáveis que achar pertinentes na análise."
   ]
  },
  {
   "cell_type": "code",
   "execution_count": 31,
   "id": "d0fc00c6",
   "metadata": {},
   "outputs": [
    {
     "data": {
      "text/html": [
       "<table class=\"simpletable\">\n",
       "<caption>OLS Regression Results</caption>\n",
       "<tr>\n",
       "  <th>Dep. Variable:</th>         <td>NU_MED</td>      <th>  R-squared:         </th> <td>   0.246</td>\n",
       "</tr>\n",
       "<tr>\n",
       "  <th>Model:</th>                   <td>OLS</td>       <th>  Adj. R-squared:    </th> <td>   0.243</td>\n",
       "</tr>\n",
       "<tr>\n",
       "  <th>Method:</th>             <td>Least Squares</td>  <th>  F-statistic:       </th> <td>   80.91</td>\n",
       "</tr>\n",
       "<tr>\n",
       "  <th>Date:</th>             <td>Sun, 10 Jul 2022</td> <th>  Prob (F-statistic):</th> <td>3.80e-31</td>\n",
       "</tr>\n",
       "<tr>\n",
       "  <th>Time:</th>                 <td>19:08:48</td>     <th>  Log-Likelihood:    </th> <td> -2829.6</td>\n",
       "</tr>\n",
       "<tr>\n",
       "  <th>No. Observations:</th>      <td>   500</td>      <th>  AIC:               </th> <td>   5665.</td>\n",
       "</tr>\n",
       "<tr>\n",
       "  <th>Df Residuals:</th>          <td>   497</td>      <th>  BIC:               </th> <td>   5678.</td>\n",
       "</tr>\n",
       "<tr>\n",
       "  <th>Df Model:</th>              <td>     2</td>      <th>                     </th>     <td> </td>   \n",
       "</tr>\n",
       "<tr>\n",
       "  <th>Covariance Type:</th>      <td>nonrobust</td>    <th>                     </th>     <td> </td>   \n",
       "</tr>\n",
       "</table>\n",
       "<table class=\"simpletable\">\n",
       "<tr>\n",
       "        <td></td>          <th>coef</th>     <th>std err</th>      <th>t</th>      <th>P>|t|</th>  <th>[0.025</th>    <th>0.975]</th>  \n",
       "</tr>\n",
       "<tr>\n",
       "  <th>Intercept</th>    <td>  420.3308</td> <td>    9.748</td> <td>   43.120</td> <td> 0.000</td> <td>  401.178</td> <td>  439.483</td>\n",
       "</tr>\n",
       "<tr>\n",
       "  <th>TP_SEXO[T.M]</th> <td>   17.1055</td> <td>    6.305</td> <td>    2.713</td> <td> 0.007</td> <td>    4.718</td> <td>   29.493</td>\n",
       "</tr>\n",
       "<tr>\n",
       "  <th>TP_ESCOLA</th>    <td>   87.5632</td> <td>    7.126</td> <td>   12.288</td> <td> 0.000</td> <td>   73.563</td> <td>  101.563</td>\n",
       "</tr>\n",
       "</table>\n",
       "<table class=\"simpletable\">\n",
       "<tr>\n",
       "  <th>Omnibus:</th>       <td> 0.526</td> <th>  Durbin-Watson:     </th> <td>   2.004</td>\n",
       "</tr>\n",
       "<tr>\n",
       "  <th>Prob(Omnibus):</th> <td> 0.769</td> <th>  Jarque-Bera (JB):  </th> <td>   0.637</td>\n",
       "</tr>\n",
       "<tr>\n",
       "  <th>Skew:</th>          <td> 0.038</td> <th>  Prob(JB):          </th> <td>   0.727</td>\n",
       "</tr>\n",
       "<tr>\n",
       "  <th>Kurtosis:</th>      <td> 2.842</td> <th>  Cond. No.          </th> <td>    6.48</td>\n",
       "</tr>\n",
       "</table><br/><br/>Notes:<br/>[1] Standard Errors assume that the covariance matrix of the errors is correctly specified."
      ],
      "text/plain": [
       "<class 'statsmodels.iolib.summary.Summary'>\n",
       "\"\"\"\n",
       "                            OLS Regression Results                            \n",
       "==============================================================================\n",
       "Dep. Variable:                 NU_MED   R-squared:                       0.246\n",
       "Model:                            OLS   Adj. R-squared:                  0.243\n",
       "Method:                 Least Squares   F-statistic:                     80.91\n",
       "Date:                Sun, 10 Jul 2022   Prob (F-statistic):           3.80e-31\n",
       "Time:                        19:08:48   Log-Likelihood:                -2829.6\n",
       "No. Observations:                 500   AIC:                             5665.\n",
       "Df Residuals:                     497   BIC:                             5678.\n",
       "Df Model:                           2                                         \n",
       "Covariance Type:            nonrobust                                         \n",
       "================================================================================\n",
       "                   coef    std err          t      P>|t|      [0.025      0.975]\n",
       "--------------------------------------------------------------------------------\n",
       "Intercept      420.3308      9.748     43.120      0.000     401.178     439.483\n",
       "TP_SEXO[T.M]    17.1055      6.305      2.713      0.007       4.718      29.493\n",
       "TP_ESCOLA       87.5632      7.126     12.288      0.000      73.563     101.563\n",
       "==============================================================================\n",
       "Omnibus:                        0.526   Durbin-Watson:                   2.004\n",
       "Prob(Omnibus):                  0.769   Jarque-Bera (JB):                0.637\n",
       "Skew:                           0.038   Prob(JB):                        0.727\n",
       "Kurtosis:                       2.842   Cond. No.                         6.48\n",
       "==============================================================================\n",
       "\n",
       "Notes:\n",
       "[1] Standard Errors assume that the covariance matrix of the errors is correctly specified.\n",
       "\"\"\""
      ]
     },
     "execution_count": 31,
     "metadata": {},
     "output_type": "execute_result"
    }
   ],
   "source": [
    "# Ajuste do Modelo1\n",
    "modelo1 = smf.ols(formula = 'NU_MED ~ TP_ESCOLA + TP_SEXO', data = enem)\n",
    "modelo1_fit = modelo1.fit()\n",
    "modelo1_fit.summary()"
   ]
  },
  {
   "cell_type": "code",
   "execution_count": 10,
   "id": "195db183",
   "metadata": {},
   "outputs": [
    {
     "data": {
      "text/html": [
       "<table class=\"simpletable\">\n",
       "<caption>OLS Regression Results</caption>\n",
       "<tr>\n",
       "  <th>Dep. Variable:</th>         <td>NU_MED</td>      <th>  R-squared:         </th> <td>   0.002</td>\n",
       "</tr>\n",
       "<tr>\n",
       "  <th>Model:</th>                   <td>OLS</td>       <th>  Adj. R-squared:    </th> <td>   0.000</td>\n",
       "</tr>\n",
       "<tr>\n",
       "  <th>Method:</th>             <td>Least Squares</td>  <th>  F-statistic:       </th> <td>   1.188</td>\n",
       "</tr>\n",
       "<tr>\n",
       "  <th>Date:</th>             <td>Sun, 10 Jul 2022</td> <th>  Prob (F-statistic):</th>  <td> 0.276</td> \n",
       "</tr>\n",
       "<tr>\n",
       "  <th>Time:</th>                 <td>18:06:21</td>     <th>  Log-Likelihood:    </th> <td> -2899.5</td>\n",
       "</tr>\n",
       "<tr>\n",
       "  <th>No. Observations:</th>      <td>   500</td>      <th>  AIC:               </th> <td>   5803.</td>\n",
       "</tr>\n",
       "<tr>\n",
       "  <th>Df Residuals:</th>          <td>   498</td>      <th>  BIC:               </th> <td>   5811.</td>\n",
       "</tr>\n",
       "<tr>\n",
       "  <th>Df Model:</th>              <td>     1</td>      <th>                     </th>     <td> </td>   \n",
       "</tr>\n",
       "<tr>\n",
       "  <th>Covariance Type:</th>      <td>nonrobust</td>    <th>                     </th>     <td> </td>   \n",
       "</tr>\n",
       "</table>\n",
       "<table class=\"simpletable\">\n",
       "<tr>\n",
       "      <td></td>         <th>coef</th>     <th>std err</th>      <th>t</th>      <th>P>|t|</th>  <th>[0.025</th>    <th>0.975]</th>  \n",
       "</tr>\n",
       "<tr>\n",
       "  <th>Intercept</th> <td>  573.4267</td> <td>   32.909</td> <td>   17.425</td> <td> 0.000</td> <td>  508.769</td> <td>  638.084</td>\n",
       "</tr>\n",
       "<tr>\n",
       "  <th>NU_IDADE</th>  <td>   -2.0428</td> <td>    1.874</td> <td>   -1.090</td> <td> 0.276</td> <td>   -5.725</td> <td>    1.640</td>\n",
       "</tr>\n",
       "</table>\n",
       "<table class=\"simpletable\">\n",
       "<tr>\n",
       "  <th>Omnibus:</th>       <td> 6.147</td> <th>  Durbin-Watson:     </th> <td>   2.004</td>\n",
       "</tr>\n",
       "<tr>\n",
       "  <th>Prob(Omnibus):</th> <td> 0.046</td> <th>  Jarque-Bera (JB):  </th> <td>   4.274</td>\n",
       "</tr>\n",
       "<tr>\n",
       "  <th>Skew:</th>          <td> 0.069</td> <th>  Prob(JB):          </th> <td>   0.118</td>\n",
       "</tr>\n",
       "<tr>\n",
       "  <th>Kurtosis:</th>      <td> 2.569</td> <th>  Cond. No.          </th> <td>    162.</td>\n",
       "</tr>\n",
       "</table><br/><br/>Notes:<br/>[1] Standard Errors assume that the covariance matrix of the errors is correctly specified."
      ],
      "text/plain": [
       "<class 'statsmodels.iolib.summary.Summary'>\n",
       "\"\"\"\n",
       "                            OLS Regression Results                            \n",
       "==============================================================================\n",
       "Dep. Variable:                 NU_MED   R-squared:                       0.002\n",
       "Model:                            OLS   Adj. R-squared:                  0.000\n",
       "Method:                 Least Squares   F-statistic:                     1.188\n",
       "Date:                Sun, 10 Jul 2022   Prob (F-statistic):              0.276\n",
       "Time:                        18:06:21   Log-Likelihood:                -2899.5\n",
       "No. Observations:                 500   AIC:                             5803.\n",
       "Df Residuals:                     498   BIC:                             5811.\n",
       "Df Model:                           1                                         \n",
       "Covariance Type:            nonrobust                                         \n",
       "==============================================================================\n",
       "                 coef    std err          t      P>|t|      [0.025      0.975]\n",
       "------------------------------------------------------------------------------\n",
       "Intercept    573.4267     32.909     17.425      0.000     508.769     638.084\n",
       "NU_IDADE      -2.0428      1.874     -1.090      0.276      -5.725       1.640\n",
       "==============================================================================\n",
       "Omnibus:                        6.147   Durbin-Watson:                   2.004\n",
       "Prob(Omnibus):                  0.046   Jarque-Bera (JB):                4.274\n",
       "Skew:                           0.069   Prob(JB):                        0.118\n",
       "Kurtosis:                       2.569   Cond. No.                         162.\n",
       "==============================================================================\n",
       "\n",
       "Notes:\n",
       "[1] Standard Errors assume that the covariance matrix of the errors is correctly specified.\n",
       "\"\"\""
      ]
     },
     "execution_count": 10,
     "metadata": {},
     "output_type": "execute_result"
    }
   ],
   "source": [
    "# Ajuste do Modelo2\n",
    "modelo2 = smf.ols(formula = 'NU_MED ~ NU_IDADE', data = enem)\n",
    "modelo2_fit = modelo2.fit()\n",
    "modelo2_fit.summary()"
   ]
  },
  {
   "cell_type": "code",
   "execution_count": 26,
   "id": "04de4827",
   "metadata": {},
   "outputs": [
    {
     "data": {
      "text/html": [
       "<table class=\"simpletable\">\n",
       "<caption>OLS Regression Results</caption>\n",
       "<tr>\n",
       "  <th>Dep. Variable:</th>         <td>NU_MED</td>      <th>  R-squared:         </th> <td>   0.006</td>\n",
       "</tr>\n",
       "<tr>\n",
       "  <th>Model:</th>                   <td>OLS</td>       <th>  Adj. R-squared:    </th> <td>   0.004</td>\n",
       "</tr>\n",
       "<tr>\n",
       "  <th>Method:</th>             <td>Least Squares</td>  <th>  F-statistic:       </th> <td>   2.793</td>\n",
       "</tr>\n",
       "<tr>\n",
       "  <th>Date:</th>             <td>Sun, 10 Jul 2022</td> <th>  Prob (F-statistic):</th>  <td>0.0953</td> \n",
       "</tr>\n",
       "<tr>\n",
       "  <th>Time:</th>                 <td>18:19:46</td>     <th>  Log-Likelihood:    </th> <td> -2898.7</td>\n",
       "</tr>\n",
       "<tr>\n",
       "  <th>No. Observations:</th>      <td>   500</td>      <th>  AIC:               </th> <td>   5801.</td>\n",
       "</tr>\n",
       "<tr>\n",
       "  <th>Df Residuals:</th>          <td>   498</td>      <th>  BIC:               </th> <td>   5810.</td>\n",
       "</tr>\n",
       "<tr>\n",
       "  <th>Df Model:</th>              <td>     1</td>      <th>                     </th>     <td> </td>   \n",
       "</tr>\n",
       "<tr>\n",
       "  <th>Covariance Type:</th>      <td>nonrobust</td>    <th>                     </th>     <td> </td>   \n",
       "</tr>\n",
       "</table>\n",
       "<table class=\"simpletable\">\n",
       "<tr>\n",
       "      <td></td>         <th>coef</th>     <th>std err</th>      <th>t</th>      <th>P>|t|</th>  <th>[0.025</th>    <th>0.975]</th>  \n",
       "</tr>\n",
       "<tr>\n",
       "  <th>Intercept</th> <td>  512.7844</td> <td>   15.372</td> <td>   33.359</td> <td> 0.000</td> <td>  482.583</td> <td>  542.986</td>\n",
       "</tr>\n",
       "<tr>\n",
       "  <th>Q025[T.B]</th> <td>   26.4141</td> <td>   15.805</td> <td>    1.671</td> <td> 0.095</td> <td>   -4.638</td> <td>   57.466</td>\n",
       "</tr>\n",
       "</table>\n",
       "<table class=\"simpletable\">\n",
       "<tr>\n",
       "  <th>Omnibus:</th>       <td> 5.048</td> <th>  Durbin-Watson:     </th> <td>   2.013</td>\n",
       "</tr>\n",
       "<tr>\n",
       "  <th>Prob(Omnibus):</th> <td> 0.080</td> <th>  Jarque-Bera (JB):  </th> <td>   3.622</td>\n",
       "</tr>\n",
       "<tr>\n",
       "  <th>Skew:</th>          <td> 0.049</td> <th>  Prob(JB):          </th> <td>   0.163</td>\n",
       "</tr>\n",
       "<tr>\n",
       "  <th>Kurtosis:</th>      <td> 2.595</td> <th>  Cond. No.          </th> <td>    8.49</td>\n",
       "</tr>\n",
       "</table><br/><br/>Notes:<br/>[1] Standard Errors assume that the covariance matrix of the errors is correctly specified."
      ],
      "text/plain": [
       "<class 'statsmodels.iolib.summary.Summary'>\n",
       "\"\"\"\n",
       "                            OLS Regression Results                            \n",
       "==============================================================================\n",
       "Dep. Variable:                 NU_MED   R-squared:                       0.006\n",
       "Model:                            OLS   Adj. R-squared:                  0.004\n",
       "Method:                 Least Squares   F-statistic:                     2.793\n",
       "Date:                Sun, 10 Jul 2022   Prob (F-statistic):             0.0953\n",
       "Time:                        18:19:46   Log-Likelihood:                -2898.7\n",
       "No. Observations:                 500   AIC:                             5801.\n",
       "Df Residuals:                     498   BIC:                             5810.\n",
       "Df Model:                           1                                         \n",
       "Covariance Type:            nonrobust                                         \n",
       "==============================================================================\n",
       "                 coef    std err          t      P>|t|      [0.025      0.975]\n",
       "------------------------------------------------------------------------------\n",
       "Intercept    512.7844     15.372     33.359      0.000     482.583     542.986\n",
       "Q025[T.B]     26.4141     15.805      1.671      0.095      -4.638      57.466\n",
       "==============================================================================\n",
       "Omnibus:                        5.048   Durbin-Watson:                   2.013\n",
       "Prob(Omnibus):                  0.080   Jarque-Bera (JB):                3.622\n",
       "Skew:                           0.049   Prob(JB):                        0.163\n",
       "Kurtosis:                       2.595   Cond. No.                         8.49\n",
       "==============================================================================\n",
       "\n",
       "Notes:\n",
       "[1] Standard Errors assume that the covariance matrix of the errors is correctly specified.\n",
       "\"\"\""
      ]
     },
     "execution_count": 26,
     "metadata": {},
     "output_type": "execute_result"
    }
   ],
   "source": [
    "# Ajuste do Modelo3\n",
    "modelo3 = smf.ols(formula = 'NU_MED ~ Q025', data = enem)\n",
    "modelo3_fit = modelo3.fit()\n",
    "modelo3_fit.summary()"
   ]
  },
  {
   "cell_type": "markdown",
   "id": "7f7ad7ac",
   "metadata": {},
   "source": [
    "# Análise de Diagnóstico do modelo\n",
    "\n",
    "### Analise de Residuos\n",
    "\n",
    "O resíduo em um modelo de regressão linear é definido como a diferença entre o valor observado e o valor ajustado da variável resposta.\n",
    "\n",
    "$$e_{i} = y_{i} - {\\hat{y}}_{i}$$\n",
    " \n",
    "Suposições do modelo que devemos checar :\n",
    "\n",
    "Só para lembrar, as suposições feitas no Modelo de Regressão Linear são:\n",
    "\n",
    "* Existe uma relação linear entre x e y\n",
    "* Os erros tem variância constante σ , isto é não depende de x\n",
    "* Os erros são normalmente distribuídos\n",
    "* Os erros são variáveis aleatórias independentes.\n",
    "\n",
    "Então, a partir da observação dos resíduos, seremos capazes de diagnosticar alguns problemas no Modelo de Regressão Linear. São eles:\n",
    "\n",
    "Não linearidade: ausência de uma relação linear entre x e y.\n",
    "Heterocedasticidade: erros com variância σ não constante.\n",
    "Não normalidade: erros não são normalmente distribuíıdos.\n"
   ]
  },
  {
   "cell_type": "code",
   "execution_count": 16,
   "id": "160bd6fd",
   "metadata": {},
   "outputs": [
    {
     "data": {
      "image/png": "[encoded data removed]",
      "text/plain": [
       "<Figure size 576x396 with 1 Axes>"
      ]
     },
     "metadata": {},
     "output_type": "display_data"
    },
    {
     "name": "stdout",
     "output_type": "stream",
     "text": [
      "Statistics=0.994, p=0.035\n",
      "Sample does not look Gaussian (reject H0)\n"
     ]
    }
   ],
   "source": [
    "from scipy import stats\n",
    "from scipy.stats import shapiro\n",
    "\n",
    "# GRÁFICO QQ - NORMALIDADE #\n",
    "\n",
    "modelo_residuo = modelo1_fit.resid\n",
    "modelo_y_ajustado = modelo1_fit.fittedvalues\n",
    "\n",
    "sm.qqplot(modelo_residuo, line=\"45\", fit=True,dist=stats.norm)\n",
    "plt.show()\n",
    "\n",
    "#Teste Shapiro-Wilk para normalidade dos residuos\n",
    "stat, p = shapiro(modelo_residuo)\n",
    "print('Statistics=%.3f, p=%.3f' % (stat, p))\n",
    "# interpretação\n",
    "alpha = 0.05\n",
    "if p > alpha:print('Sample looks Gaussian (fail to reject H0)')\n",
    "else:print('Sample does not look Gaussian (reject H0)')"
   ]
  },
  {
   "cell_type": "code",
   "execution_count": 17,
   "id": "4f11a402",
   "metadata": {},
   "outputs": [
    {
     "data": {
      "image/png": "[encoded data removed]",
      "text/plain": [
       "<Figure size 576x396 with 1 Axes>"
      ]
     },
     "metadata": {},
     "output_type": "display_data"
    }
   ],
   "source": [
    "# GRÁFICO PARA LINEARIDADE E HOMOCEDASTICIDADE #\n",
    "\n",
    "sns.residplot(modelo_y_ajustado, modelo_residuo, \n",
    "                          lowess=True,\n",
    "                          line_kws={'color': 'red', 'lw': 1, 'alpha': 0.8})\n",
    "plt.axhline(y = 2, linestyle='dashed')\n",
    "plt.axhline(y = -2, linestyle='dashed')\n",
    "plt.ylabel('Resíduo')\n",
    "plt.xlabel('Valor ajustado')\n",
    "plt.show()"
   ]
  },
  {
   "cell_type": "code",
   "execution_count": 18,
   "id": "3c0c805b",
   "metadata": {},
   "outputs": [
    {
     "name": "stdout",
     "output_type": "stream",
     "text": [
      "[('Breusch pagan statistic', 0.45458241375134767), ('p-value', 0.5001668338714469)]\n",
      "\n",
      "[('Goldfeld-Quandt - statistic', 0.8865481328212862), ('p-value', 0.8281668350241826)]\n",
      "\n",
      "[('White’s statistic', 0.45458241375129216), ('p-value', 0.5001668338714731)]\n",
      "\n"
     ]
    }
   ],
   "source": [
    "import statsmodels.stats.api as sms\n",
    "from statsmodels.compat import lzip\n",
    "from statsmodels.stats.diagnostic import het_white\n",
    "\n",
    "\n",
    "#Testes de Heterocedasticidade\n",
    "\n",
    "#Breush-Pagan test:\n",
    "\n",
    "name = [\"Breusch pagan statistic\", \"p-value\"]\n",
    "test = sms.het_breuschpagan(modelo_residuo, modelo1_fit.model.exog)\n",
    "print(lzip(name, test))\n",
    "print()\n",
    "\n",
    "#Goldfeld-Quandt test\n",
    "\n",
    "name = [\"Goldfeld-Quandt - statistic\", \"p-value\"]\n",
    "test = sms.het_goldfeldquandt(modelo_residuo, modelo1_fit.model.exog)\n",
    "print(lzip(name, test))\n",
    "print()\n",
    "\n",
    "#White’s Test\n",
    "name = [\"White’s statistic\", \"p-value\"]\n",
    "test = het_white(modelo_residuo, modelo1_fit.model.exog)\n",
    "print(lzip(name, test))\n",
    "print()\n"
   ]
  },
  {
   "cell_type": "markdown",
   "id": "c4edcc9d",
   "metadata": {},
   "source": [
    "## Análise de outliers e pontos influentes"
   ]
  },
  {
   "cell_type": "code",
   "execution_count": 19,
   "id": "faa24b53",
   "metadata": {},
   "outputs": [
    {
     "name": "stdout",
     "output_type": "stream",
     "text": [
      "   dfb_Intercept  dfb_TP_SEXO[T.M]  cooks_d  standard_resid  hat_diag  \\\n",
      "0          0.045            -0.030    0.001           0.766     0.003   \n",
      "1          0.034            -0.022    0.001           0.582     0.003   \n",
      "2          0.076            -0.050    0.003           1.286     0.003   \n",
      "3          0.000             0.056    0.003           1.079     0.005   \n",
      "4          0.000             0.019    0.000           0.358     0.005   \n",
      "5         -0.093             0.061    0.004          -1.568     0.003   \n",
      "6         -0.041             0.027    0.001          -0.695     0.003   \n",
      "7         -0.035             0.023    0.001          -0.587     0.003   \n",
      "8          0.000             0.026    0.001           0.505     0.005   \n",
      "9          0.000             0.034    0.001           0.661     0.005   \n",
      "\n",
      "   dffits_internal  student_resid  dffits  \n",
      "0            0.045          0.766   0.045  \n",
      "1            0.034          0.582   0.034  \n",
      "2            0.076          1.287   0.076  \n",
      "3            0.074          1.079   0.074  \n",
      "4            0.025          0.358   0.025  \n",
      "5           -0.093         -1.570  -0.093  \n",
      "6           -0.041         -0.695  -0.041  \n",
      "7           -0.035         -0.586  -0.035  \n",
      "8            0.035          0.505   0.035  \n",
      "9            0.045          0.661   0.045  \n"
     ]
    }
   ],
   "source": [
    "from statsmodels.graphics.regressionplots import *\n",
    "\n",
    "#https://www.statsmodels.org/dev/generated/statsmodels.stats.outliers_influence.OLSInfluence.html#statsmodels.stats.outliers_influence.OLSInfluence\n",
    "    \n",
    "influence = modelo1_fit.get_influence()\n",
    "inf_sum = influence.summary_frame().round(3)\n",
    "\n",
    "#Algumas métricas de avaliação de de pontos influentes.\n",
    "print(inf_sum.head(10))"
   ]
  },
  {
   "cell_type": "code",
   "execution_count": 20,
   "id": "01dedc6b",
   "metadata": {},
   "outputs": [
    {
     "data": {
      "image/png": "[encoded data removed]",
      "text/plain": [
       "<Figure size 576x396 with 1 Axes>"
      ]
     },
     "metadata": {},
     "output_type": "display_data"
    }
   ],
   "source": [
    "#Avaliação da Distancia de Coock para identificar pontos influentes\n",
    "cooks = influence.cooks_distance\n",
    "X = enem[['NU_IDADE']]\n",
    "\n",
    "plt.plot(cooks[0])\n",
    "plt.xlabel('x')\n",
    "plt.ylabel('Cooks Distance')\n",
    "plt.show()"
   ]
  },
  {
   "cell_type": "code",
   "execution_count": 21,
   "id": "9543c419",
   "metadata": {},
   "outputs": [
    {
     "data": {
      "image/png": "[encoded data removed]",
      "text/plain": [
       "<Figure size 576x396 with 1 Axes>"
      ]
     },
     "metadata": {},
     "output_type": "display_data"
    }
   ],
   "source": [
    "#Avaliação dos residuos Studentizados para identificar pontos influentes\n",
    "student_resid = influence.resid_studentized_internal\n",
    "plt.plot(student_resid)\n",
    "plt.xlabel('x')\n",
    "plt.ylabel('Resíduos normalizados')\n",
    "plt.show()"
   ]
  },
  {
   "cell_type": "code",
   "execution_count": 22,
   "id": "8e019d7b",
   "metadata": {},
   "outputs": [
    {
     "name": "stdout",
     "output_type": "stream",
     "text": [
      "   VIF Factor      Variable\n",
      "0         1.0  TP_SEXO[T.M]\n"
     ]
    }
   ],
   "source": [
    "from statsmodels.stats.outliers_influence import variance_inflation_factor\n",
    "\n",
    "#Cria um banco de dados para verificar a inflação da variancia pelas variavéis\n",
    "vif = pd.DataFrame()\n",
    "\n",
    "vif[\"VIF Factor\"] = [variance_inflation_factor(modelo1_fit.model.exog, i) for i in range(1, modelo1_fit.model.exog.shape[1])]\n",
    "vif[\"Variable\"]   = modelo1_fit.model.exog_names[1:]\n",
    "print(vif)"
   ]
  },
  {
   "cell_type": "markdown",
   "id": "e38a2caf",
   "metadata": {},
   "source": [
    "## Algumas transformações que podem ser uteis\n"
   ]
  },
  {
   "cell_type": "code",
   "execution_count": 23,
   "id": "b82b7bf9",
   "metadata": {},
   "outputs": [
    {
     "data": {
      "text/html": [
       "<div>\n",
       "<style scoped>\n",
       "    .dataframe tbody tr th:only-of-type {\n",
       "        vertical-align: middle;\n",
       "    }\n",
       "\n",
       "    .dataframe tbody tr th {\n",
       "        vertical-align: top;\n",
       "    }\n",
       "\n",
       "    .dataframe thead th {\n",
       "        text-align: right;\n",
       "    }\n",
       "</style>\n",
       "<table border=\"1\" class=\"dataframe\">\n",
       "  <thead>\n",
       "    <tr style=\"text-align: right;\">\n",
       "      <th></th>\n",
       "      <th>SG_UF_RESIDENCIA</th>\n",
       "      <th>NU_IDADE</th>\n",
       "      <th>TP_SEXO</th>\n",
       "      <th>TP_ESTADO_CIVIL</th>\n",
       "      <th>TP_COR_RACA</th>\n",
       "      <th>TP_ESCOLA</th>\n",
       "      <th>Q001</th>\n",
       "      <th>Q002</th>\n",
       "      <th>Q005</th>\n",
       "      <th>Q006</th>\n",
       "      <th>Q025</th>\n",
       "      <th>NU_MED</th>\n",
       "      <th>MED_SD</th>\n",
       "      <th>Q001_Dummy</th>\n",
       "      <th>Feminino</th>\n",
       "      <th>Masculino</th>\n",
       "    </tr>\n",
       "  </thead>\n",
       "  <tbody>\n",
       "    <tr>\n",
       "      <th>0</th>\n",
       "      <td>SP</td>\n",
       "      <td>17</td>\n",
       "      <td>F</td>\n",
       "      <td>1</td>\n",
       "      <td>1</td>\n",
       "      <td>2</td>\n",
       "      <td>C</td>\n",
       "      <td>C</td>\n",
       "      <td>4</td>\n",
       "      <td>B</td>\n",
       "      <td>B</td>\n",
       "      <td>589.70</td>\n",
       "      <td>0.649602</td>\n",
       "      <td>2.0</td>\n",
       "      <td>1.0</td>\n",
       "      <td>0.0</td>\n",
       "    </tr>\n",
       "    <tr>\n",
       "      <th>1</th>\n",
       "      <td>SP</td>\n",
       "      <td>17</td>\n",
       "      <td>F</td>\n",
       "      <td>1</td>\n",
       "      <td>1</td>\n",
       "      <td>2</td>\n",
       "      <td>C</td>\n",
       "      <td>C</td>\n",
       "      <td>4</td>\n",
       "      <td>D</td>\n",
       "      <td>B</td>\n",
       "      <td>575.10</td>\n",
       "      <td>0.466960</td>\n",
       "      <td>2.0</td>\n",
       "      <td>1.0</td>\n",
       "      <td>0.0</td>\n",
       "    </tr>\n",
       "    <tr>\n",
       "      <th>2</th>\n",
       "      <td>SP</td>\n",
       "      <td>17</td>\n",
       "      <td>F</td>\n",
       "      <td>1</td>\n",
       "      <td>1</td>\n",
       "      <td>2</td>\n",
       "      <td>C</td>\n",
       "      <td>C</td>\n",
       "      <td>2</td>\n",
       "      <td>D</td>\n",
       "      <td>B</td>\n",
       "      <td>630.90</td>\n",
       "      <td>1.165002</td>\n",
       "      <td>2.0</td>\n",
       "      <td>1.0</td>\n",
       "      <td>0.0</td>\n",
       "    </tr>\n",
       "    <tr>\n",
       "      <th>3</th>\n",
       "      <td>SP</td>\n",
       "      <td>18</td>\n",
       "      <td>M</td>\n",
       "      <td>1</td>\n",
       "      <td>1</td>\n",
       "      <td>2</td>\n",
       "      <td>B</td>\n",
       "      <td>B</td>\n",
       "      <td>3</td>\n",
       "      <td>C</td>\n",
       "      <td>B</td>\n",
       "      <td>635.20</td>\n",
       "      <td>1.218794</td>\n",
       "      <td>1.0</td>\n",
       "      <td>0.0</td>\n",
       "      <td>1.0</td>\n",
       "    </tr>\n",
       "    <tr>\n",
       "      <th>4</th>\n",
       "      <td>SP</td>\n",
       "      <td>18</td>\n",
       "      <td>M</td>\n",
       "      <td>1</td>\n",
       "      <td>1</td>\n",
       "      <td>2</td>\n",
       "      <td>B</td>\n",
       "      <td>A</td>\n",
       "      <td>3</td>\n",
       "      <td>D</td>\n",
       "      <td>B</td>\n",
       "      <td>578.06</td>\n",
       "      <td>0.503989</td>\n",
       "      <td>1.0</td>\n",
       "      <td>0.0</td>\n",
       "      <td>1.0</td>\n",
       "    </tr>\n",
       "    <tr>\n",
       "      <th>5</th>\n",
       "      <td>SP</td>\n",
       "      <td>17</td>\n",
       "      <td>F</td>\n",
       "      <td>1</td>\n",
       "      <td>2</td>\n",
       "      <td>1</td>\n",
       "      <td>A</td>\n",
       "      <td>A</td>\n",
       "      <td>6</td>\n",
       "      <td>C</td>\n",
       "      <td>B</td>\n",
       "      <td>404.60</td>\n",
       "      <td>-1.665946</td>\n",
       "      <td>0.0</td>\n",
       "      <td>1.0</td>\n",
       "      <td>0.0</td>\n",
       "    </tr>\n",
       "    <tr>\n",
       "      <th>6</th>\n",
       "      <td>SP</td>\n",
       "      <td>17</td>\n",
       "      <td>F</td>\n",
       "      <td>1</td>\n",
       "      <td>1</td>\n",
       "      <td>1</td>\n",
       "      <td>A</td>\n",
       "      <td>B</td>\n",
       "      <td>4</td>\n",
       "      <td>C</td>\n",
       "      <td>B</td>\n",
       "      <td>473.84</td>\n",
       "      <td>-0.799773</td>\n",
       "      <td>0.0</td>\n",
       "      <td>1.0</td>\n",
       "      <td>0.0</td>\n",
       "    </tr>\n",
       "    <tr>\n",
       "      <th>7</th>\n",
       "      <td>SP</td>\n",
       "      <td>17</td>\n",
       "      <td>F</td>\n",
       "      <td>1</td>\n",
       "      <td>1</td>\n",
       "      <td>1</td>\n",
       "      <td>A</td>\n",
       "      <td>A</td>\n",
       "      <td>8</td>\n",
       "      <td>B</td>\n",
       "      <td>B</td>\n",
       "      <td>482.42</td>\n",
       "      <td>-0.692440</td>\n",
       "      <td>0.0</td>\n",
       "      <td>1.0</td>\n",
       "      <td>0.0</td>\n",
       "    </tr>\n",
       "    <tr>\n",
       "      <th>8</th>\n",
       "      <td>SP</td>\n",
       "      <td>17</td>\n",
       "      <td>M</td>\n",
       "      <td>1</td>\n",
       "      <td>1</td>\n",
       "      <td>1</td>\n",
       "      <td>A</td>\n",
       "      <td>A</td>\n",
       "      <td>4</td>\n",
       "      <td>C</td>\n",
       "      <td>B</td>\n",
       "      <td>589.68</td>\n",
       "      <td>0.649352</td>\n",
       "      <td>0.0</td>\n",
       "      <td>0.0</td>\n",
       "      <td>1.0</td>\n",
       "    </tr>\n",
       "    <tr>\n",
       "      <th>9</th>\n",
       "      <td>SP</td>\n",
       "      <td>17</td>\n",
       "      <td>M</td>\n",
       "      <td>1</td>\n",
       "      <td>2</td>\n",
       "      <td>1</td>\n",
       "      <td>A</td>\n",
       "      <td>B</td>\n",
       "      <td>5</td>\n",
       "      <td>D</td>\n",
       "      <td>B</td>\n",
       "      <td>602.06</td>\n",
       "      <td>0.804222</td>\n",
       "      <td>0.0</td>\n",
       "      <td>0.0</td>\n",
       "      <td>1.0</td>\n",
       "    </tr>\n",
       "  </tbody>\n",
       "</table>\n",
       "</div>"
      ],
      "text/plain": [
       "  SG_UF_RESIDENCIA  NU_IDADE TP_SEXO TP_ESTADO_CIVIL TP_COR_RACA  TP_ESCOLA  \\\n",
       "0               SP        17       F               1           1          2   \n",
       "1               SP        17       F               1           1          2   \n",
       "2               SP        17       F               1           1          2   \n",
       "3               SP        18       M               1           1          2   \n",
       "4               SP        18       M               1           1          2   \n",
       "5               SP        17       F               1           2          1   \n",
       "6               SP        17       F               1           1          1   \n",
       "7               SP        17       F               1           1          1   \n",
       "8               SP        17       M               1           1          1   \n",
       "9               SP        17       M               1           2          1   \n",
       "\n",
       "  Q001 Q002  Q005 Q006 Q025  NU_MED    MED_SD  Q001_Dummy  Feminino  Masculino  \n",
       "0    C    C     4    B    B  589.70  0.649602         2.0       1.0        0.0  \n",
       "1    C    C     4    D    B  575.10  0.466960         2.0       1.0        0.0  \n",
       "2    C    C     2    D    B  630.90  1.165002         2.0       1.0        0.0  \n",
       "3    B    B     3    C    B  635.20  1.218794         1.0       0.0        1.0  \n",
       "4    B    A     3    D    B  578.06  0.503989         1.0       0.0        1.0  \n",
       "5    A    A     6    C    B  404.60 -1.665946         0.0       1.0        0.0  \n",
       "6    A    B     4    C    B  473.84 -0.799773         0.0       1.0        0.0  \n",
       "7    A    A     8    B    B  482.42 -0.692440         0.0       1.0        0.0  \n",
       "8    A    A     4    C    B  589.68  0.649352         0.0       0.0        1.0  \n",
       "9    A    B     5    D    B  602.06  0.804222         0.0       0.0        1.0  "
      ]
     },
     "execution_count": 23,
     "metadata": {},
     "output_type": "execute_result"
    }
   ],
   "source": [
    "#Importando as funções de pré processamento\n",
    "from sklearn.preprocessing import StandardScaler, RobustScaler, OneHotEncoder, OrdinalEncoder\n",
    "\n",
    "#Criando a varial Media padronizada\n",
    "enem[\"MED_SD\"] = StandardScaler().fit(enem[['NU_MED']]).transform(enem[['NU_MED']])\n",
    "\n",
    "#Codificação ordinal para escolaridade do Pai\n",
    "enem[\"Q001_Dummy\"] = OrdinalEncoder().fit(enem[['Q001']]).transform(enem[['Q001']]) #Codifica a variavel de n niveis em n variaveis\n",
    "\n",
    "#Discretizando a variavel sexo com OneHotEncoder\n",
    "sexo = OneHotEncoder().fit_transform(enem[['TP_SEXO']]).toarray() #Codifica a variavel de n niveis em n variaveis\n",
    "sexo = pd.DataFrame(sexo) #Transforma essas novas variaveis em um dataframe\n",
    "sexo.rename(columns = {0:'Feminino', 1:'Masculino'}, inplace = True) #Atribui nome pra identificação\n",
    "enem = pd.concat([enem, sexo], axis=1, join='inner') #Concatena o banco o original com as variaveis criadas na codificação\n",
    "\n",
    "enem.head(10)"
   ]
  }
 ],
 "metadata": {
  "kernelspec": {
   "display_name": "Python 3.9.7 ('base')",
   "language": "python",
   "name": "python3"
  },
  "language_info": {
   "codemirror_mode": {
    "name": "ipython",
    "version": 3
   },
   "file_extension": ".py",
   "mimetype": "text/x-python",
   "name": "python",
   "nbconvert_exporter": "python",
   "pygments_lexer": "ipython3",
   "version": "3.9.7"
  },
  "vscode": {
   "interpreter": {
    "hash": "ad2bdc8ecc057115af97d19610ffacc2b4e99fae6737bb82f5d7fb13d2f2c186"
   }
  }
 },
 "nbformat": 4,
 "nbformat_minor": 5
}
