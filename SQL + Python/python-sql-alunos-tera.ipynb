{
 "cells": [
  {
   "cell_type": "markdown",
   "id": "f4f977da",
   "metadata": {},
   "source": [
    "# Utilizando SQL com Python"
   ]
  },
  {
   "cell_type": "markdown",
   "id": "fd5e8588",
   "metadata": {},
   "source": [
    "![title](img/sql.jpeg)"
   ]
  },
  {
   "cell_type": "code",
   "execution_count": 6,
   "id": "9709040e",
   "metadata": {},
   "outputs": [
    {
     "data": {
      "application/javascript": [
       "\n",
       "            setTimeout(function() {\n",
       "                var nbb_cell_id = 6;\n",
       "                var nbb_unformatted_code = \"# load da biblioteca nb_black que transforma c\\u00f3digos para o padr\\u00e3o da PEP8\\n\\n#!pip install nb_black\\n\\n#%load_ext nb_black\\n\\n%reload_ext nb_black\";\n",
       "                var nbb_formatted_code = \"# load da biblioteca nb_black que transforma c\\u00f3digos para o padr\\u00e3o da PEP8\\n\\n#!pip install nb_black\\n\\n#%load_ext nb_black\\n\\n%reload_ext nb_black\";\n",
       "                var nbb_cells = Jupyter.notebook.get_cells();\n",
       "                for (var i = 0; i < nbb_cells.length; ++i) {\n",
       "                    if (nbb_cells[i].input_prompt_number == nbb_cell_id) {\n",
       "                        if (nbb_cells[i].get_text() == nbb_unformatted_code) {\n",
       "                             nbb_cells[i].set_text(nbb_formatted_code);\n",
       "                        }\n",
       "                        break;\n",
       "                    }\n",
       "                }\n",
       "            }, 500);\n",
       "            "
      ],
      "text/plain": [
       "<IPython.core.display.Javascript object>"
      ]
     },
     "metadata": {},
     "output_type": "display_data"
    }
   ],
   "source": [
    "# load da biblioteca nb_black que transforma códigos para o padrão da PEP8\n",
    "\n",
    "#!pip install nb_black\n",
    "\n",
    "#%load_ext nb_black\n",
    "\n",
    "%reload_ext nb_black"
   ]
  },
  {
   "cell_type": "markdown",
   "id": "235c584f",
   "metadata": {},
   "source": [
    "## Comados DDL:\n",
    "\n",
    "- CREATE\n",
    "- ALTER\n",
    "- DROP\n"
   ]
  },
  {
   "cell_type": "markdown",
   "id": "ca457779",
   "metadata": {},
   "source": [
    "### CREATE"
   ]
  },
  {
   "cell_type": "code",
   "execution_count": 57,
   "id": "f7c78154",
   "metadata": {},
   "outputs": [
    {
     "name": "stdout",
     "output_type": "stream",
     "text": [
      "Tabela criada com sucesso........\n"
     ]
    },
    {
     "data": {
      "application/javascript": [
       "\n",
       "            setTimeout(function() {\n",
       "                var nbb_cell_id = 57;\n",
       "                var nbb_unformatted_code = \"#importando a biblioteca Sqlite3 (nativa do Python, n\\u00e3o precisa ser instalada)\\n#acesso ao m\\u00f3dulo Sqlite3\\n\\nimport sqlite3\\n\\n#a fun\\u00e7\\u00e3o .connect() retorna um objeto de conex\\u00e3o que usaremos para interagir com o BD\\n# contido no caminho especificado. No nosso caso esse BD ainda n\\u00e3o existe. (ser\\u00e1 criado automaticamente)\\nconn = sqlite3.connect(\\\"exemplo.db\\\")\\n\\n# Criando um objeto cursor usando o m\\u00e9todo .cursor()\\n#esse m\\u00e9todo permite que enviemos instru\\u00e7\\u00f5es SQL para um banco de dados SQLite\\ncursor = conn.cursor()\\n\\n# consulta para dropar a tabela se ela j\\u00e1 existir\\nconsulta = '''DROP TABLE IF EXISTS FUNCIONARIOS'''\\n\\n# executa a query que queremos no BD\\ncursor.execute(consulta)\\n\\n\\n# CRIEI UMA TABELA FUNCIONARIOS \\n\\nconsulta = \\\"\\\"\\\"CREATE TABLE FUNCIONARIOS(\\n   id INTEGER PRIMARY KEY AUTOINCREMENT NOT NULL,\\n   primeiro_nome CHAR(20) NOT NULL,\\n   ultimo_nome CHAR(20),\\n   idade INT,\\n   sexo CHAR(1),\\n   salario FLOAT\\n);\\\"\\\"\\\"\\n\\ncursor.execute(consulta)\\nprint(\\\"Tabela criada com sucesso........\\\")\";\n",
       "                var nbb_formatted_code = \"# importando a biblioteca Sqlite3 (nativa do Python, n\\u00e3o precisa ser instalada)\\n# acesso ao m\\u00f3dulo Sqlite3\\n\\nimport sqlite3\\n\\n# a fun\\u00e7\\u00e3o .connect() retorna um objeto de conex\\u00e3o que usaremos para interagir com o BD\\n# contido no caminho especificado. No nosso caso esse BD ainda n\\u00e3o existe. (ser\\u00e1 criado automaticamente)\\nconn = sqlite3.connect(\\\"exemplo.db\\\")\\n\\n# Criando um objeto cursor usando o m\\u00e9todo .cursor()\\n# esse m\\u00e9todo permite que enviemos instru\\u00e7\\u00f5es SQL para um banco de dados SQLite\\ncursor = conn.cursor()\\n\\n# consulta para dropar a tabela se ela j\\u00e1 existir\\nconsulta = \\\"\\\"\\\"DROP TABLE IF EXISTS FUNCIONARIOS\\\"\\\"\\\"\\n\\n# executa a query que queremos no BD\\ncursor.execute(consulta)\\n\\n\\n# CRIEI UMA TABELA FUNCIONARIOS\\n\\nconsulta = \\\"\\\"\\\"CREATE TABLE FUNCIONARIOS(\\n   id INTEGER PRIMARY KEY AUTOINCREMENT NOT NULL,\\n   primeiro_nome CHAR(20) NOT NULL,\\n   ultimo_nome CHAR(20),\\n   idade INT,\\n   sexo CHAR(1),\\n   salario FLOAT\\n);\\\"\\\"\\\"\\n\\ncursor.execute(consulta)\\nprint(\\\"Tabela criada com sucesso........\\\")\";\n",
       "                var nbb_cells = Jupyter.notebook.get_cells();\n",
       "                for (var i = 0; i < nbb_cells.length; ++i) {\n",
       "                    if (nbb_cells[i].input_prompt_number == nbb_cell_id) {\n",
       "                        if (nbb_cells[i].get_text() == nbb_unformatted_code) {\n",
       "                             nbb_cells[i].set_text(nbb_formatted_code);\n",
       "                        }\n",
       "                        break;\n",
       "                    }\n",
       "                }\n",
       "            }, 500);\n",
       "            "
      ],
      "text/plain": [
       "<IPython.core.display.Javascript object>"
      ]
     },
     "metadata": {},
     "output_type": "display_data"
    }
   ],
   "source": [
    "#importando a biblioteca Sqlite3 (nativa do Python, não precisa ser instalada)\n",
    "#acesso ao módulo Sqlite3\n",
    "\n",
    "import sqlite3\n",
    "\n",
    "#a função .connect() retorna um objeto de conexão que usaremos para interagir com o BD\n",
    "# contido no caminho especificado. No nosso caso esse BD ainda não existe. (será criado automaticamente)\n",
    "conn = sqlite3.connect(\".db\")\n",
    "\n",
    "# Criando um objeto cursor usando o método .cursor()\n",
    "#esse método permite que enviemos instruções SQL para um banco de dados SQLite\n",
    "cursor = conn.cursor()\n",
    "\n",
    "# consulta para dropar a tabela se ela já existir\n",
    "consulta = ''' '''\n",
    "\n",
    "# executa a query que queremos no BD\n",
    "cursor.execute(consulta)\n",
    "\n",
    "\n",
    "# CRIEI UMA TABELA FUNCIONARIOS \n",
    "\n",
    "consulta = \"\"\" \"\"\"\n",
    "\n",
    "cursor.execute(consulta)\n",
    "print(\"Tabela criada com sucesso........\")\n"
   ]
  },
  {
   "cell_type": "markdown",
   "id": "a77a0fdb",
   "metadata": {},
   "source": [
    "## Comados DML:\n",
    "\n",
    "- INSERT\n",
    "- UPDATE\n",
    "- DELETE"
   ]
  },
  {
   "cell_type": "markdown",
   "id": "bfed17cd",
   "metadata": {},
   "source": [
    "### INSERT"
   ]
  },
  {
   "cell_type": "code",
   "execution_count": 58,
   "id": "56f38841",
   "metadata": {},
   "outputs": [
    {
     "name": "stdout",
     "output_type": "stream",
     "text": [
      "Dados inseridos.........\n"
     ]
    },
    {
     "data": {
      "application/javascript": [
       "\n",
       "            setTimeout(function() {\n",
       "                var nbb_cell_id = 58;\n",
       "                var nbb_unformatted_code = \"# Criando consultas de inser\\u00e7\\u00e3o de dados\\n\\ncursor.execute(\\n    \\\"\\\"\\\"INSERT INTO FUNCIONARIOS(\\n   primeiro_nome, ultimo_nome, idade, sexo, salario) VALUES \\n   ('Pedro', 'Skooby', 35, 'M', 9000);\\\"\\\"\\\"\\n)\\n\\ncursor.execute(\\n    \\\"\\\"\\\"INSERT INTO FUNCIONARIOS(\\n   primeiro_nome, ultimo_nome, idade, sexo, salario) VALUES \\n   ('Maria', 'Silva', 28, 'F', 1200);\\\"\\\"\\\"\\n)\\n\\ncursor.execute(\\n    \\\"\\\"\\\"INSERT INTO FUNCIONARIOS(\\n   primeiro_nome, ultimo_nome, idade, sexo, salario) VALUES \\n   ('Luiza', 'Matos', 23, 'F', 3500);\\\"\\\"\\\"\\n)\\n\\ncursor.execute(\\n    \\\"\\\"\\\"INSERT INTO FUNCIONARIOS(\\n   primeiro_nome, ultimo_nome, idade, sexo, salario) VALUES \\n   ('Lorran', 'Oliveira', 32, 'M', 5000);\\\"\\\"\\\"\\n)\\n\\ncursor.execute(\\n    \\\"\\\"\\\"INSERT INTO FUNCIONARIOS(\\n   primeiro_nome, ultimo_nome, idade, sexo, salario) VALUES \\n   ('Bruno', 'Barbosa', 37, 'M', 6000);\\\"\\\"\\\"\\n)\\n\\n# Commit your changes in the database\\nconn.commit()\\nprint(\\\"Dados inseridos.........\\\")\";\n",
       "                var nbb_formatted_code = \"# Criando consultas de inser\\u00e7\\u00e3o de dados\\n\\ncursor.execute(\\n    \\\"\\\"\\\"INSERT INTO FUNCIONARIOS(\\n   primeiro_nome, ultimo_nome, idade, sexo, salario) VALUES \\n   ('Pedro', 'Skooby', 35, 'M', 9000);\\\"\\\"\\\"\\n)\\n\\ncursor.execute(\\n    \\\"\\\"\\\"INSERT INTO FUNCIONARIOS(\\n   primeiro_nome, ultimo_nome, idade, sexo, salario) VALUES \\n   ('Maria', 'Silva', 28, 'F', 1200);\\\"\\\"\\\"\\n)\\n\\ncursor.execute(\\n    \\\"\\\"\\\"INSERT INTO FUNCIONARIOS(\\n   primeiro_nome, ultimo_nome, idade, sexo, salario) VALUES \\n   ('Luiza', 'Matos', 23, 'F', 3500);\\\"\\\"\\\"\\n)\\n\\ncursor.execute(\\n    \\\"\\\"\\\"INSERT INTO FUNCIONARIOS(\\n   primeiro_nome, ultimo_nome, idade, sexo, salario) VALUES \\n   ('Lorran', 'Oliveira', 32, 'M', 5000);\\\"\\\"\\\"\\n)\\n\\ncursor.execute(\\n    \\\"\\\"\\\"INSERT INTO FUNCIONARIOS(\\n   primeiro_nome, ultimo_nome, idade, sexo, salario) VALUES \\n   ('Bruno', 'Barbosa', 37, 'M', 6000);\\\"\\\"\\\"\\n)\\n\\n# Commit your changes in the database\\nconn.commit()\\nprint(\\\"Dados inseridos.........\\\")\";\n",
       "                var nbb_cells = Jupyter.notebook.get_cells();\n",
       "                for (var i = 0; i < nbb_cells.length; ++i) {\n",
       "                    if (nbb_cells[i].input_prompt_number == nbb_cell_id) {\n",
       "                        if (nbb_cells[i].get_text() == nbb_unformatted_code) {\n",
       "                             nbb_cells[i].set_text(nbb_formatted_code);\n",
       "                        }\n",
       "                        break;\n",
       "                    }\n",
       "                }\n",
       "            }, 500);\n",
       "            "
      ],
      "text/plain": [
       "<IPython.core.display.Javascript object>"
      ]
     },
     "metadata": {},
     "output_type": "display_data"
    }
   ],
   "source": [
    "# Criando consultas de inserção de dados\n",
    "\n",
    "cursor.execute(\n",
    "    \"\"\" \"\"\"\n",
    ")\n",
    "\n",
    "cursor.execute(\n",
    "    \"\"\" \"\"\"\n",
    ")\n",
    "\n",
    "cursor.execute(\n",
    "    \"\"\" \"\"\"\n",
    ")\n",
    "\n",
    "cursor.execute(\n",
    "    \"\"\" \"\"\"\n",
    ")\n",
    "\n",
    "cursor.execute(\n",
    "    \"\"\" \"\"\"\n",
    ")\n",
    "\n",
    "# Commit your changes in the database\n",
    "conn.commit()\n",
    "print(\"Dados inseridos.........\")\n"
   ]
  },
  {
   "cell_type": "markdown",
   "id": "69a92545",
   "metadata": {},
   "source": [
    "### Comandos DQL\n"
   ]
  },
  {
   "cell_type": "markdown",
   "id": "c0f44d11",
   "metadata": {},
   "source": [
    "### SELECT"
   ]
  },
  {
   "cell_type": "code",
   "execution_count": 59,
   "id": "7847d56a",
   "metadata": {},
   "outputs": [
    {
     "name": "stdout",
     "output_type": "stream",
     "text": [
      "[(1, 'Pedro', 'Skooby', 35, 'M', 9000.0), (2, 'Maria', 'Silva', 28, 'F', 1200.0), (3, 'Luiza', 'Matos', 23, 'F', 3500.0), (4, 'Lorran', 'Oliveira', 32, 'M', 5000.0), (5, 'Bruno', 'Barbosa', 37, 'M', 6000.0)]\n"
     ]
    },
    {
     "data": {
      "application/javascript": [
       "\n",
       "            setTimeout(function() {\n",
       "                var nbb_cell_id = 59;\n",
       "                var nbb_unformatted_code = \"consulta = \\\"\\\"\\\"SELECT * from FUNCIONARIOS;\\\"\\\"\\\"\\n\\ncursor.execute(consulta)\\n\\nprint(cursor.fetchall())\";\n",
       "                var nbb_formatted_code = \"consulta = \\\"\\\"\\\"SELECT * from FUNCIONARIOS;\\\"\\\"\\\"\\n\\ncursor.execute(consulta)\\n\\nprint(cursor.fetchall())\";\n",
       "                var nbb_cells = Jupyter.notebook.get_cells();\n",
       "                for (var i = 0; i < nbb_cells.length; ++i) {\n",
       "                    if (nbb_cells[i].input_prompt_number == nbb_cell_id) {\n",
       "                        if (nbb_cells[i].get_text() == nbb_unformatted_code) {\n",
       "                             nbb_cells[i].set_text(nbb_formatted_code);\n",
       "                        }\n",
       "                        break;\n",
       "                    }\n",
       "                }\n",
       "            }, 500);\n",
       "            "
      ],
      "text/plain": [
       "<IPython.core.display.Javascript object>"
      ]
     },
     "metadata": {},
     "output_type": "display_data"
    }
   ],
   "source": [
    "consulta = \"\"\" \"\"\"\n",
    "\n",
    "cursor.execute(consulta)\n",
    "\n",
    "print(cursor.fetchall())"
   ]
  },
  {
   "cell_type": "code",
   "execution_count": 60,
   "id": "2a917e86",
   "metadata": {},
   "outputs": [
    {
     "name": "stdout",
     "output_type": "stream",
     "text": [
      "(1, 'Pedro', 'Skooby', 35, 'M', 9000.0)\n",
      "(2, 'Maria', 'Silva', 28, 'F', 1200.0)\n",
      "(3, 'Luiza', 'Matos', 23, 'F', 3500.0)\n",
      "(4, 'Lorran', 'Oliveira', 32, 'M', 5000.0)\n",
      "(5, 'Bruno', 'Barbosa', 37, 'M', 6000.0)\n"
     ]
    },
    {
     "data": {
      "application/javascript": [
       "\n",
       "            setTimeout(function() {\n",
       "                var nbb_cell_id = 60;\n",
       "                var nbb_unformatted_code = \"consulta = \\\"\\\"\\\"SELECT * from FUNCIONARIOS;\\\"\\\"\\\"\\n\\ndados = cursor.execute(consulta)\\n\\nfor linha in dados:\\n    print(linha)\";\n",
       "                var nbb_formatted_code = \"consulta = \\\"\\\"\\\"SELECT * from FUNCIONARIOS;\\\"\\\"\\\"\\n\\ndados = cursor.execute(consulta)\\n\\nfor linha in dados:\\n    print(linha)\";\n",
       "                var nbb_cells = Jupyter.notebook.get_cells();\n",
       "                for (var i = 0; i < nbb_cells.length; ++i) {\n",
       "                    if (nbb_cells[i].input_prompt_number == nbb_cell_id) {\n",
       "                        if (nbb_cells[i].get_text() == nbb_unformatted_code) {\n",
       "                             nbb_cells[i].set_text(nbb_formatted_code);\n",
       "                        }\n",
       "                        break;\n",
       "                    }\n",
       "                }\n",
       "            }, 500);\n",
       "            "
      ],
      "text/plain": [
       "<IPython.core.display.Javascript object>"
      ]
     },
     "metadata": {},
     "output_type": "display_data"
    }
   ],
   "source": [
    "consulta = \"\"\" \"\"\"\n",
    "\n",
    "dados = cursor.execute(consulta)\n",
    "\n",
    "for linha in dados:\n",
    "    print(linha)\n",
    "\n"
   ]
  },
  {
   "cell_type": "code",
   "execution_count": 61,
   "id": "333db67e",
   "metadata": {},
   "outputs": [
    {
     "data": {
      "text/html": [
       "<div>\n",
       "<style scoped>\n",
       "    .dataframe tbody tr th:only-of-type {\n",
       "        vertical-align: middle;\n",
       "    }\n",
       "\n",
       "    .dataframe tbody tr th {\n",
       "        vertical-align: top;\n",
       "    }\n",
       "\n",
       "    .dataframe thead th {\n",
       "        text-align: right;\n",
       "    }\n",
       "</style>\n",
       "<table border=\"1\" class=\"dataframe\">\n",
       "  <thead>\n",
       "    <tr style=\"text-align: right;\">\n",
       "      <th></th>\n",
       "      <th>id</th>\n",
       "      <th>primeiro_nome</th>\n",
       "      <th>ultimo_nome</th>\n",
       "      <th>idade</th>\n",
       "      <th>sexo</th>\n",
       "      <th>salario</th>\n",
       "    </tr>\n",
       "  </thead>\n",
       "  <tbody>\n",
       "    <tr>\n",
       "      <th>0</th>\n",
       "      <td>1</td>\n",
       "      <td>Pedro</td>\n",
       "      <td>Skooby</td>\n",
       "      <td>35</td>\n",
       "      <td>M</td>\n",
       "      <td>9000.0</td>\n",
       "    </tr>\n",
       "    <tr>\n",
       "      <th>1</th>\n",
       "      <td>2</td>\n",
       "      <td>Maria</td>\n",
       "      <td>Silva</td>\n",
       "      <td>28</td>\n",
       "      <td>F</td>\n",
       "      <td>1200.0</td>\n",
       "    </tr>\n",
       "    <tr>\n",
       "      <th>2</th>\n",
       "      <td>3</td>\n",
       "      <td>Luiza</td>\n",
       "      <td>Matos</td>\n",
       "      <td>23</td>\n",
       "      <td>F</td>\n",
       "      <td>3500.0</td>\n",
       "    </tr>\n",
       "    <tr>\n",
       "      <th>3</th>\n",
       "      <td>4</td>\n",
       "      <td>Lorran</td>\n",
       "      <td>Oliveira</td>\n",
       "      <td>32</td>\n",
       "      <td>M</td>\n",
       "      <td>5000.0</td>\n",
       "    </tr>\n",
       "    <tr>\n",
       "      <th>4</th>\n",
       "      <td>5</td>\n",
       "      <td>Bruno</td>\n",
       "      <td>Barbosa</td>\n",
       "      <td>37</td>\n",
       "      <td>M</td>\n",
       "      <td>6000.0</td>\n",
       "    </tr>\n",
       "  </tbody>\n",
       "</table>\n",
       "</div>"
      ],
      "text/plain": [
       "   id primeiro_nome ultimo_nome  idade sexo  salario\n",
       "0   1         Pedro      Skooby     35    M   9000.0\n",
       "1   2         Maria       Silva     28    F   1200.0\n",
       "2   3         Luiza       Matos     23    F   3500.0\n",
       "3   4        Lorran    Oliveira     32    M   5000.0\n",
       "4   5         Bruno     Barbosa     37    M   6000.0"
      ]
     },
     "execution_count": 61,
     "metadata": {},
     "output_type": "execute_result"
    },
    {
     "data": {
      "application/javascript": [
       "\n",
       "            setTimeout(function() {\n",
       "                var nbb_cell_id = 61;\n",
       "                var nbb_unformatted_code = \"# importando a biblioteca pandas para an\\u00e1lise de dados\\n\\nimport pandas as pd\\n\\nconn = sqlite3.connect(\\\"exemplo.db\\\")\\n\\ncursor = conn.cursor()\\n\\nconsulta = \\\"\\\"\\\"SELECT * from FUNCIONARIOS;\\\"\\\"\\\"\\n\\ncursor.execute(consulta)\\n\\n# Retornando a primeira linha da tabela\\n# result = cursor.fetchone()\\n# print(result)\\n\\n# Retornando todas as linhas da tabela\\n# result = cursor.fetchall()\\n# print(result)\\n\\n# comitando as mudan\\u00e7as para o BD\\nconn.commit()\\n\\n# Lendo os dados da tabela em em DataFrame Pandas\\n\\ndf = pd.read_sql(consulta, conn)\\n\\ndf\";\n",
       "                var nbb_formatted_code = \"# importando a biblioteca pandas para an\\u00e1lise de dados\\n\\nimport pandas as pd\\n\\nconn = sqlite3.connect(\\\"exemplo.db\\\")\\n\\ncursor = conn.cursor()\\n\\nconsulta = \\\"\\\"\\\"SELECT * from FUNCIONARIOS;\\\"\\\"\\\"\\n\\ncursor.execute(consulta)\\n\\n# Retornando a primeira linha da tabela\\n# result = cursor.fetchone()\\n# print(result)\\n\\n# Retornando todas as linhas da tabela\\n# result = cursor.fetchall()\\n# print(result)\\n\\n# comitando as mudan\\u00e7as para o BD\\nconn.commit()\\n\\n# Lendo os dados da tabela em em DataFrame Pandas\\n\\ndf = pd.read_sql(consulta, conn)\\n\\ndf\";\n",
       "                var nbb_cells = Jupyter.notebook.get_cells();\n",
       "                for (var i = 0; i < nbb_cells.length; ++i) {\n",
       "                    if (nbb_cells[i].input_prompt_number == nbb_cell_id) {\n",
       "                        if (nbb_cells[i].get_text() == nbb_unformatted_code) {\n",
       "                             nbb_cells[i].set_text(nbb_formatted_code);\n",
       "                        }\n",
       "                        break;\n",
       "                    }\n",
       "                }\n",
       "            }, 500);\n",
       "            "
      ],
      "text/plain": [
       "<IPython.core.display.Javascript object>"
      ]
     },
     "metadata": {},
     "output_type": "display_data"
    }
   ],
   "source": [
    "# importando a biblioteca pandas para análise de dados\n",
    "\n",
    "import pandas as pd\n",
    "\n",
    "conn = sqlite3.connect(\".db\")\n",
    "\n",
    "cursor = conn.cursor()\n",
    "\n",
    "consulta = \"\"\" \"\"\"\n",
    "\n",
    "cursor.execute(consulta)\n",
    "\n",
    "# Retornando a primeira linha da tabela\n",
    "# result = cursor.fetchone()\n",
    "# print(result)\n",
    "\n",
    "# Retornando todas as linhas da tabela\n",
    "# result = cursor.fetchall()\n",
    "# print(result)\n",
    "\n",
    "# comitando as mudanças para o BD\n",
    "conn.commit()\n",
    "\n",
    "# Lendo os dados da tabela em em DataFrame Pandas\n",
    "\n",
    "df = pd.read_sql(consulta, conn)\n",
    "\n",
    "df"
   ]
  },
  {
   "cell_type": "markdown",
   "id": "2ee71074",
   "metadata": {},
   "source": [
    "## Comados DDL:\n",
    "\n",
    "- CREATE\n",
    "- ALTER\n",
    "- DROP"
   ]
  },
  {
   "cell_type": "markdown",
   "id": "d18879c6",
   "metadata": {},
   "source": [
    "### ALTER"
   ]
  },
  {
   "cell_type": "code",
   "execution_count": 62,
   "id": "75f25205",
   "metadata": {},
   "outputs": [
    {
     "name": "stdout",
     "output_type": "stream",
     "text": [
      "(1, 'Pedro', 'Skooby', 35, 'M', 9000.0, None)\n",
      "(2, 'Maria', 'Silva', 28, 'F', 1200.0, None)\n",
      "(3, 'Luiza', 'Matos', 23, 'F', 3500.0, None)\n",
      "(4, 'Lorran', 'Oliveira', 32, 'M', 5000.0, None)\n",
      "(5, 'Bruno', 'Barbosa', 37, 'M', 6000.0, None)\n"
     ]
    },
    {
     "data": {
      "application/javascript": [
       "\n",
       "            setTimeout(function() {\n",
       "                var nbb_cell_id = 62;\n",
       "                var nbb_unformatted_code = \"nova_coluna = \\\"\\\"\\\"ALTER TABLE FUNCIONARIOS ADD COLUMN usuario CHAR(25)\\\"\\\"\\\"\\n\\ncursor.execute(nova_coluna)\\n\\ndados = cursor.execute(\\\"\\\"\\\"SELECT * FROM FUNCIONARIOS\\\"\\\"\\\")\\n\\nfor linha in dados:\\n    print(linha)\\n\\nconn.commit()\";\n",
       "                var nbb_formatted_code = \"nova_coluna = \\\"\\\"\\\"ALTER TABLE FUNCIONARIOS ADD COLUMN usuario CHAR(25)\\\"\\\"\\\"\\n\\ncursor.execute(nova_coluna)\\n\\ndados = cursor.execute(\\\"\\\"\\\"SELECT * FROM FUNCIONARIOS\\\"\\\"\\\")\\n\\nfor linha in dados:\\n    print(linha)\\n\\nconn.commit()\";\n",
       "                var nbb_cells = Jupyter.notebook.get_cells();\n",
       "                for (var i = 0; i < nbb_cells.length; ++i) {\n",
       "                    if (nbb_cells[i].input_prompt_number == nbb_cell_id) {\n",
       "                        if (nbb_cells[i].get_text() == nbb_unformatted_code) {\n",
       "                             nbb_cells[i].set_text(nbb_formatted_code);\n",
       "                        }\n",
       "                        break;\n",
       "                    }\n",
       "                }\n",
       "            }, 500);\n",
       "            "
      ],
      "text/plain": [
       "<IPython.core.display.Javascript object>"
      ]
     },
     "metadata": {},
     "output_type": "display_data"
    }
   ],
   "source": [
    "nova_coluna = \"\"\" \"\"\"\n",
    "\n",
    "cursor.execute(nova_coluna)\n",
    "\n",
    "dados = cursor.execute(\"\"\" \"\"\")\n",
    "\n",
    "for linha in dados:\n",
    "    print(linha)\n",
    "\n",
    "conn.commit()"
   ]
  },
  {
   "cell_type": "markdown",
   "id": "5017c849",
   "metadata": {},
   "source": [
    "## Comados DML:\n",
    "\n",
    "- INSERT\n",
    "- UPDATE\n",
    "- DELETE"
   ]
  },
  {
   "cell_type": "markdown",
   "id": "6b2c234a",
   "metadata": {},
   "source": [
    "#### UPDATE"
   ]
  },
  {
   "cell_type": "code",
   "execution_count": 63,
   "id": "2dfc710d",
   "metadata": {},
   "outputs": [
    {
     "name": "stdout",
     "output_type": "stream",
     "text": [
      "(1, 'Pedro', 'Skooby', 35, 'M', 9000.0, 'pskooby')\n",
      "(2, 'Maria', 'Silva', 28, 'F', 1200.0, 'masilva')\n",
      "(3, 'Luiza', 'Matos', 23, 'F', 3500.0, 'lumatos')\n",
      "(4, 'Lorran', 'Oliveira', 32, 'M', 5000.0, 'loliveira')\n",
      "(5, 'Bruno', 'Barbosa', 37, 'M', 6000.0, 'brunob')\n"
     ]
    },
    {
     "data": {
      "application/javascript": [
       "\n",
       "            setTimeout(function() {\n",
       "                var nbb_cell_id = 63;\n",
       "                var nbb_unformatted_code = \"inserir_usuarios = \\\"\\\"\\\"UPDATE FUNCIONARIOS SET usuario = 'pskooby'   WHERE id = 1;\\\"\\\"\\\"\\n\\ncursor.execute(inserir_usuarios)\\n\\ninserir_usuarios = \\\"\\\"\\\"UPDATE FUNCIONARIOS SET usuario = 'masilva'   WHERE id = 2;\\\"\\\"\\\"\\n\\ncursor.execute(inserir_usuarios)\\n\\ninserir_usuarios = \\\"\\\"\\\"UPDATE FUNCIONARIOS SET usuario = 'lumatos'   WHERE id = 3;\\\"\\\"\\\"\\n\\ncursor.execute(inserir_usuarios)\\n\\ninserir_usuarios = \\\"\\\"\\\"UPDATE FUNCIONARIOS SET usuario = 'loliveira' WHERE id = 4;\\\"\\\"\\\"\\n\\ncursor.execute(inserir_usuarios)\\n\\ninserir_usuarios = \\\"\\\"\\\"UPDATE FUNCIONARIOS SET usuario = 'brunob'    WHERE id = 5;\\\"\\\"\\\"\\n\\ncursor.execute(inserir_usuarios)\\n\\ndados = cursor.execute(\\\"\\\"\\\"SELECT * FROM FUNCIONARIOS\\\"\\\"\\\")\\n\\nfor linha in dados:\\n    print(linha)\\n\\nconn.commit()\";\n",
       "                var nbb_formatted_code = \"inserir_usuarios = \\\"\\\"\\\"UPDATE FUNCIONARIOS SET usuario = 'pskooby'   WHERE id = 1;\\\"\\\"\\\"\\n\\ncursor.execute(inserir_usuarios)\\n\\ninserir_usuarios = \\\"\\\"\\\"UPDATE FUNCIONARIOS SET usuario = 'masilva'   WHERE id = 2;\\\"\\\"\\\"\\n\\ncursor.execute(inserir_usuarios)\\n\\ninserir_usuarios = \\\"\\\"\\\"UPDATE FUNCIONARIOS SET usuario = 'lumatos'   WHERE id = 3;\\\"\\\"\\\"\\n\\ncursor.execute(inserir_usuarios)\\n\\ninserir_usuarios = \\\"\\\"\\\"UPDATE FUNCIONARIOS SET usuario = 'loliveira' WHERE id = 4;\\\"\\\"\\\"\\n\\ncursor.execute(inserir_usuarios)\\n\\ninserir_usuarios = \\\"\\\"\\\"UPDATE FUNCIONARIOS SET usuario = 'brunob'    WHERE id = 5;\\\"\\\"\\\"\\n\\ncursor.execute(inserir_usuarios)\\n\\ndados = cursor.execute(\\\"\\\"\\\"SELECT * FROM FUNCIONARIOS\\\"\\\"\\\")\\n\\nfor linha in dados:\\n    print(linha)\\n\\nconn.commit()\";\n",
       "                var nbb_cells = Jupyter.notebook.get_cells();\n",
       "                for (var i = 0; i < nbb_cells.length; ++i) {\n",
       "                    if (nbb_cells[i].input_prompt_number == nbb_cell_id) {\n",
       "                        if (nbb_cells[i].get_text() == nbb_unformatted_code) {\n",
       "                             nbb_cells[i].set_text(nbb_formatted_code);\n",
       "                        }\n",
       "                        break;\n",
       "                    }\n",
       "                }\n",
       "            }, 500);\n",
       "            "
      ],
      "text/plain": [
       "<IPython.core.display.Javascript object>"
      ]
     },
     "metadata": {},
     "output_type": "display_data"
    }
   ],
   "source": [
    "inserir_usuarios = \"\"\" \"\"\"\n",
    "\n",
    "cursor.execute(inserir_usuarios)\n",
    "\n",
    "inserir_usuarios = \"\"\" \"\"\"\n",
    "\n",
    "cursor.execute(inserir_usuarios)\n",
    "\n",
    "inserir_usuarios = \"\"\" \"\"\"\n",
    "\n",
    "cursor.execute(inserir_usuarios)\n",
    "\n",
    "inserir_usuarios = \"\"\" \"\"\"\n",
    "\n",
    "cursor.execute(inserir_usuarios)\n",
    "\n",
    "inserir_usuarios = \"\"\" \"\"\"\n",
    "\n",
    "cursor.execute(inserir_usuarios)\n",
    "\n",
    "dados = cursor.execute(\"\"\" \"\"\")\n",
    "\n",
    "for linha in dados:\n",
    "    print(linha)\n",
    "\n",
    "conn.commit()"
   ]
  },
  {
   "cell_type": "markdown",
   "id": "0ede5ea6",
   "metadata": {},
   "source": [
    "#### DELETE"
   ]
  },
  {
   "cell_type": "code",
   "execution_count": 38,
   "id": "b923c34f",
   "metadata": {},
   "outputs": [
    {
     "name": "stdout",
     "output_type": "stream",
     "text": [
      "Dados deletados.........\n"
     ]
    },
    {
     "data": {
      "application/javascript": [
       "\n",
       "            setTimeout(function() {\n",
       "                var nbb_cell_id = 38;\n",
       "                var nbb_unformatted_code = \"# DELETANDO TODOS OS REGISTROS DA TABELA FUNCIONARIOS\\n\\nconsulta = \\\"\\\"\\\"DELETE FROM FUNCIONARIOS;\\\"\\\"\\\"\\n\\ncursor.execute(consulta)\\n\\nconn.commit()\\nprint(\\\"Dados deletados.........\\\")\";\n",
       "                var nbb_formatted_code = \"# DELETANDO TODOS OS REGISTROS DA TABELA FUNCIONARIOS\\n\\nconsulta = \\\"\\\"\\\"DELETE FROM FUNCIONARIOS;\\\"\\\"\\\"\\n\\ncursor.execute(consulta)\\n\\nconn.commit()\\nprint(\\\"Dados deletados.........\\\")\";\n",
       "                var nbb_cells = Jupyter.notebook.get_cells();\n",
       "                for (var i = 0; i < nbb_cells.length; ++i) {\n",
       "                    if (nbb_cells[i].input_prompt_number == nbb_cell_id) {\n",
       "                        if (nbb_cells[i].get_text() == nbb_unformatted_code) {\n",
       "                             nbb_cells[i].set_text(nbb_formatted_code);\n",
       "                        }\n",
       "                        break;\n",
       "                    }\n",
       "                }\n",
       "            }, 500);\n",
       "            "
      ],
      "text/plain": [
       "<IPython.core.display.Javascript object>"
      ]
     },
     "metadata": {},
     "output_type": "display_data"
    }
   ],
   "source": [
    "# DELETANDO TODOS OS REGISTROS DA TABELA FUNCIONARIOS\n",
    "\n",
    "consulta = \"\"\" \"\"\"\n",
    "\n",
    "cursor.execute(consulta)\n",
    "\n",
    "conn.commit()\n",
    "print(\"Dados deletados.........\")"
   ]
  },
  {
   "cell_type": "code",
   "execution_count": 39,
   "id": "9d5bb429",
   "metadata": {},
   "outputs": [
    {
     "name": "stdout",
     "output_type": "stream",
     "text": [
      "[]\n"
     ]
    },
    {
     "data": {
      "application/javascript": [
       "\n",
       "            setTimeout(function() {\n",
       "                var nbb_cell_id = 39;\n",
       "                var nbb_unformatted_code = \"cursor.execute(\\\"\\\"\\\"SELECT * from FUNCIONARIOS\\\"\\\"\\\")\\nprint(cursor.fetchall())\";\n",
       "                var nbb_formatted_code = \"cursor.execute(\\\"\\\"\\\"SELECT * from FUNCIONARIOS\\\"\\\"\\\")\\nprint(cursor.fetchall())\";\n",
       "                var nbb_cells = Jupyter.notebook.get_cells();\n",
       "                for (var i = 0; i < nbb_cells.length; ++i) {\n",
       "                    if (nbb_cells[i].input_prompt_number == nbb_cell_id) {\n",
       "                        if (nbb_cells[i].get_text() == nbb_unformatted_code) {\n",
       "                             nbb_cells[i].set_text(nbb_formatted_code);\n",
       "                        }\n",
       "                        break;\n",
       "                    }\n",
       "                }\n",
       "            }, 500);\n",
       "            "
      ],
      "text/plain": [
       "<IPython.core.display.Javascript object>"
      ]
     },
     "metadata": {},
     "output_type": "display_data"
    }
   ],
   "source": [
    "cursor.execute(\"\"\" \"\"\")\n",
    "print(cursor.fetchall())"
   ]
  },
  {
   "cell_type": "markdown",
   "id": "aea78f21",
   "metadata": {},
   "source": [
    "### Outra maneira de inserir dados no BD:"
   ]
  },
  {
   "cell_type": "code",
   "execution_count": 1,
   "id": "606237b9",
   "metadata": {},
   "outputs": [
    {
     "ename": "NameError",
     "evalue": "name 'cursor' is not defined",
     "output_type": "error",
     "traceback": [
      "\u001b[1;31m---------------------------------------------------------------------------\u001b[0m",
      "\u001b[1;31mNameError\u001b[0m                                 Traceback (most recent call last)",
      "\u001b[1;32m<ipython-input-1-daae515b0b4d>\u001b[0m in \u001b[0;36m<module>\u001b[1;34m\u001b[0m\n\u001b[0;32m      1\u001b[0m \u001b[1;31m# Criando consultas de inserção de dados\u001b[0m\u001b[1;33m\u001b[0m\u001b[1;33m\u001b[0m\u001b[1;33m\u001b[0m\u001b[0m\n\u001b[0;32m      2\u001b[0m \u001b[1;33m\u001b[0m\u001b[0m\n\u001b[1;32m----> 3\u001b[1;33m cursor.execute(\n\u001b[0m\u001b[0;32m      4\u001b[0m     \"\"\"INSERT INTO FUNCIONARIOS\n\u001b[0;32m      5\u001b[0m         \u001b[1;33m(\u001b[0m\u001b[0mid\u001b[0m\u001b[1;33m,\u001b[0m \u001b[0mprimeiro_nome\u001b[0m\u001b[1;33m,\u001b[0m \u001b[0multimo_nome\u001b[0m\u001b[1;33m,\u001b[0m \u001b[0midade\u001b[0m\u001b[1;33m,\u001b[0m \u001b[0msexo\u001b[0m\u001b[1;33m,\u001b[0m \u001b[0msalario\u001b[0m\u001b[1;33m)\u001b[0m \u001b[0mVALUES\u001b[0m\u001b[1;33m\u001b[0m\u001b[1;33m\u001b[0m\u001b[0m\n",
      "\u001b[1;31mNameError\u001b[0m: name 'cursor' is not defined"
     ]
    }
   ],
   "source": [
    "# Criando consultas de inserção de dados\n",
    "\n",
    "cursor.execute(\n",
    "    \"\"\" \"\"\"\n",
    ")\n",
    "\n",
    "conn.commit()\n",
    "print(\"Dados inseridos.........\")\n",
    "\n",
    "cursor.execute(\"\"\"SELECT * FROM FUNCIONARIOS\"\"\")\n",
    "print(cursor.fetchall())\n"
   ]
  },
  {
   "cell_type": "markdown",
   "id": "14e6f984",
   "metadata": {},
   "source": [
    "### Visualizando a tabela em formato de DF:"
   ]
  },
  {
   "cell_type": "code",
   "execution_count": 64,
   "id": "983e5b09",
   "metadata": {},
   "outputs": [
    {
     "data": {
      "text/html": [
       "<div>\n",
       "<style scoped>\n",
       "    .dataframe tbody tr th:only-of-type {\n",
       "        vertical-align: middle;\n",
       "    }\n",
       "\n",
       "    .dataframe tbody tr th {\n",
       "        vertical-align: top;\n",
       "    }\n",
       "\n",
       "    .dataframe thead th {\n",
       "        text-align: right;\n",
       "    }\n",
       "</style>\n",
       "<table border=\"1\" class=\"dataframe\">\n",
       "  <thead>\n",
       "    <tr style=\"text-align: right;\">\n",
       "      <th></th>\n",
       "      <th>id</th>\n",
       "      <th>primeiro_nome</th>\n",
       "      <th>ultimo_nome</th>\n",
       "      <th>idade</th>\n",
       "      <th>sexo</th>\n",
       "      <th>salario</th>\n",
       "      <th>usuario</th>\n",
       "    </tr>\n",
       "  </thead>\n",
       "  <tbody>\n",
       "    <tr>\n",
       "      <th>0</th>\n",
       "      <td>1</td>\n",
       "      <td>Pedro</td>\n",
       "      <td>Skooby</td>\n",
       "      <td>35</td>\n",
       "      <td>M</td>\n",
       "      <td>9000.0</td>\n",
       "      <td>pskooby</td>\n",
       "    </tr>\n",
       "    <tr>\n",
       "      <th>1</th>\n",
       "      <td>2</td>\n",
       "      <td>Maria</td>\n",
       "      <td>Silva</td>\n",
       "      <td>28</td>\n",
       "      <td>F</td>\n",
       "      <td>1200.0</td>\n",
       "      <td>masilva</td>\n",
       "    </tr>\n",
       "    <tr>\n",
       "      <th>2</th>\n",
       "      <td>3</td>\n",
       "      <td>Luiza</td>\n",
       "      <td>Matos</td>\n",
       "      <td>23</td>\n",
       "      <td>F</td>\n",
       "      <td>3500.0</td>\n",
       "      <td>lumatos</td>\n",
       "    </tr>\n",
       "    <tr>\n",
       "      <th>3</th>\n",
       "      <td>4</td>\n",
       "      <td>Lorran</td>\n",
       "      <td>Oliveira</td>\n",
       "      <td>32</td>\n",
       "      <td>M</td>\n",
       "      <td>5000.0</td>\n",
       "      <td>loliveira</td>\n",
       "    </tr>\n",
       "    <tr>\n",
       "      <th>4</th>\n",
       "      <td>5</td>\n",
       "      <td>Bruno</td>\n",
       "      <td>Barbosa</td>\n",
       "      <td>37</td>\n",
       "      <td>M</td>\n",
       "      <td>6000.0</td>\n",
       "      <td>brunob</td>\n",
       "    </tr>\n",
       "  </tbody>\n",
       "</table>\n",
       "</div>"
      ],
      "text/plain": [
       "   id primeiro_nome ultimo_nome  idade sexo  salario    usuario\n",
       "0   1         Pedro      Skooby     35    M   9000.0    pskooby\n",
       "1   2         Maria       Silva     28    F   1200.0    masilva\n",
       "2   3         Luiza       Matos     23    F   3500.0    lumatos\n",
       "3   4        Lorran    Oliveira     32    M   5000.0  loliveira\n",
       "4   5         Bruno     Barbosa     37    M   6000.0     brunob"
      ]
     },
     "execution_count": 64,
     "metadata": {},
     "output_type": "execute_result"
    },
    {
     "data": {
      "application/javascript": [
       "\n",
       "            setTimeout(function() {\n",
       "                var nbb_cell_id = 64;\n",
       "                var nbb_unformatted_code = \"#importando a biblioteca pandas para an\\u00e1lise de dados\\n\\nimport pandas as pd\\n\\nconn = sqlite3.connect(\\\"exemplo.db\\\")\\n\\ncursor = conn.cursor()\\n\\nconsulta = \\\"\\\"\\\"SELECT * from FUNCIONARIOS;\\\"\\\"\\\"\\n\\ncursor.execute(consulta)\\n\\n# Retornando a primeira linha da tabela\\n# result = cursor.fetchone()\\n# print(result)\\n\\n# Retornando todas as linhas da tabela\\n# result = cursor.fetchall()\\n# print(result)\\n\\n# comitando as mudan\\u00e7as para o BD\\nconn.commit()\\n\\n# Lendo os dados da tabela em em DataFrame Pandas\\n\\ndf = pd.read_sql(consulta, conn)\\n\\ndf\";\n",
       "                var nbb_formatted_code = \"# importando a biblioteca pandas para an\\u00e1lise de dados\\n\\nimport pandas as pd\\n\\nconn = sqlite3.connect(\\\"exemplo.db\\\")\\n\\ncursor = conn.cursor()\\n\\nconsulta = \\\"\\\"\\\"SELECT * from FUNCIONARIOS;\\\"\\\"\\\"\\n\\ncursor.execute(consulta)\\n\\n# Retornando a primeira linha da tabela\\n# result = cursor.fetchone()\\n# print(result)\\n\\n# Retornando todas as linhas da tabela\\n# result = cursor.fetchall()\\n# print(result)\\n\\n# comitando as mudan\\u00e7as para o BD\\nconn.commit()\\n\\n# Lendo os dados da tabela em em DataFrame Pandas\\n\\ndf = pd.read_sql(consulta, conn)\\n\\ndf\";\n",
       "                var nbb_cells = Jupyter.notebook.get_cells();\n",
       "                for (var i = 0; i < nbb_cells.length; ++i) {\n",
       "                    if (nbb_cells[i].input_prompt_number == nbb_cell_id) {\n",
       "                        if (nbb_cells[i].get_text() == nbb_unformatted_code) {\n",
       "                             nbb_cells[i].set_text(nbb_formatted_code);\n",
       "                        }\n",
       "                        break;\n",
       "                    }\n",
       "                }\n",
       "            }, 500);\n",
       "            "
      ],
      "text/plain": [
       "<IPython.core.display.Javascript object>"
      ]
     },
     "metadata": {},
     "output_type": "display_data"
    }
   ],
   "source": [
    "#importando a biblioteca pandas para análise de dados\n",
    "\n",
    "import pandas as pd\n",
    "\n",
    "conn = sqlite3.connect(\"exemplo.db\")\n",
    "\n",
    "cursor = conn.cursor()\n",
    "\n",
    "consulta = \"\"\"SELECT * from FUNCIONARIOS;\"\"\"\n",
    "\n",
    "cursor.execute(consulta)\n",
    "\n",
    "# Retornando a primeira linha da tabela\n",
    "# result = cursor.fetchone()\n",
    "# print(result)\n",
    "\n",
    "# Retornando todas as linhas da tabela\n",
    "# result = cursor.fetchall()\n",
    "# print(result)\n",
    "\n",
    "# comitando as mudanças para o BD\n",
    "conn.commit()\n",
    "\n",
    "# Lendo os dados da tabela em em DataFrame Pandas\n",
    "\n",
    "df = pd.read_sql(consulta, conn)\n",
    "\n",
    "df\n",
    "\n"
   ]
  },
  {
   "cell_type": "markdown",
   "id": "1c290f32",
   "metadata": {},
   "source": [
    "## Comados DDL:\n",
    "\n",
    "- CREATE\n",
    "- ALTER\n",
    "- DROP"
   ]
  },
  {
   "cell_type": "code",
   "execution_count": 44,
   "id": "c0e09b96",
   "metadata": {},
   "outputs": [
    {
     "name": "stdout",
     "output_type": "stream",
     "text": [
      "Tabela excluida com sucesso........\n"
     ]
    },
    {
     "data": {
      "application/javascript": [
       "\n",
       "            setTimeout(function() {\n",
       "                var nbb_cell_id = 44;\n",
       "                var nbb_unformatted_code = \"consulta = \\\"\\\"\\\"DROP TABLE FUNCIONARIOS;\\\"\\\"\\\"\\n\\ncursor.execute(consulta)\\n\\nprint(\\\"Tabela excluida com sucesso........\\\")\";\n",
       "                var nbb_formatted_code = \"consulta = \\\"\\\"\\\"DROP TABLE FUNCIONARIOS;\\\"\\\"\\\"\\n\\ncursor.execute(consulta)\\n\\nprint(\\\"Tabela excluida com sucesso........\\\")\";\n",
       "                var nbb_cells = Jupyter.notebook.get_cells();\n",
       "                for (var i = 0; i < nbb_cells.length; ++i) {\n",
       "                    if (nbb_cells[i].input_prompt_number == nbb_cell_id) {\n",
       "                        if (nbb_cells[i].get_text() == nbb_unformatted_code) {\n",
       "                             nbb_cells[i].set_text(nbb_formatted_code);\n",
       "                        }\n",
       "                        break;\n",
       "                    }\n",
       "                }\n",
       "            }, 500);\n",
       "            "
      ],
      "text/plain": [
       "<IPython.core.display.Javascript object>"
      ]
     },
     "metadata": {},
     "output_type": "display_data"
    }
   ],
   "source": [
    "consulta = \"\"\"DROP TABLE FUNCIONARIOS;\"\"\"\n",
    "\n",
    "cursor.execute(consulta)\n",
    "\n",
    "print(\"Tabela excluida com sucesso........\")"
   ]
  },
  {
   "cell_type": "markdown",
   "id": "12634407",
   "metadata": {},
   "source": [
    "### Visualizando os tabelas no BD:"
   ]
  },
  {
   "cell_type": "code",
   "execution_count": null,
   "id": "9954b564",
   "metadata": {},
   "outputs": [],
   "source": []
  },
  {
   "cell_type": "code",
   "execution_count": 46,
   "id": "41418442",
   "metadata": {},
   "outputs": [
    {
     "name": "stdout",
     "output_type": "stream",
     "text": [
      "Tabela criada com sucesso........\n"
     ]
    },
    {
     "data": {
      "application/javascript": [
       "\n",
       "            setTimeout(function() {\n",
       "                var nbb_cell_id = 46;\n",
       "                var nbb_unformatted_code = \"# CRIEI UM TABELA CONTATOS\\n\\nconsulta = \\\"\\\"\\\"CREATE TABLE CONTATOS(\\n   id_funcionario,\\n   telefone CHAR(11) NOT NULL,\\n   email VARCHAR(50),\\n   pais VARCHAR(50)\\n);\\\"\\\"\\\"\\n\\ncursor.execute(consulta)\\n\\nprint(\\\"Tabela criada com sucesso........\\\")\";\n",
       "                var nbb_formatted_code = \"# CRIEI UM TABELA CONTATOS\\n\\nconsulta = \\\"\\\"\\\"CREATE TABLE CONTATOS(\\n   id_funcionario,\\n   telefone CHAR(11) NOT NULL,\\n   email VARCHAR(50),\\n   pais VARCHAR(50)\\n);\\\"\\\"\\\"\\n\\ncursor.execute(consulta)\\n\\nprint(\\\"Tabela criada com sucesso........\\\")\";\n",
       "                var nbb_cells = Jupyter.notebook.get_cells();\n",
       "                for (var i = 0; i < nbb_cells.length; ++i) {\n",
       "                    if (nbb_cells[i].input_prompt_number == nbb_cell_id) {\n",
       "                        if (nbb_cells[i].get_text() == nbb_unformatted_code) {\n",
       "                             nbb_cells[i].set_text(nbb_formatted_code);\n",
       "                        }\n",
       "                        break;\n",
       "                    }\n",
       "                }\n",
       "            }, 500);\n",
       "            "
      ],
      "text/plain": [
       "<IPython.core.display.Javascript object>"
      ]
     },
     "metadata": {},
     "output_type": "display_data"
    }
   ],
   "source": [
    "# CRIEI UM TABELA CONTATOS\n",
    "\n",
    "consulta = \"\"\" \"\"\"\n",
    "\n",
    "cursor.execute(consulta)\n",
    "\n",
    "print(\"Tabela criada com sucesso........\")\n",
    "\n"
   ]
  },
  {
   "cell_type": "code",
   "execution_count": 47,
   "id": "0e2cbc12",
   "metadata": {},
   "outputs": [
    {
     "name": "stdout",
     "output_type": "stream",
     "text": [
      "Dados inseridos.........\n",
      "[(1, '22998765412', 'skooby@emailegal.com', 'Brasil'), (2, '23998773456', 'msilva@emailqualquer.com', 'Brasil'), (3, '27999523211', 'luizamatos@yahoo.com', 'Argentina'), (4, '21998577621', 'lorranoliveir@gemail.com', 'Cuba'), (5, '31998756423', 'bbarb@email.com', 'Uruguay'), (6, '35998756234', 'dariojulio@gmail1.com', 'EUA'), (7, '21997844526', 'joaquim@emailqualquer.com', 'Brasil')]\n"
     ]
    },
    {
     "data": {
      "application/javascript": [
       "\n",
       "            setTimeout(function() {\n",
       "                var nbb_cell_id = 47;\n",
       "                var nbb_unformatted_code = \"# Criando consultas de inser\\u00e7\\u00e3o de dados\\n\\ncursor.execute(\\\"\\\"\\\"INSERT INTO CONTATOS\\n        (id_funcionario, telefone, email, pais) VALUES \\n        (1, '22998765412', 'skooby@emailegal.com', 'Brasil'),\\n        (2, '23998773456', 'msilva@emailqualquer.com', 'Brasil'),\\n        (3, '27999523211', 'luizamatos@yahoo.com', 'Argentina'),\\n        (4, '21998577621', 'lorranoliveir@gemail.com', 'Cuba'),\\n        (5, '31998756423', 'bbarb@email.com', 'Uruguay'),\\n        (6, '35998756234', 'dariojulio@gmail1.com', 'EUA'),\\n        (7, '21997844526', 'joaquim@emailqualquer.com', 'Brasil');\\\"\\\"\\\")\\n\\nconn.commit()\\nprint(\\\"Dados inseridos.........\\\")\\n\\ncursor.execute(\\\"\\\"\\\"SELECT * from CONTATOS\\\"\\\"\\\")\\nprint(cursor.fetchall())\";\n",
       "                var nbb_formatted_code = \"# Criando consultas de inser\\u00e7\\u00e3o de dados\\n\\ncursor.execute(\\n    \\\"\\\"\\\"INSERT INTO CONTATOS\\n        (id_funcionario, telefone, email, pais) VALUES \\n        (1, '22998765412', 'skooby@emailegal.com', 'Brasil'),\\n        (2, '23998773456', 'msilva@emailqualquer.com', 'Brasil'),\\n        (3, '27999523211', 'luizamatos@yahoo.com', 'Argentina'),\\n        (4, '21998577621', 'lorranoliveir@gemail.com', 'Cuba'),\\n        (5, '31998756423', 'bbarb@email.com', 'Uruguay'),\\n        (6, '35998756234', 'dariojulio@gmail1.com', 'EUA'),\\n        (7, '21997844526', 'joaquim@emailqualquer.com', 'Brasil');\\\"\\\"\\\"\\n)\\n\\nconn.commit()\\nprint(\\\"Dados inseridos.........\\\")\\n\\ncursor.execute(\\\"\\\"\\\"SELECT * from CONTATOS\\\"\\\"\\\")\\nprint(cursor.fetchall())\";\n",
       "                var nbb_cells = Jupyter.notebook.get_cells();\n",
       "                for (var i = 0; i < nbb_cells.length; ++i) {\n",
       "                    if (nbb_cells[i].input_prompt_number == nbb_cell_id) {\n",
       "                        if (nbb_cells[i].get_text() == nbb_unformatted_code) {\n",
       "                             nbb_cells[i].set_text(nbb_formatted_code);\n",
       "                        }\n",
       "                        break;\n",
       "                    }\n",
       "                }\n",
       "            }, 500);\n",
       "            "
      ],
      "text/plain": [
       "<IPython.core.display.Javascript object>"
      ]
     },
     "metadata": {},
     "output_type": "display_data"
    }
   ],
   "source": [
    "# Criando consultas de inserção de dados\n",
    "\n",
    "cursor.execute(\"\"\" \"\"\")\n",
    "\n",
    "conn.commit()\n",
    "print(\"Dados inseridos.........\")\n",
    "\n",
    "cursor.execute(\"\"\"SELECT * FROM CONTATOS\"\"\")\n",
    "print(cursor.fetchall())\n"
   ]
  },
  {
   "cell_type": "code",
   "execution_count": 66,
   "id": "658f7cbc",
   "metadata": {},
   "outputs": [
    {
     "data": {
      "text/html": [
       "<div>\n",
       "<style scoped>\n",
       "    .dataframe tbody tr th:only-of-type {\n",
       "        vertical-align: middle;\n",
       "    }\n",
       "\n",
       "    .dataframe tbody tr th {\n",
       "        vertical-align: top;\n",
       "    }\n",
       "\n",
       "    .dataframe thead th {\n",
       "        text-align: right;\n",
       "    }\n",
       "</style>\n",
       "<table border=\"1\" class=\"dataframe\">\n",
       "  <thead>\n",
       "    <tr style=\"text-align: right;\">\n",
       "      <th></th>\n",
       "      <th>id_funcionario</th>\n",
       "      <th>telefone</th>\n",
       "      <th>email</th>\n",
       "      <th>pais</th>\n",
       "    </tr>\n",
       "  </thead>\n",
       "  <tbody>\n",
       "    <tr>\n",
       "      <th>0</th>\n",
       "      <td>1</td>\n",
       "      <td>22998765412</td>\n",
       "      <td>skooby@emailegal.com</td>\n",
       "      <td>Brasil</td>\n",
       "    </tr>\n",
       "    <tr>\n",
       "      <th>1</th>\n",
       "      <td>2</td>\n",
       "      <td>23998773456</td>\n",
       "      <td>msilva@emailqualquer.com</td>\n",
       "      <td>Brasil</td>\n",
       "    </tr>\n",
       "    <tr>\n",
       "      <th>2</th>\n",
       "      <td>3</td>\n",
       "      <td>27999523211</td>\n",
       "      <td>luizamatos@yahoo.com</td>\n",
       "      <td>Argentina</td>\n",
       "    </tr>\n",
       "    <tr>\n",
       "      <th>3</th>\n",
       "      <td>4</td>\n",
       "      <td>21998577621</td>\n",
       "      <td>lorranoliveir@gemail.com</td>\n",
       "      <td>Cuba</td>\n",
       "    </tr>\n",
       "    <tr>\n",
       "      <th>4</th>\n",
       "      <td>5</td>\n",
       "      <td>31998756423</td>\n",
       "      <td>bbarb@email.com</td>\n",
       "      <td>Uruguay</td>\n",
       "    </tr>\n",
       "    <tr>\n",
       "      <th>5</th>\n",
       "      <td>6</td>\n",
       "      <td>35998756234</td>\n",
       "      <td>dariojulio@gmail1.com</td>\n",
       "      <td>EUA</td>\n",
       "    </tr>\n",
       "    <tr>\n",
       "      <th>6</th>\n",
       "      <td>7</td>\n",
       "      <td>21997844526</td>\n",
       "      <td>joaquim@emailqualquer.com</td>\n",
       "      <td>Brasil</td>\n",
       "    </tr>\n",
       "  </tbody>\n",
       "</table>\n",
       "</div>"
      ],
      "text/plain": [
       "   id_funcionario     telefone                      email       pais\n",
       "0               1  22998765412       skooby@emailegal.com     Brasil\n",
       "1               2  23998773456   msilva@emailqualquer.com     Brasil\n",
       "2               3  27999523211       luizamatos@yahoo.com  Argentina\n",
       "3               4  21998577621   lorranoliveir@gemail.com       Cuba\n",
       "4               5  31998756423            bbarb@email.com    Uruguay\n",
       "5               6  35998756234      dariojulio@gmail1.com        EUA\n",
       "6               7  21997844526  joaquim@emailqualquer.com     Brasil"
      ]
     },
     "execution_count": 66,
     "metadata": {},
     "output_type": "execute_result"
    },
    {
     "data": {
      "application/javascript": [
       "\n",
       "            setTimeout(function() {\n",
       "                var nbb_cell_id = 66;\n",
       "                var nbb_unformatted_code = \"consulta = \\\"\\\"\\\"SELECT * from contatos;\\\"\\\"\\\"\\n\\ncursor.execute(consulta)\\n\\n# Retornando a primeira linha da tabela\\n# result = cursor.fetchone()\\n# print(result)\\n\\n# Retornando todas as linhas da tabela\\n# result = cursor.fetchall()\\n# print(result)\\n\\n# comitando as mudan\\u00e7as para o BD\\nconn.commit()\\n\\n# Lendo os dados da tabela em em DataFrame Pandas\\n\\ndf = pd.read_sql(consulta, conn)\\n\\ndf\";\n",
       "                var nbb_formatted_code = \"consulta = \\\"\\\"\\\"SELECT * from contatos;\\\"\\\"\\\"\\n\\ncursor.execute(consulta)\\n\\n# Retornando a primeira linha da tabela\\n# result = cursor.fetchone()\\n# print(result)\\n\\n# Retornando todas as linhas da tabela\\n# result = cursor.fetchall()\\n# print(result)\\n\\n# comitando as mudan\\u00e7as para o BD\\nconn.commit()\\n\\n# Lendo os dados da tabela em em DataFrame Pandas\\n\\ndf = pd.read_sql(consulta, conn)\\n\\ndf\";\n",
       "                var nbb_cells = Jupyter.notebook.get_cells();\n",
       "                for (var i = 0; i < nbb_cells.length; ++i) {\n",
       "                    if (nbb_cells[i].input_prompt_number == nbb_cell_id) {\n",
       "                        if (nbb_cells[i].get_text() == nbb_unformatted_code) {\n",
       "                             nbb_cells[i].set_text(nbb_formatted_code);\n",
       "                        }\n",
       "                        break;\n",
       "                    }\n",
       "                }\n",
       "            }, 500);\n",
       "            "
      ],
      "text/plain": [
       "<IPython.core.display.Javascript object>"
      ]
     },
     "metadata": {},
     "output_type": "display_data"
    }
   ],
   "source": [
    "consulta = \"\"\"SELECT * FROM contatos;\"\"\"\n",
    "\n",
    "cursor.execute(consulta)\n",
    "\n",
    "# Retornando a primeira linha da tabela\n",
    "# result = cursor.fetchone()\n",
    "# print(result)\n",
    "\n",
    "# Retornando todas as linhas da tabela\n",
    "# result = cursor.fetchall()\n",
    "# print(result)\n",
    "\n",
    "# comitando as mudanças para o BD\n",
    "conn.commit()\n",
    "\n",
    "# Lendo os dados da tabela em em DataFrame Pandas\n",
    "\n",
    "df = pd.read_sql(consulta, conn)\n",
    "\n",
    "df"
   ]
  },
  {
   "cell_type": "code",
   "execution_count": 67,
   "id": "cae514d3",
   "metadata": {},
   "outputs": [
    {
     "data": {
      "text/html": [
       "<div>\n",
       "<style scoped>\n",
       "    .dataframe tbody tr th:only-of-type {\n",
       "        vertical-align: middle;\n",
       "    }\n",
       "\n",
       "    .dataframe tbody tr th {\n",
       "        vertical-align: top;\n",
       "    }\n",
       "\n",
       "    .dataframe thead th {\n",
       "        text-align: right;\n",
       "    }\n",
       "</style>\n",
       "<table border=\"1\" class=\"dataframe\">\n",
       "  <thead>\n",
       "    <tr style=\"text-align: right;\">\n",
       "      <th></th>\n",
       "      <th>name</th>\n",
       "      <th>type</th>\n",
       "    </tr>\n",
       "  </thead>\n",
       "  <tbody>\n",
       "    <tr>\n",
       "      <th>0</th>\n",
       "      <td>sqlite_sequence</td>\n",
       "      <td>table</td>\n",
       "    </tr>\n",
       "    <tr>\n",
       "      <th>1</th>\n",
       "      <td>CONTATOS</td>\n",
       "      <td>table</td>\n",
       "    </tr>\n",
       "    <tr>\n",
       "      <th>2</th>\n",
       "      <td>FUNCIONARIOS</td>\n",
       "      <td>table</td>\n",
       "    </tr>\n",
       "  </tbody>\n",
       "</table>\n",
       "</div>"
      ],
      "text/plain": [
       "              name   type\n",
       "0  sqlite_sequence  table\n",
       "1         CONTATOS  table\n",
       "2     FUNCIONARIOS  table"
      ]
     },
     "execution_count": 67,
     "metadata": {},
     "output_type": "execute_result"
    },
    {
     "data": {
      "application/javascript": [
       "\n",
       "            setTimeout(function() {\n",
       "                var nbb_cell_id = 67;\n",
       "                var nbb_unformatted_code = \"show_tables()\";\n",
       "                var nbb_formatted_code = \"show_tables()\";\n",
       "                var nbb_cells = Jupyter.notebook.get_cells();\n",
       "                for (var i = 0; i < nbb_cells.length; ++i) {\n",
       "                    if (nbb_cells[i].input_prompt_number == nbb_cell_id) {\n",
       "                        if (nbb_cells[i].get_text() == nbb_unformatted_code) {\n",
       "                             nbb_cells[i].set_text(nbb_formatted_code);\n",
       "                        }\n",
       "                        break;\n",
       "                    }\n",
       "                }\n",
       "            }, 500);\n",
       "            "
      ],
      "text/plain": [
       "<IPython.core.display.Javascript object>"
      ]
     },
     "metadata": {},
     "output_type": "display_data"
    }
   ],
   "source": [
    "show_tables()"
   ]
  },
  {
   "cell_type": "markdown",
   "id": "4f68c59a",
   "metadata": {},
   "source": [
    "### Comandos DQL:\n",
    "\n",
    "- SELECT"
   ]
  },
  {
   "cell_type": "markdown",
   "id": "1274363c",
   "metadata": {},
   "source": [
    "   - retornar id, primeiro e ultimo nome da tabela funcionarios:\n"
   ]
  },
  {
   "cell_type": "code",
   "execution_count": 35,
   "id": "8cae64a0",
   "metadata": {},
   "outputs": [
    {
     "data": {
      "text/html": [
       "<div>\n",
       "<style scoped>\n",
       "    .dataframe tbody tr th:only-of-type {\n",
       "        vertical-align: middle;\n",
       "    }\n",
       "\n",
       "    .dataframe tbody tr th {\n",
       "        vertical-align: top;\n",
       "    }\n",
       "\n",
       "    .dataframe thead th {\n",
       "        text-align: right;\n",
       "    }\n",
       "</style>\n",
       "<table border=\"1\" class=\"dataframe\">\n",
       "  <thead>\n",
       "    <tr style=\"text-align: right;\">\n",
       "      <th></th>\n",
       "      <th>id</th>\n",
       "      <th>primeiro_nome</th>\n",
       "      <th>ultimo_nome</th>\n",
       "    </tr>\n",
       "  </thead>\n",
       "  <tbody>\n",
       "    <tr>\n",
       "      <th>0</th>\n",
       "      <td>1</td>\n",
       "      <td>Pedro</td>\n",
       "      <td>Skooby</td>\n",
       "    </tr>\n",
       "    <tr>\n",
       "      <th>1</th>\n",
       "      <td>2</td>\n",
       "      <td>Maria</td>\n",
       "      <td>Silva</td>\n",
       "    </tr>\n",
       "    <tr>\n",
       "      <th>2</th>\n",
       "      <td>3</td>\n",
       "      <td>Luiza</td>\n",
       "      <td>Matos</td>\n",
       "    </tr>\n",
       "    <tr>\n",
       "      <th>3</th>\n",
       "      <td>4</td>\n",
       "      <td>Lorran</td>\n",
       "      <td>Oliveira</td>\n",
       "    </tr>\n",
       "    <tr>\n",
       "      <th>4</th>\n",
       "      <td>5</td>\n",
       "      <td>Bruno</td>\n",
       "      <td>Barbosa</td>\n",
       "    </tr>\n",
       "  </tbody>\n",
       "</table>\n",
       "</div>"
      ],
      "text/plain": [
       "   id primeiro_nome ultimo_nome\n",
       "0   1         Pedro      Skooby\n",
       "1   2         Maria       Silva\n",
       "2   3         Luiza       Matos\n",
       "3   4        Lorran    Oliveira\n",
       "4   5         Bruno     Barbosa"
      ]
     },
     "execution_count": 35,
     "metadata": {},
     "output_type": "execute_result"
    },
    {
     "data": {
      "application/javascript": [
       "\n",
       "            setTimeout(function() {\n",
       "                var nbb_cell_id = 35;\n",
       "                var nbb_unformatted_code = \"consulta = \\\"\\\"\\\"SELECT id, primeiro_nome, ultimo_nome\\n              FROM FUNCIONARIOS;\\\"\\\"\\\"\\n\\ncursor.execute(consulta)\\n\\n# print(cursor.fetchall())\\n\\ndf = pd.read_sql(consulta, conn)\\n\\ndf\";\n",
       "                var nbb_formatted_code = \"consulta = \\\"\\\"\\\"SELECT id, primeiro_nome, ultimo_nome\\n              FROM FUNCIONARIOS;\\\"\\\"\\\"\\n\\ncursor.execute(consulta)\\n\\n# print(cursor.fetchall())\\n\\ndf = pd.read_sql(consulta, conn)\\n\\ndf\";\n",
       "                var nbb_cells = Jupyter.notebook.get_cells();\n",
       "                for (var i = 0; i < nbb_cells.length; ++i) {\n",
       "                    if (nbb_cells[i].input_prompt_number == nbb_cell_id) {\n",
       "                        if (nbb_cells[i].get_text() == nbb_unformatted_code) {\n",
       "                             nbb_cells[i].set_text(nbb_formatted_code);\n",
       "                        }\n",
       "                        break;\n",
       "                    }\n",
       "                }\n",
       "            }, 500);\n",
       "            "
      ],
      "text/plain": [
       "<IPython.core.display.Javascript object>"
      ]
     },
     "metadata": {},
     "output_type": "display_data"
    }
   ],
   "source": [
    "consulta = \"\"\" \"\"\"\n",
    "\n",
    "cursor.execute(consulta)\n",
    "\n",
    "# print(cursor.fetchall())\n",
    "\n",
    "df = pd.read_sql(consulta, conn)\n",
    "\n",
    "df"
   ]
  },
  {
   "cell_type": "markdown",
   "id": "08d35a72",
   "metadata": {},
   "source": [
    "- retornar id, email da tabela contatos:\n"
   ]
  },
  {
   "cell_type": "code",
   "execution_count": null,
   "id": "becbf0b1",
   "metadata": {},
   "outputs": [],
   "source": [
    "consulta = \"\"\" \"\"\"\n",
    "\n",
    "cursor.execute(consulta)\n",
    "\n",
    "# print(cursor.fetchall())\n",
    "\n",
    "df = pd.read_sql(consulta, conn)\n",
    "\n",
    "df"
   ]
  },
  {
   "cell_type": "markdown",
   "id": "1bf2f152",
   "metadata": {},
   "source": [
    "### Comandos DQL:\n",
    "\n",
    "- SELECT e WHERE"
   ]
  },
  {
   "cell_type": "markdown",
   "id": "49fa817f",
   "metadata": {},
   "source": [
    "- trazer todos os dados da tabela funcionarios, onde a idade seja menor que 30 anos:"
   ]
  },
  {
   "cell_type": "code",
   "execution_count": 40,
   "id": "e3e18563",
   "metadata": {},
   "outputs": [
    {
     "data": {
      "text/html": [
       "<div>\n",
       "<style scoped>\n",
       "    .dataframe tbody tr th:only-of-type {\n",
       "        vertical-align: middle;\n",
       "    }\n",
       "\n",
       "    .dataframe tbody tr th {\n",
       "        vertical-align: top;\n",
       "    }\n",
       "\n",
       "    .dataframe thead th {\n",
       "        text-align: right;\n",
       "    }\n",
       "</style>\n",
       "<table border=\"1\" class=\"dataframe\">\n",
       "  <thead>\n",
       "    <tr style=\"text-align: right;\">\n",
       "      <th></th>\n",
       "      <th>id</th>\n",
       "      <th>primeiro_nome</th>\n",
       "      <th>ultimo_nome</th>\n",
       "      <th>idade</th>\n",
       "      <th>sexo</th>\n",
       "      <th>salario</th>\n",
       "    </tr>\n",
       "  </thead>\n",
       "  <tbody>\n",
       "    <tr>\n",
       "      <th>0</th>\n",
       "      <td>2</td>\n",
       "      <td>Maria</td>\n",
       "      <td>Silva</td>\n",
       "      <td>28</td>\n",
       "      <td>F</td>\n",
       "      <td>1200.0</td>\n",
       "    </tr>\n",
       "    <tr>\n",
       "      <th>1</th>\n",
       "      <td>3</td>\n",
       "      <td>Luiza</td>\n",
       "      <td>Matos</td>\n",
       "      <td>23</td>\n",
       "      <td>F</td>\n",
       "      <td>3500.0</td>\n",
       "    </tr>\n",
       "  </tbody>\n",
       "</table>\n",
       "</div>"
      ],
      "text/plain": [
       "   id primeiro_nome ultimo_nome  idade sexo  salario\n",
       "0   2         Maria       Silva     28    F   1200.0\n",
       "1   3         Luiza       Matos     23    F   3500.0"
      ]
     },
     "execution_count": 40,
     "metadata": {},
     "output_type": "execute_result"
    },
    {
     "data": {
      "application/javascript": [
       "\n",
       "            setTimeout(function() {\n",
       "                var nbb_cell_id = 40;\n",
       "                var nbb_unformatted_code = \"conn = sqlite3.connect(\\\"exemplo.db\\\")\\n\\ncursor = conn.cursor()\\n\\nconsulta = \\\"\\\"\\\"SELECT * \\n              FROM FUNCIONARIOS \\n              WHERE idade <30;\\\"\\\"\\\"\\n\\ncursor.execute(consulta)\\n\\n# print(cursor.fetchall())\\n\\ndf = pd.read_sql(consulta, conn)\\n\\ndf\";\n",
       "                var nbb_formatted_code = \"conn = sqlite3.connect(\\\"exemplo.db\\\")\\n\\ncursor = conn.cursor()\\n\\nconsulta = \\\"\\\"\\\"SELECT * \\n              FROM FUNCIONARIOS \\n              WHERE idade <30;\\\"\\\"\\\"\\n\\ncursor.execute(consulta)\\n\\n# print(cursor.fetchall())\\n\\ndf = pd.read_sql(consulta, conn)\\n\\ndf\";\n",
       "                var nbb_cells = Jupyter.notebook.get_cells();\n",
       "                for (var i = 0; i < nbb_cells.length; ++i) {\n",
       "                    if (nbb_cells[i].input_prompt_number == nbb_cell_id) {\n",
       "                        if (nbb_cells[i].get_text() == nbb_unformatted_code) {\n",
       "                             nbb_cells[i].set_text(nbb_formatted_code);\n",
       "                        }\n",
       "                        break;\n",
       "                    }\n",
       "                }\n",
       "            }, 500);\n",
       "            "
      ],
      "text/plain": [
       "<IPython.core.display.Javascript object>"
      ]
     },
     "metadata": {},
     "output_type": "display_data"
    }
   ],
   "source": [
    "conn = sqlite3.connect(\"exemplo.db\")\n",
    "\n",
    "cursor = conn.cursor()\n",
    "\n",
    "consulta = \"\"\" \"\"\"\n",
    "\n",
    "cursor.execute(consulta)\n",
    "\n",
    "# print(cursor.fetchall())\n",
    "\n",
    "df = pd.read_sql(consulta, conn)\n",
    "\n",
    "df"
   ]
  },
  {
   "cell_type": "markdown",
   "id": "4bfec643",
   "metadata": {},
   "source": [
    "- Retornar o funcionário de id = 1"
   ]
  },
  {
   "cell_type": "code",
   "execution_count": 41,
   "id": "fc3c558a",
   "metadata": {},
   "outputs": [
    {
     "data": {
      "text/html": [
       "<div>\n",
       "<style scoped>\n",
       "    .dataframe tbody tr th:only-of-type {\n",
       "        vertical-align: middle;\n",
       "    }\n",
       "\n",
       "    .dataframe tbody tr th {\n",
       "        vertical-align: top;\n",
       "    }\n",
       "\n",
       "    .dataframe thead th {\n",
       "        text-align: right;\n",
       "    }\n",
       "</style>\n",
       "<table border=\"1\" class=\"dataframe\">\n",
       "  <thead>\n",
       "    <tr style=\"text-align: right;\">\n",
       "      <th></th>\n",
       "      <th>id</th>\n",
       "      <th>primeiro_nome</th>\n",
       "      <th>ultimo_nome</th>\n",
       "      <th>idade</th>\n",
       "      <th>sexo</th>\n",
       "      <th>salario</th>\n",
       "    </tr>\n",
       "  </thead>\n",
       "  <tbody>\n",
       "    <tr>\n",
       "      <th>0</th>\n",
       "      <td>1</td>\n",
       "      <td>Pedro</td>\n",
       "      <td>Skooby</td>\n",
       "      <td>35</td>\n",
       "      <td>M</td>\n",
       "      <td>9000.0</td>\n",
       "    </tr>\n",
       "  </tbody>\n",
       "</table>\n",
       "</div>"
      ],
      "text/plain": [
       "   id primeiro_nome ultimo_nome  idade sexo  salario\n",
       "0   1         Pedro      Skooby     35    M   9000.0"
      ]
     },
     "execution_count": 41,
     "metadata": {},
     "output_type": "execute_result"
    },
    {
     "data": {
      "application/javascript": [
       "\n",
       "            setTimeout(function() {\n",
       "                var nbb_cell_id = 41;\n",
       "                var nbb_unformatted_code = \"conn = sqlite3.connect(\\\"exemplo.db\\\")\\n\\ncursor = conn.cursor()\\n\\nconsulta = \\\"\\\"\\\"SELECT * \\n              FROM FUNCIONARIOS \\n              WHERE id = 1;\\\"\\\"\\\"\\n\\ncursor.execute(consulta)\\n\\n# print(cursor.fetchall())\\n\\ndf = pd.read_sql(consulta, conn)\\n\\ndf\";\n",
       "                var nbb_formatted_code = \"conn = sqlite3.connect(\\\"exemplo.db\\\")\\n\\ncursor = conn.cursor()\\n\\nconsulta = \\\"\\\"\\\"SELECT * \\n              FROM FUNCIONARIOS \\n              WHERE id = 1;\\\"\\\"\\\"\\n\\ncursor.execute(consulta)\\n\\n# print(cursor.fetchall())\\n\\ndf = pd.read_sql(consulta, conn)\\n\\ndf\";\n",
       "                var nbb_cells = Jupyter.notebook.get_cells();\n",
       "                for (var i = 0; i < nbb_cells.length; ++i) {\n",
       "                    if (nbb_cells[i].input_prompt_number == nbb_cell_id) {\n",
       "                        if (nbb_cells[i].get_text() == nbb_unformatted_code) {\n",
       "                             nbb_cells[i].set_text(nbb_formatted_code);\n",
       "                        }\n",
       "                        break;\n",
       "                    }\n",
       "                }\n",
       "            }, 500);\n",
       "            "
      ],
      "text/plain": [
       "<IPython.core.display.Javascript object>"
      ]
     },
     "metadata": {},
     "output_type": "display_data"
    }
   ],
   "source": [
    "conn = sqlite3.connect(\"exemplo.db\")\n",
    "\n",
    "cursor = conn.cursor()\n",
    "\n",
    "consulta = \"\"\" \"\"\"\n",
    "\n",
    "cursor.execute(consulta)\n",
    "\n",
    "# print(cursor.fetchall())\n",
    "\n",
    "df = pd.read_sql(consulta, conn)\n",
    "\n",
    "df"
   ]
  },
  {
   "cell_type": "markdown",
   "id": "8862b773",
   "metadata": {},
   "source": [
    "- retornar todas as informações dos funcionários com salário maior que 3000:"
   ]
  },
  {
   "cell_type": "code",
   "execution_count": 42,
   "id": "8565fa0f",
   "metadata": {},
   "outputs": [
    {
     "data": {
      "text/html": [
       "<div>\n",
       "<style scoped>\n",
       "    .dataframe tbody tr th:only-of-type {\n",
       "        vertical-align: middle;\n",
       "    }\n",
       "\n",
       "    .dataframe tbody tr th {\n",
       "        vertical-align: top;\n",
       "    }\n",
       "\n",
       "    .dataframe thead th {\n",
       "        text-align: right;\n",
       "    }\n",
       "</style>\n",
       "<table border=\"1\" class=\"dataframe\">\n",
       "  <thead>\n",
       "    <tr style=\"text-align: right;\">\n",
       "      <th></th>\n",
       "      <th>id</th>\n",
       "      <th>primeiro_nome</th>\n",
       "      <th>ultimo_nome</th>\n",
       "      <th>idade</th>\n",
       "      <th>sexo</th>\n",
       "      <th>salario</th>\n",
       "    </tr>\n",
       "  </thead>\n",
       "  <tbody>\n",
       "    <tr>\n",
       "      <th>0</th>\n",
       "      <td>1</td>\n",
       "      <td>Pedro</td>\n",
       "      <td>Skooby</td>\n",
       "      <td>35</td>\n",
       "      <td>M</td>\n",
       "      <td>9000.0</td>\n",
       "    </tr>\n",
       "    <tr>\n",
       "      <th>1</th>\n",
       "      <td>3</td>\n",
       "      <td>Luiza</td>\n",
       "      <td>Matos</td>\n",
       "      <td>23</td>\n",
       "      <td>F</td>\n",
       "      <td>3500.0</td>\n",
       "    </tr>\n",
       "    <tr>\n",
       "      <th>2</th>\n",
       "      <td>4</td>\n",
       "      <td>Lorran</td>\n",
       "      <td>Oliveira</td>\n",
       "      <td>32</td>\n",
       "      <td>M</td>\n",
       "      <td>5000.0</td>\n",
       "    </tr>\n",
       "    <tr>\n",
       "      <th>3</th>\n",
       "      <td>5</td>\n",
       "      <td>Bruno</td>\n",
       "      <td>Barbosa</td>\n",
       "      <td>37</td>\n",
       "      <td>M</td>\n",
       "      <td>6000.0</td>\n",
       "    </tr>\n",
       "  </tbody>\n",
       "</table>\n",
       "</div>"
      ],
      "text/plain": [
       "   id primeiro_nome ultimo_nome  idade sexo  salario\n",
       "0   1         Pedro      Skooby     35    M   9000.0\n",
       "1   3         Luiza       Matos     23    F   3500.0\n",
       "2   4        Lorran    Oliveira     32    M   5000.0\n",
       "3   5         Bruno     Barbosa     37    M   6000.0"
      ]
     },
     "execution_count": 42,
     "metadata": {},
     "output_type": "execute_result"
    },
    {
     "data": {
      "application/javascript": [
       "\n",
       "            setTimeout(function() {\n",
       "                var nbb_cell_id = 42;\n",
       "                var nbb_unformatted_code = \"conn = sqlite3.connect(\\\"exemplo.db\\\")\\n\\ncursor = conn.cursor()\\n\\nconsulta = \\\"\\\"\\\"SELECT * \\n              FROM FUNCIONARIOS \\n              WHERE salario > 3000;\\\"\\\"\\\"\\n\\ncursor.execute(consulta)\\n\\n# print(cursor.fetchall())\\n\\ndf = pd.read_sql(consulta, conn)\\n\\ndf\";\n",
       "                var nbb_formatted_code = \"conn = sqlite3.connect(\\\"exemplo.db\\\")\\n\\ncursor = conn.cursor()\\n\\nconsulta = \\\"\\\"\\\"SELECT * \\n              FROM FUNCIONARIOS \\n              WHERE salario > 3000;\\\"\\\"\\\"\\n\\ncursor.execute(consulta)\\n\\n# print(cursor.fetchall())\\n\\ndf = pd.read_sql(consulta, conn)\\n\\ndf\";\n",
       "                var nbb_cells = Jupyter.notebook.get_cells();\n",
       "                for (var i = 0; i < nbb_cells.length; ++i) {\n",
       "                    if (nbb_cells[i].input_prompt_number == nbb_cell_id) {\n",
       "                        if (nbb_cells[i].get_text() == nbb_unformatted_code) {\n",
       "                             nbb_cells[i].set_text(nbb_formatted_code);\n",
       "                        }\n",
       "                        break;\n",
       "                    }\n",
       "                }\n",
       "            }, 500);\n",
       "            "
      ],
      "text/plain": [
       "<IPython.core.display.Javascript object>"
      ]
     },
     "metadata": {},
     "output_type": "display_data"
    }
   ],
   "source": [
    "conn = sqlite3.connect(\"exemplo.db\")\n",
    "\n",
    "cursor = conn.cursor()\n",
    "\n",
    "consulta = \"\"\" \"\"\"\n",
    "\n",
    "cursor.execute(consulta)\n",
    "\n",
    "# print(cursor.fetchall())\n",
    "\n",
    "df = pd.read_sql(consulta, conn)\n",
    "\n",
    "df"
   ]
  },
  {
   "cell_type": "markdown",
   "id": "9adbb700",
   "metadata": {},
   "source": [
    "\n",
    "- Trazer da tabela 'FUNCIONARIOS' nome, sobrenome e idade dos funcionarios que tem salário acima de R$3000 e idade menor que 35:"
   ]
  },
  {
   "cell_type": "code",
   "execution_count": 43,
   "id": "4d76bafa",
   "metadata": {},
   "outputs": [
    {
     "data": {
      "text/html": [
       "<div>\n",
       "<style scoped>\n",
       "    .dataframe tbody tr th:only-of-type {\n",
       "        vertical-align: middle;\n",
       "    }\n",
       "\n",
       "    .dataframe tbody tr th {\n",
       "        vertical-align: top;\n",
       "    }\n",
       "\n",
       "    .dataframe thead th {\n",
       "        text-align: right;\n",
       "    }\n",
       "</style>\n",
       "<table border=\"1\" class=\"dataframe\">\n",
       "  <thead>\n",
       "    <tr style=\"text-align: right;\">\n",
       "      <th></th>\n",
       "      <th>id</th>\n",
       "      <th>primeiro_nome</th>\n",
       "      <th>ultimo_nome</th>\n",
       "      <th>idade</th>\n",
       "      <th>sexo</th>\n",
       "      <th>salario</th>\n",
       "    </tr>\n",
       "  </thead>\n",
       "  <tbody>\n",
       "    <tr>\n",
       "      <th>0</th>\n",
       "      <td>1</td>\n",
       "      <td>Pedro</td>\n",
       "      <td>Skooby</td>\n",
       "      <td>35</td>\n",
       "      <td>M</td>\n",
       "      <td>9000.0</td>\n",
       "    </tr>\n",
       "    <tr>\n",
       "      <th>1</th>\n",
       "      <td>3</td>\n",
       "      <td>Luiza</td>\n",
       "      <td>Matos</td>\n",
       "      <td>23</td>\n",
       "      <td>F</td>\n",
       "      <td>3500.0</td>\n",
       "    </tr>\n",
       "    <tr>\n",
       "      <th>2</th>\n",
       "      <td>4</td>\n",
       "      <td>Lorran</td>\n",
       "      <td>Oliveira</td>\n",
       "      <td>32</td>\n",
       "      <td>M</td>\n",
       "      <td>5000.0</td>\n",
       "    </tr>\n",
       "  </tbody>\n",
       "</table>\n",
       "</div>"
      ],
      "text/plain": [
       "   id primeiro_nome ultimo_nome  idade sexo  salario\n",
       "0   1         Pedro      Skooby     35    M   9000.0\n",
       "1   3         Luiza       Matos     23    F   3500.0\n",
       "2   4        Lorran    Oliveira     32    M   5000.0"
      ]
     },
     "execution_count": 43,
     "metadata": {},
     "output_type": "execute_result"
    },
    {
     "data": {
      "application/javascript": [
       "\n",
       "            setTimeout(function() {\n",
       "                var nbb_cell_id = 43;\n",
       "                var nbb_unformatted_code = \"conn = sqlite3.connect(\\\"exemplo.db\\\")\\n\\ncursor = conn.cursor()\\n\\nconsulta = \\\"\\\"\\\"SELECT * \\n              FROM FUNCIONARIOS \\n              WHERE salario > 3000\\n              AND idade <= 35;\\\"\\\"\\\"\\n\\ncursor.execute(consulta)\\n\\n# print(cursor.fetchall())\\n\\ndf = pd.read_sql(consulta, conn)\\n\\ndf\";\n",
       "                var nbb_formatted_code = \"conn = sqlite3.connect(\\\"exemplo.db\\\")\\n\\ncursor = conn.cursor()\\n\\nconsulta = \\\"\\\"\\\"SELECT * \\n              FROM FUNCIONARIOS \\n              WHERE salario > 3000\\n              AND idade <= 35;\\\"\\\"\\\"\\n\\ncursor.execute(consulta)\\n\\n# print(cursor.fetchall())\\n\\ndf = pd.read_sql(consulta, conn)\\n\\ndf\";\n",
       "                var nbb_cells = Jupyter.notebook.get_cells();\n",
       "                for (var i = 0; i < nbb_cells.length; ++i) {\n",
       "                    if (nbb_cells[i].input_prompt_number == nbb_cell_id) {\n",
       "                        if (nbb_cells[i].get_text() == nbb_unformatted_code) {\n",
       "                             nbb_cells[i].set_text(nbb_formatted_code);\n",
       "                        }\n",
       "                        break;\n",
       "                    }\n",
       "                }\n",
       "            }, 500);\n",
       "            "
      ],
      "text/plain": [
       "<IPython.core.display.Javascript object>"
      ]
     },
     "metadata": {},
     "output_type": "display_data"
    }
   ],
   "source": [
    "conn = sqlite3.connect(\"exemplo.db\")\n",
    "\n",
    "cursor = conn.cursor()\n",
    "\n",
    "consulta = \"\"\" \"\"\"\n",
    "\n",
    "cursor.execute(consulta)\n",
    "\n",
    "# print(cursor.fetchall())\n",
    "\n",
    "df = pd.read_sql(consulta, conn)\n",
    "\n",
    "df"
   ]
  },
  {
   "cell_type": "markdown",
   "id": "d9fda888",
   "metadata": {},
   "source": [
    "### Comandos DQL:\n",
    "\n",
    "- SELECT e ORDER BY"
   ]
  },
  {
   "cell_type": "markdown",
   "id": "45f52ff2",
   "metadata": {},
   "source": [
    "- Trazer todas as informações do funcionário mas ordenadas pela idade de maneira crescente:"
   ]
  },
  {
   "cell_type": "code",
   "execution_count": 44,
   "id": "b6af2b9b",
   "metadata": {},
   "outputs": [
    {
     "data": {
      "text/html": [
       "<div>\n",
       "<style scoped>\n",
       "    .dataframe tbody tr th:only-of-type {\n",
       "        vertical-align: middle;\n",
       "    }\n",
       "\n",
       "    .dataframe tbody tr th {\n",
       "        vertical-align: top;\n",
       "    }\n",
       "\n",
       "    .dataframe thead th {\n",
       "        text-align: right;\n",
       "    }\n",
       "</style>\n",
       "<table border=\"1\" class=\"dataframe\">\n",
       "  <thead>\n",
       "    <tr style=\"text-align: right;\">\n",
       "      <th></th>\n",
       "      <th>id</th>\n",
       "      <th>primeiro_nome</th>\n",
       "      <th>ultimo_nome</th>\n",
       "      <th>idade</th>\n",
       "      <th>sexo</th>\n",
       "      <th>salario</th>\n",
       "    </tr>\n",
       "  </thead>\n",
       "  <tbody>\n",
       "    <tr>\n",
       "      <th>0</th>\n",
       "      <td>3</td>\n",
       "      <td>Luiza</td>\n",
       "      <td>Matos</td>\n",
       "      <td>23</td>\n",
       "      <td>F</td>\n",
       "      <td>3500.0</td>\n",
       "    </tr>\n",
       "    <tr>\n",
       "      <th>1</th>\n",
       "      <td>2</td>\n",
       "      <td>Maria</td>\n",
       "      <td>Silva</td>\n",
       "      <td>28</td>\n",
       "      <td>F</td>\n",
       "      <td>1200.0</td>\n",
       "    </tr>\n",
       "    <tr>\n",
       "      <th>2</th>\n",
       "      <td>4</td>\n",
       "      <td>Lorran</td>\n",
       "      <td>Oliveira</td>\n",
       "      <td>32</td>\n",
       "      <td>M</td>\n",
       "      <td>5000.0</td>\n",
       "    </tr>\n",
       "    <tr>\n",
       "      <th>3</th>\n",
       "      <td>1</td>\n",
       "      <td>Pedro</td>\n",
       "      <td>Skooby</td>\n",
       "      <td>35</td>\n",
       "      <td>M</td>\n",
       "      <td>9000.0</td>\n",
       "    </tr>\n",
       "    <tr>\n",
       "      <th>4</th>\n",
       "      <td>5</td>\n",
       "      <td>Bruno</td>\n",
       "      <td>Barbosa</td>\n",
       "      <td>37</td>\n",
       "      <td>M</td>\n",
       "      <td>6000.0</td>\n",
       "    </tr>\n",
       "  </tbody>\n",
       "</table>\n",
       "</div>"
      ],
      "text/plain": [
       "   id primeiro_nome ultimo_nome  idade sexo  salario\n",
       "0   3         Luiza       Matos     23    F   3500.0\n",
       "1   2         Maria       Silva     28    F   1200.0\n",
       "2   4        Lorran    Oliveira     32    M   5000.0\n",
       "3   1         Pedro      Skooby     35    M   9000.0\n",
       "4   5         Bruno     Barbosa     37    M   6000.0"
      ]
     },
     "execution_count": 44,
     "metadata": {},
     "output_type": "execute_result"
    },
    {
     "data": {
      "application/javascript": [
       "\n",
       "            setTimeout(function() {\n",
       "                var nbb_cell_id = 44;\n",
       "                var nbb_unformatted_code = \"conn = sqlite3.connect(\\\"exemplo.db\\\")\\n\\ncursor = conn.cursor()\\n\\nconsulta = \\\"\\\"\\\"SELECT * \\n              FROM FUNCIONARIOS \\n              ORDER BY idade;\\\"\\\"\\\"\\n\\ncursor.execute(consulta)\\n\\n# print(cursor.fetchall())\\n\\ndf = pd.read_sql(consulta, conn)\\n\\ndf\";\n",
       "                var nbb_formatted_code = \"conn = sqlite3.connect(\\\"exemplo.db\\\")\\n\\ncursor = conn.cursor()\\n\\nconsulta = \\\"\\\"\\\"SELECT * \\n              FROM FUNCIONARIOS \\n              ORDER BY idade;\\\"\\\"\\\"\\n\\ncursor.execute(consulta)\\n\\n# print(cursor.fetchall())\\n\\ndf = pd.read_sql(consulta, conn)\\n\\ndf\";\n",
       "                var nbb_cells = Jupyter.notebook.get_cells();\n",
       "                for (var i = 0; i < nbb_cells.length; ++i) {\n",
       "                    if (nbb_cells[i].input_prompt_number == nbb_cell_id) {\n",
       "                        if (nbb_cells[i].get_text() == nbb_unformatted_code) {\n",
       "                             nbb_cells[i].set_text(nbb_formatted_code);\n",
       "                        }\n",
       "                        break;\n",
       "                    }\n",
       "                }\n",
       "            }, 500);\n",
       "            "
      ],
      "text/plain": [
       "<IPython.core.display.Javascript object>"
      ]
     },
     "metadata": {},
     "output_type": "display_data"
    }
   ],
   "source": [
    "conn = sqlite3.connect(\"exemplo.db\")\n",
    "\n",
    "cursor = conn.cursor()\n",
    "\n",
    "consulta = \"\"\" \"\"\"\n",
    "\n",
    "cursor.execute(consulta)\n",
    "\n",
    "# print(cursor.fetchall())\n",
    "\n",
    "df = pd.read_sql(consulta, conn)\n",
    "\n",
    "df"
   ]
  },
  {
   "cell_type": "markdown",
   "id": "7bd35e42",
   "metadata": {},
   "source": [
    "- nome, idade e salário dos funcionários, ordenados pelo salário de maneira decrescente: "
   ]
  },
  {
   "cell_type": "code",
   "execution_count": 45,
   "id": "04379a0c",
   "metadata": {},
   "outputs": [
    {
     "data": {
      "text/html": [
       "<div>\n",
       "<style scoped>\n",
       "    .dataframe tbody tr th:only-of-type {\n",
       "        vertical-align: middle;\n",
       "    }\n",
       "\n",
       "    .dataframe tbody tr th {\n",
       "        vertical-align: top;\n",
       "    }\n",
       "\n",
       "    .dataframe thead th {\n",
       "        text-align: right;\n",
       "    }\n",
       "</style>\n",
       "<table border=\"1\" class=\"dataframe\">\n",
       "  <thead>\n",
       "    <tr style=\"text-align: right;\">\n",
       "      <th></th>\n",
       "      <th>id</th>\n",
       "      <th>primeiro_nome</th>\n",
       "      <th>ultimo_nome</th>\n",
       "      <th>idade</th>\n",
       "      <th>sexo</th>\n",
       "      <th>salario</th>\n",
       "    </tr>\n",
       "  </thead>\n",
       "  <tbody>\n",
       "    <tr>\n",
       "      <th>0</th>\n",
       "      <td>1</td>\n",
       "      <td>Pedro</td>\n",
       "      <td>Skooby</td>\n",
       "      <td>35</td>\n",
       "      <td>M</td>\n",
       "      <td>9000.0</td>\n",
       "    </tr>\n",
       "    <tr>\n",
       "      <th>1</th>\n",
       "      <td>5</td>\n",
       "      <td>Bruno</td>\n",
       "      <td>Barbosa</td>\n",
       "      <td>37</td>\n",
       "      <td>M</td>\n",
       "      <td>6000.0</td>\n",
       "    </tr>\n",
       "    <tr>\n",
       "      <th>2</th>\n",
       "      <td>4</td>\n",
       "      <td>Lorran</td>\n",
       "      <td>Oliveira</td>\n",
       "      <td>32</td>\n",
       "      <td>M</td>\n",
       "      <td>5000.0</td>\n",
       "    </tr>\n",
       "    <tr>\n",
       "      <th>3</th>\n",
       "      <td>3</td>\n",
       "      <td>Luiza</td>\n",
       "      <td>Matos</td>\n",
       "      <td>23</td>\n",
       "      <td>F</td>\n",
       "      <td>3500.0</td>\n",
       "    </tr>\n",
       "    <tr>\n",
       "      <th>4</th>\n",
       "      <td>2</td>\n",
       "      <td>Maria</td>\n",
       "      <td>Silva</td>\n",
       "      <td>28</td>\n",
       "      <td>F</td>\n",
       "      <td>1200.0</td>\n",
       "    </tr>\n",
       "  </tbody>\n",
       "</table>\n",
       "</div>"
      ],
      "text/plain": [
       "   id primeiro_nome ultimo_nome  idade sexo  salario\n",
       "0   1         Pedro      Skooby     35    M   9000.0\n",
       "1   5         Bruno     Barbosa     37    M   6000.0\n",
       "2   4        Lorran    Oliveira     32    M   5000.0\n",
       "3   3         Luiza       Matos     23    F   3500.0\n",
       "4   2         Maria       Silva     28    F   1200.0"
      ]
     },
     "execution_count": 45,
     "metadata": {},
     "output_type": "execute_result"
    },
    {
     "data": {
      "application/javascript": [
       "\n",
       "            setTimeout(function() {\n",
       "                var nbb_cell_id = 45;\n",
       "                var nbb_unformatted_code = \"conn = sqlite3.connect(\\\"exemplo.db\\\")\\n\\ncursor = conn.cursor()\\n\\nconsulta = \\\"\\\"\\\"SELECT * \\n              FROM FUNCIONARIOS \\n              ORDER BY salario DESC;\\\"\\\"\\\"\\n\\ncursor.execute(consulta)\\n\\n# print(cursor.fetchall())\\n\\ndf = pd.read_sql(consulta, conn)\\n\\ndf\";\n",
       "                var nbb_formatted_code = \"conn = sqlite3.connect(\\\"exemplo.db\\\")\\n\\ncursor = conn.cursor()\\n\\nconsulta = \\\"\\\"\\\"SELECT * \\n              FROM FUNCIONARIOS \\n              ORDER BY salario DESC;\\\"\\\"\\\"\\n\\ncursor.execute(consulta)\\n\\n# print(cursor.fetchall())\\n\\ndf = pd.read_sql(consulta, conn)\\n\\ndf\";\n",
       "                var nbb_cells = Jupyter.notebook.get_cells();\n",
       "                for (var i = 0; i < nbb_cells.length; ++i) {\n",
       "                    if (nbb_cells[i].input_prompt_number == nbb_cell_id) {\n",
       "                        if (nbb_cells[i].get_text() == nbb_unformatted_code) {\n",
       "                             nbb_cells[i].set_text(nbb_formatted_code);\n",
       "                        }\n",
       "                        break;\n",
       "                    }\n",
       "                }\n",
       "            }, 500);\n",
       "            "
      ],
      "text/plain": [
       "<IPython.core.display.Javascript object>"
      ]
     },
     "metadata": {},
     "output_type": "display_data"
    }
   ],
   "source": [
    "conn = sqlite3.connect(\"exemplo.db\")\n",
    "\n",
    "cursor = conn.cursor()\n",
    "\n",
    "consulta = \"\"\" \"\"\"\n",
    "\n",
    "cursor.execute(consulta)\n",
    "\n",
    "# print(cursor.fetchall())\n",
    "\n",
    "df = pd.read_sql(consulta, conn)\n",
    "\n",
    "df"
   ]
  },
  {
   "cell_type": "markdown",
   "id": "174e9a8a",
   "metadata": {},
   "source": [
    "- trazer todos os dados dos funcionários onde o salário é maior que 3000 e a idade menor que 35 anos, ordenados pelo salário de maneira decrescente. "
   ]
  },
  {
   "cell_type": "code",
   "execution_count": 68,
   "id": "7cc4accd",
   "metadata": {},
   "outputs": [
    {
     "data": {
      "text/html": [
       "<div>\n",
       "<style scoped>\n",
       "    .dataframe tbody tr th:only-of-type {\n",
       "        vertical-align: middle;\n",
       "    }\n",
       "\n",
       "    .dataframe tbody tr th {\n",
       "        vertical-align: top;\n",
       "    }\n",
       "\n",
       "    .dataframe thead th {\n",
       "        text-align: right;\n",
       "    }\n",
       "</style>\n",
       "<table border=\"1\" class=\"dataframe\">\n",
       "  <thead>\n",
       "    <tr style=\"text-align: right;\">\n",
       "      <th></th>\n",
       "      <th>id</th>\n",
       "      <th>primeiro_nome</th>\n",
       "      <th>ultimo_nome</th>\n",
       "      <th>idade</th>\n",
       "      <th>sexo</th>\n",
       "      <th>salario</th>\n",
       "      <th>usuario</th>\n",
       "    </tr>\n",
       "  </thead>\n",
       "  <tbody>\n",
       "    <tr>\n",
       "      <th>0</th>\n",
       "      <td>1</td>\n",
       "      <td>Pedro</td>\n",
       "      <td>Skooby</td>\n",
       "      <td>35</td>\n",
       "      <td>M</td>\n",
       "      <td>9000.0</td>\n",
       "      <td>pskooby</td>\n",
       "    </tr>\n",
       "    <tr>\n",
       "      <th>1</th>\n",
       "      <td>4</td>\n",
       "      <td>Lorran</td>\n",
       "      <td>Oliveira</td>\n",
       "      <td>32</td>\n",
       "      <td>M</td>\n",
       "      <td>5000.0</td>\n",
       "      <td>loliveira</td>\n",
       "    </tr>\n",
       "    <tr>\n",
       "      <th>2</th>\n",
       "      <td>3</td>\n",
       "      <td>Luiza</td>\n",
       "      <td>Matos</td>\n",
       "      <td>23</td>\n",
       "      <td>F</td>\n",
       "      <td>3500.0</td>\n",
       "      <td>lumatos</td>\n",
       "    </tr>\n",
       "  </tbody>\n",
       "</table>\n",
       "</div>"
      ],
      "text/plain": [
       "   id primeiro_nome ultimo_nome  idade sexo  salario    usuario\n",
       "0   1         Pedro      Skooby     35    M   9000.0    pskooby\n",
       "1   4        Lorran    Oliveira     32    M   5000.0  loliveira\n",
       "2   3         Luiza       Matos     23    F   3500.0    lumatos"
      ]
     },
     "execution_count": 68,
     "metadata": {},
     "output_type": "execute_result"
    },
    {
     "data": {
      "application/javascript": [
       "\n",
       "            setTimeout(function() {\n",
       "                var nbb_cell_id = 68;\n",
       "                var nbb_unformatted_code = \"conn = sqlite3.connect(\\\"exemplo.db\\\")\\n\\ncursor = conn.cursor()\\n\\nconsulta = \\\"\\\"\\\"SELECT * \\n              FROM FUNCIONARIOS \\n              WHERE salario > 3000\\n              AND idade <= 35\\n              ORDER BY ultimo_nome DESC;\\\"\\\"\\\"\\n\\ncursor.execute(consulta)\\n\\n# print(cursor.fetchall())\\n\\ndf = pd.read_sql(consulta, conn)\\n\\ndf\";\n",
       "                var nbb_formatted_code = \"conn = sqlite3.connect(\\\"exemplo.db\\\")\\n\\ncursor = conn.cursor()\\n\\nconsulta = \\\"\\\"\\\"SELECT * \\n              FROM FUNCIONARIOS \\n              WHERE salario > 3000\\n              AND idade <= 35\\n              ORDER BY ultimo_nome DESC;\\\"\\\"\\\"\\n\\ncursor.execute(consulta)\\n\\n# print(cursor.fetchall())\\n\\ndf = pd.read_sql(consulta, conn)\\n\\ndf\";\n",
       "                var nbb_cells = Jupyter.notebook.get_cells();\n",
       "                for (var i = 0; i < nbb_cells.length; ++i) {\n",
       "                    if (nbb_cells[i].input_prompt_number == nbb_cell_id) {\n",
       "                        if (nbb_cells[i].get_text() == nbb_unformatted_code) {\n",
       "                             nbb_cells[i].set_text(nbb_formatted_code);\n",
       "                        }\n",
       "                        break;\n",
       "                    }\n",
       "                }\n",
       "            }, 500);\n",
       "            "
      ],
      "text/plain": [
       "<IPython.core.display.Javascript object>"
      ]
     },
     "metadata": {},
     "output_type": "display_data"
    }
   ],
   "source": [
    "conn = sqlite3.connect(\"exemplo.db\")\n",
    "\n",
    "cursor = conn.cursor()\n",
    "\n",
    "consulta = \"\"\" \"\"\"\n",
    "\n",
    "cursor.execute(consulta)\n",
    "\n",
    "# print(cursor.fetchall())\n",
    "\n",
    "df = pd.read_sql(consulta, conn)\n",
    "\n",
    "df"
   ]
  },
  {
   "cell_type": "markdown",
   "id": "b89eb0f1",
   "metadata": {},
   "source": [
    "- trazer nome, idade e salario dos funcionarios com salário entre 3000 e 5000, com idade menor que 35 anos, ordenados por idade de maneira decrescente. "
   ]
  },
  {
   "cell_type": "code",
   "execution_count": 72,
   "id": "976ebc28",
   "metadata": {},
   "outputs": [
    {
     "data": {
      "text/html": [
       "<div>\n",
       "<style scoped>\n",
       "    .dataframe tbody tr th:only-of-type {\n",
       "        vertical-align: middle;\n",
       "    }\n",
       "\n",
       "    .dataframe tbody tr th {\n",
       "        vertical-align: top;\n",
       "    }\n",
       "\n",
       "    .dataframe thead th {\n",
       "        text-align: right;\n",
       "    }\n",
       "</style>\n",
       "<table border=\"1\" class=\"dataframe\">\n",
       "  <thead>\n",
       "    <tr style=\"text-align: right;\">\n",
       "      <th></th>\n",
       "      <th>id</th>\n",
       "      <th>primeiro_nome</th>\n",
       "      <th>ultimo_nome</th>\n",
       "      <th>idade</th>\n",
       "      <th>sexo</th>\n",
       "      <th>salario</th>\n",
       "      <th>usuario</th>\n",
       "    </tr>\n",
       "  </thead>\n",
       "  <tbody>\n",
       "    <tr>\n",
       "      <th>0</th>\n",
       "      <td>4</td>\n",
       "      <td>Lorran</td>\n",
       "      <td>Oliveira</td>\n",
       "      <td>32</td>\n",
       "      <td>M</td>\n",
       "      <td>5000.0</td>\n",
       "      <td>loliveira</td>\n",
       "    </tr>\n",
       "    <tr>\n",
       "      <th>1</th>\n",
       "      <td>3</td>\n",
       "      <td>Luiza</td>\n",
       "      <td>Matos</td>\n",
       "      <td>23</td>\n",
       "      <td>F</td>\n",
       "      <td>3500.0</td>\n",
       "      <td>lumatos</td>\n",
       "    </tr>\n",
       "  </tbody>\n",
       "</table>\n",
       "</div>"
      ],
      "text/plain": [
       "   id primeiro_nome ultimo_nome  idade sexo  salario    usuario\n",
       "0   4        Lorran    Oliveira     32    M   5000.0  loliveira\n",
       "1   3         Luiza       Matos     23    F   3500.0    lumatos"
      ]
     },
     "execution_count": 72,
     "metadata": {},
     "output_type": "execute_result"
    },
    {
     "data": {
      "application/javascript": [
       "\n",
       "            setTimeout(function() {\n",
       "                var nbb_cell_id = 72;\n",
       "                var nbb_unformatted_code = \"conn = sqlite3.connect(\\\"exemplo.db\\\")\\n\\ncursor = conn.cursor()\\n\\nconsulta = \\\"\\\"\\\"SELECT * \\n              FROM FUNCIONARIOS \\n              WHERE salario BETWEEN 3000 AND 5000\\n              AND idade <= 35\\n              ORDER BY idade DESC;\\\"\\\"\\\"\\n\\ncursor.execute(consulta)\\n\\n# print(cursor.fetchall())\\n\\ndf = pd.read_sql(consulta, conn)\\n\\ndf\";\n",
       "                var nbb_formatted_code = \"conn = sqlite3.connect(\\\"exemplo.db\\\")\\n\\ncursor = conn.cursor()\\n\\nconsulta = \\\"\\\"\\\"SELECT * \\n              FROM FUNCIONARIOS \\n              WHERE salario BETWEEN 3000 AND 5000\\n              AND idade <= 35\\n              ORDER BY idade DESC;\\\"\\\"\\\"\\n\\ncursor.execute(consulta)\\n\\n# print(cursor.fetchall())\\n\\ndf = pd.read_sql(consulta, conn)\\n\\ndf\";\n",
       "                var nbb_cells = Jupyter.notebook.get_cells();\n",
       "                for (var i = 0; i < nbb_cells.length; ++i) {\n",
       "                    if (nbb_cells[i].input_prompt_number == nbb_cell_id) {\n",
       "                        if (nbb_cells[i].get_text() == nbb_unformatted_code) {\n",
       "                             nbb_cells[i].set_text(nbb_formatted_code);\n",
       "                        }\n",
       "                        break;\n",
       "                    }\n",
       "                }\n",
       "            }, 500);\n",
       "            "
      ],
      "text/plain": [
       "<IPython.core.display.Javascript object>"
      ]
     },
     "metadata": {},
     "output_type": "display_data"
    }
   ],
   "source": [
    "conn = sqlite3.connect(\"exemplo.db\")\n",
    "\n",
    "cursor = conn.cursor()\n",
    "\n",
    "consulta = \"\"\" \"\"\"\n",
    "\n",
    "cursor.execute(consulta)\n",
    "\n",
    "# print(cursor.fetchall())\n",
    "\n",
    "df = pd.read_sql(consulta, conn)\n",
    "\n",
    "df"
   ]
  },
  {
   "cell_type": "markdown",
   "id": "7f499300",
   "metadata": {},
   "source": [
    "### JOINS"
   ]
  },
  {
   "cell_type": "markdown",
   "id": "c88828fc",
   "metadata": {},
   "source": [
    "![title](img/inner_join.png)"
   ]
  },
  {
   "cell_type": "code",
   "execution_count": 73,
   "id": "f9fad6ba",
   "metadata": {},
   "outputs": [
    {
     "data": {
      "text/html": [
       "<div>\n",
       "<style scoped>\n",
       "    .dataframe tbody tr th:only-of-type {\n",
       "        vertical-align: middle;\n",
       "    }\n",
       "\n",
       "    .dataframe tbody tr th {\n",
       "        vertical-align: top;\n",
       "    }\n",
       "\n",
       "    .dataframe thead th {\n",
       "        text-align: right;\n",
       "    }\n",
       "</style>\n",
       "<table border=\"1\" class=\"dataframe\">\n",
       "  <thead>\n",
       "    <tr style=\"text-align: right;\">\n",
       "      <th></th>\n",
       "      <th>Nome</th>\n",
       "      <th>Sobrenome</th>\n",
       "      <th>email</th>\n",
       "    </tr>\n",
       "  </thead>\n",
       "  <tbody>\n",
       "    <tr>\n",
       "      <th>0</th>\n",
       "      <td>Pedro</td>\n",
       "      <td>Skooby</td>\n",
       "      <td>skooby@emailegal.com</td>\n",
       "    </tr>\n",
       "    <tr>\n",
       "      <th>1</th>\n",
       "      <td>Maria</td>\n",
       "      <td>Silva</td>\n",
       "      <td>msilva@emailqualquer.com</td>\n",
       "    </tr>\n",
       "    <tr>\n",
       "      <th>2</th>\n",
       "      <td>Luiza</td>\n",
       "      <td>Matos</td>\n",
       "      <td>luizamatos@yahoo.com</td>\n",
       "    </tr>\n",
       "    <tr>\n",
       "      <th>3</th>\n",
       "      <td>Lorran</td>\n",
       "      <td>Oliveira</td>\n",
       "      <td>lorranoliveir@gemail.com</td>\n",
       "    </tr>\n",
       "    <tr>\n",
       "      <th>4</th>\n",
       "      <td>Bruno</td>\n",
       "      <td>Barbosa</td>\n",
       "      <td>bbarb@email.com</td>\n",
       "    </tr>\n",
       "  </tbody>\n",
       "</table>\n",
       "</div>"
      ],
      "text/plain": [
       "     Nome Sobrenome                     email\n",
       "0   Pedro    Skooby      skooby@emailegal.com\n",
       "1   Maria     Silva  msilva@emailqualquer.com\n",
       "2   Luiza     Matos      luizamatos@yahoo.com\n",
       "3  Lorran  Oliveira  lorranoliveir@gemail.com\n",
       "4   Bruno   Barbosa           bbarb@email.com"
      ]
     },
     "execution_count": 73,
     "metadata": {},
     "output_type": "execute_result"
    },
    {
     "data": {
      "application/javascript": [
       "\n",
       "            setTimeout(function() {\n",
       "                var nbb_cell_id = 73;\n",
       "                var nbb_unformatted_code = \"consulta = \\\"\\\"\\\"SELECT\\n    f.primeiro_nome AS Nome,\\n    f.ultimo_nome AS Sobrenome,\\n    c.email \\nFROM\\n    FUNCIONARIOS f\\nINNER JOIN CONTATOS c ON f.id = c.id_funcionario;\\\"\\\"\\\"\\n\\ncursor.execute(consulta)\\n\\n# print(cursor.fetchall())\\n\\ndf = pd.read_sql(consulta, conn)\\n\\ndf\";\n",
       "                var nbb_formatted_code = \"consulta = \\\"\\\"\\\"SELECT\\n    f.primeiro_nome AS Nome,\\n    f.ultimo_nome AS Sobrenome,\\n    c.email \\nFROM\\n    FUNCIONARIOS f\\nINNER JOIN CONTATOS c ON f.id = c.id_funcionario;\\\"\\\"\\\"\\n\\ncursor.execute(consulta)\\n\\n# print(cursor.fetchall())\\n\\ndf = pd.read_sql(consulta, conn)\\n\\ndf\";\n",
       "                var nbb_cells = Jupyter.notebook.get_cells();\n",
       "                for (var i = 0; i < nbb_cells.length; ++i) {\n",
       "                    if (nbb_cells[i].input_prompt_number == nbb_cell_id) {\n",
       "                        if (nbb_cells[i].get_text() == nbb_unformatted_code) {\n",
       "                             nbb_cells[i].set_text(nbb_formatted_code);\n",
       "                        }\n",
       "                        break;\n",
       "                    }\n",
       "                }\n",
       "            }, 500);\n",
       "            "
      ],
      "text/plain": [
       "<IPython.core.display.Javascript object>"
      ]
     },
     "metadata": {},
     "output_type": "display_data"
    }
   ],
   "source": [
    "consulta = \"\"\"SELECT\n",
    "    f.primeiro_nome AS Nome,\n",
    "    f.ultimo_nome AS Sobrenome,\n",
    "    c.email \n",
    "FROM\n",
    "    FUNCIONARIOS f\n",
    "INNER JOIN CONTATOS c ON f.id = c.id_funcionario;\"\"\"\n",
    "\n",
    "cursor.execute(consulta)\n",
    "\n",
    "# print(cursor.fetchall())\n",
    "\n",
    "df = pd.read_sql(consulta, conn)\n",
    "\n",
    "df"
   ]
  },
  {
   "cell_type": "markdown",
   "id": "57ce60b4",
   "metadata": {},
   "source": [
    "![title](img/left_join.png)"
   ]
  },
  {
   "cell_type": "code",
   "execution_count": 74,
   "id": "81ea28ea",
   "metadata": {},
   "outputs": [
    {
     "data": {
      "text/html": [
       "<div>\n",
       "<style scoped>\n",
       "    .dataframe tbody tr th:only-of-type {\n",
       "        vertical-align: middle;\n",
       "    }\n",
       "\n",
       "    .dataframe tbody tr th {\n",
       "        vertical-align: top;\n",
       "    }\n",
       "\n",
       "    .dataframe thead th {\n",
       "        text-align: right;\n",
       "    }\n",
       "</style>\n",
       "<table border=\"1\" class=\"dataframe\">\n",
       "  <thead>\n",
       "    <tr style=\"text-align: right;\">\n",
       "      <th></th>\n",
       "      <th>Nome</th>\n",
       "      <th>Sobrenome</th>\n",
       "      <th>email</th>\n",
       "    </tr>\n",
       "  </thead>\n",
       "  <tbody>\n",
       "    <tr>\n",
       "      <th>0</th>\n",
       "      <td>Pedro</td>\n",
       "      <td>Skooby</td>\n",
       "      <td>skooby@emailegal.com</td>\n",
       "    </tr>\n",
       "    <tr>\n",
       "      <th>1</th>\n",
       "      <td>Maria</td>\n",
       "      <td>Silva</td>\n",
       "      <td>msilva@emailqualquer.com</td>\n",
       "    </tr>\n",
       "    <tr>\n",
       "      <th>2</th>\n",
       "      <td>Luiza</td>\n",
       "      <td>Matos</td>\n",
       "      <td>luizamatos@yahoo.com</td>\n",
       "    </tr>\n",
       "    <tr>\n",
       "      <th>3</th>\n",
       "      <td>Lorran</td>\n",
       "      <td>Oliveira</td>\n",
       "      <td>lorranoliveir@gemail.com</td>\n",
       "    </tr>\n",
       "    <tr>\n",
       "      <th>4</th>\n",
       "      <td>Bruno</td>\n",
       "      <td>Barbosa</td>\n",
       "      <td>bbarb@email.com</td>\n",
       "    </tr>\n",
       "  </tbody>\n",
       "</table>\n",
       "</div>"
      ],
      "text/plain": [
       "     Nome Sobrenome                     email\n",
       "0   Pedro    Skooby      skooby@emailegal.com\n",
       "1   Maria     Silva  msilva@emailqualquer.com\n",
       "2   Luiza     Matos      luizamatos@yahoo.com\n",
       "3  Lorran  Oliveira  lorranoliveir@gemail.com\n",
       "4   Bruno   Barbosa           bbarb@email.com"
      ]
     },
     "execution_count": 74,
     "metadata": {},
     "output_type": "execute_result"
    },
    {
     "data": {
      "application/javascript": [
       "\n",
       "            setTimeout(function() {\n",
       "                var nbb_cell_id = 74;\n",
       "                var nbb_unformatted_code = \"consulta = \\\"\\\"\\\"SELECT\\n    f.primeiro_nome AS Nome,\\n    f.ultimo_nome AS Sobrenome,\\n    c.email \\nFROM\\n    FUNCIONARIOS f\\nLEFT OUTER JOIN CONTATOS c ON f.id = c.id_funcionario;\\\"\\\"\\\"\\n\\ncursor.execute(consulta)\\n\\n# print(cursor.fetchall())\\n\\ndf = pd.read_sql(consulta, conn)\\n\\ndf\";\n",
       "                var nbb_formatted_code = \"consulta = \\\"\\\"\\\"SELECT\\n    f.primeiro_nome AS Nome,\\n    f.ultimo_nome AS Sobrenome,\\n    c.email \\nFROM\\n    FUNCIONARIOS f\\nLEFT OUTER JOIN CONTATOS c ON f.id = c.id_funcionario;\\\"\\\"\\\"\\n\\ncursor.execute(consulta)\\n\\n# print(cursor.fetchall())\\n\\ndf = pd.read_sql(consulta, conn)\\n\\ndf\";\n",
       "                var nbb_cells = Jupyter.notebook.get_cells();\n",
       "                for (var i = 0; i < nbb_cells.length; ++i) {\n",
       "                    if (nbb_cells[i].input_prompt_number == nbb_cell_id) {\n",
       "                        if (nbb_cells[i].get_text() == nbb_unformatted_code) {\n",
       "                             nbb_cells[i].set_text(nbb_formatted_code);\n",
       "                        }\n",
       "                        break;\n",
       "                    }\n",
       "                }\n",
       "            }, 500);\n",
       "            "
      ],
      "text/plain": [
       "<IPython.core.display.Javascript object>"
      ]
     },
     "metadata": {},
     "output_type": "display_data"
    }
   ],
   "source": [
    "consulta = \"\"\"SELECT\n",
    "    f.primeiro_nome AS Nome,\n",
    "    f.ultimo_nome AS Sobrenome,\n",
    "    c.email \n",
    "FROM\n",
    "    FUNCIONARIOS f\n",
    "LEFT OUTER JOIN CONTATOS c ON f.id = c.id_funcionario;\"\"\"\n",
    "\n",
    "cursor.execute(consulta)\n",
    "\n",
    "# print(cursor.fetchall())\n",
    "\n",
    "df = pd.read_sql(consulta, conn)\n",
    "\n",
    "df"
   ]
  },
  {
   "cell_type": "markdown",
   "id": "04b6e260",
   "metadata": {},
   "source": [
    "![title](img/rigth_join.png)"
   ]
  },
  {
   "cell_type": "code",
   "execution_count": 75,
   "id": "81c44411",
   "metadata": {},
   "outputs": [
    {
     "data": {
      "text/html": [
       "<div>\n",
       "<style scoped>\n",
       "    .dataframe tbody tr th:only-of-type {\n",
       "        vertical-align: middle;\n",
       "    }\n",
       "\n",
       "    .dataframe tbody tr th {\n",
       "        vertical-align: top;\n",
       "    }\n",
       "\n",
       "    .dataframe thead th {\n",
       "        text-align: right;\n",
       "    }\n",
       "</style>\n",
       "<table border=\"1\" class=\"dataframe\">\n",
       "  <thead>\n",
       "    <tr style=\"text-align: right;\">\n",
       "      <th></th>\n",
       "      <th>Nome</th>\n",
       "      <th>Sobrenome</th>\n",
       "      <th>email</th>\n",
       "    </tr>\n",
       "  </thead>\n",
       "  <tbody>\n",
       "    <tr>\n",
       "      <th>0</th>\n",
       "      <td>Pedro</td>\n",
       "      <td>Skooby</td>\n",
       "      <td>skooby@emailegal.com</td>\n",
       "    </tr>\n",
       "    <tr>\n",
       "      <th>1</th>\n",
       "      <td>Maria</td>\n",
       "      <td>Silva</td>\n",
       "      <td>msilva@emailqualquer.com</td>\n",
       "    </tr>\n",
       "    <tr>\n",
       "      <th>2</th>\n",
       "      <td>Luiza</td>\n",
       "      <td>Matos</td>\n",
       "      <td>luizamatos@yahoo.com</td>\n",
       "    </tr>\n",
       "    <tr>\n",
       "      <th>3</th>\n",
       "      <td>Lorran</td>\n",
       "      <td>Oliveira</td>\n",
       "      <td>lorranoliveir@gemail.com</td>\n",
       "    </tr>\n",
       "    <tr>\n",
       "      <th>4</th>\n",
       "      <td>Bruno</td>\n",
       "      <td>Barbosa</td>\n",
       "      <td>bbarb@email.com</td>\n",
       "    </tr>\n",
       "    <tr>\n",
       "      <th>5</th>\n",
       "      <td>None</td>\n",
       "      <td>None</td>\n",
       "      <td>dariojulio@gmail1.com</td>\n",
       "    </tr>\n",
       "    <tr>\n",
       "      <th>6</th>\n",
       "      <td>None</td>\n",
       "      <td>None</td>\n",
       "      <td>joaquim@emailqualquer.com</td>\n",
       "    </tr>\n",
       "  </tbody>\n",
       "</table>\n",
       "</div>"
      ],
      "text/plain": [
       "     Nome Sobrenome                      email\n",
       "0   Pedro    Skooby       skooby@emailegal.com\n",
       "1   Maria     Silva   msilva@emailqualquer.com\n",
       "2   Luiza     Matos       luizamatos@yahoo.com\n",
       "3  Lorran  Oliveira   lorranoliveir@gemail.com\n",
       "4   Bruno   Barbosa            bbarb@email.com\n",
       "5    None      None      dariojulio@gmail1.com\n",
       "6    None      None  joaquim@emailqualquer.com"
      ]
     },
     "execution_count": 75,
     "metadata": {},
     "output_type": "execute_result"
    },
    {
     "data": {
      "application/javascript": [
       "\n",
       "            setTimeout(function() {\n",
       "                var nbb_cell_id = 75;\n",
       "                var nbb_unformatted_code = \"consulta = \\\"\\\"\\\"SELECT\\n    f.primeiro_nome AS Nome,\\n    f.ultimo_nome AS Sobrenome,\\n    c.email \\nFROM\\n    CONTATOS c \\nLEFT OUTER JOIN FUNCIONARIOS f ON c.id_funcionario = f.id;\\\"\\\"\\\"\\n\\ncursor.execute(consulta)\\n\\n# print(cursor.fetchall())\\n\\ndf = pd.read_sql(consulta, conn)\\n\\ndf\";\n",
       "                var nbb_formatted_code = \"consulta = \\\"\\\"\\\"SELECT\\n    f.primeiro_nome AS Nome,\\n    f.ultimo_nome AS Sobrenome,\\n    c.email \\nFROM\\n    CONTATOS c \\nLEFT OUTER JOIN FUNCIONARIOS f ON c.id_funcionario = f.id;\\\"\\\"\\\"\\n\\ncursor.execute(consulta)\\n\\n# print(cursor.fetchall())\\n\\ndf = pd.read_sql(consulta, conn)\\n\\ndf\";\n",
       "                var nbb_cells = Jupyter.notebook.get_cells();\n",
       "                for (var i = 0; i < nbb_cells.length; ++i) {\n",
       "                    if (nbb_cells[i].input_prompt_number == nbb_cell_id) {\n",
       "                        if (nbb_cells[i].get_text() == nbb_unformatted_code) {\n",
       "                             nbb_cells[i].set_text(nbb_formatted_code);\n",
       "                        }\n",
       "                        break;\n",
       "                    }\n",
       "                }\n",
       "            }, 500);\n",
       "            "
      ],
      "text/plain": [
       "<IPython.core.display.Javascript object>"
      ]
     },
     "metadata": {},
     "output_type": "display_data"
    }
   ],
   "source": [
    "consulta = \"\"\"SELECT\n",
    "    f.primeiro_nome AS Nome,\n",
    "    f.ultimo_nome AS Sobrenome,\n",
    "    c.email \n",
    "FROM\n",
    "    CONTATOS c \n",
    "LEFT OUTER JOIN FUNCIONARIOS f ON c.id_funcionario = f.id;\"\"\"\n",
    "\n",
    "cursor.execute(consulta)\n",
    "\n",
    "# print(cursor.fetchall())\n",
    "\n",
    "df = pd.read_sql(consulta, conn)\n",
    "\n",
    "df"
   ]
  },
  {
   "cell_type": "code",
   "execution_count": 76,
   "id": "33e7cf88",
   "metadata": {},
   "outputs": [
    {
     "data": {
      "text/html": [
       "<div>\n",
       "<style scoped>\n",
       "    .dataframe tbody tr th:only-of-type {\n",
       "        vertical-align: middle;\n",
       "    }\n",
       "\n",
       "    .dataframe tbody tr th {\n",
       "        vertical-align: top;\n",
       "    }\n",
       "\n",
       "    .dataframe thead th {\n",
       "        text-align: right;\n",
       "    }\n",
       "</style>\n",
       "<table border=\"1\" class=\"dataframe\">\n",
       "  <thead>\n",
       "    <tr style=\"text-align: right;\">\n",
       "      <th></th>\n",
       "      <th>Nome</th>\n",
       "      <th>Sobrenome</th>\n",
       "      <th>email</th>\n",
       "    </tr>\n",
       "  </thead>\n",
       "  <tbody>\n",
       "    <tr>\n",
       "      <th>0</th>\n",
       "      <td>Pedro</td>\n",
       "      <td>Skooby</td>\n",
       "      <td>skooby@emailegal.com</td>\n",
       "    </tr>\n",
       "    <tr>\n",
       "      <th>1</th>\n",
       "      <td>Pedro</td>\n",
       "      <td>Skooby</td>\n",
       "      <td>msilva@emailqualquer.com</td>\n",
       "    </tr>\n",
       "    <tr>\n",
       "      <th>2</th>\n",
       "      <td>Pedro</td>\n",
       "      <td>Skooby</td>\n",
       "      <td>luizamatos@yahoo.com</td>\n",
       "    </tr>\n",
       "    <tr>\n",
       "      <th>3</th>\n",
       "      <td>Pedro</td>\n",
       "      <td>Skooby</td>\n",
       "      <td>lorranoliveir@gemail.com</td>\n",
       "    </tr>\n",
       "    <tr>\n",
       "      <th>4</th>\n",
       "      <td>Pedro</td>\n",
       "      <td>Skooby</td>\n",
       "      <td>bbarb@email.com</td>\n",
       "    </tr>\n",
       "    <tr>\n",
       "      <th>5</th>\n",
       "      <td>Pedro</td>\n",
       "      <td>Skooby</td>\n",
       "      <td>dariojulio@gmail1.com</td>\n",
       "    </tr>\n",
       "    <tr>\n",
       "      <th>6</th>\n",
       "      <td>Pedro</td>\n",
       "      <td>Skooby</td>\n",
       "      <td>joaquim@emailqualquer.com</td>\n",
       "    </tr>\n",
       "    <tr>\n",
       "      <th>7</th>\n",
       "      <td>Maria</td>\n",
       "      <td>Silva</td>\n",
       "      <td>skooby@emailegal.com</td>\n",
       "    </tr>\n",
       "    <tr>\n",
       "      <th>8</th>\n",
       "      <td>Maria</td>\n",
       "      <td>Silva</td>\n",
       "      <td>msilva@emailqualquer.com</td>\n",
       "    </tr>\n",
       "    <tr>\n",
       "      <th>9</th>\n",
       "      <td>Maria</td>\n",
       "      <td>Silva</td>\n",
       "      <td>luizamatos@yahoo.com</td>\n",
       "    </tr>\n",
       "    <tr>\n",
       "      <th>10</th>\n",
       "      <td>Maria</td>\n",
       "      <td>Silva</td>\n",
       "      <td>lorranoliveir@gemail.com</td>\n",
       "    </tr>\n",
       "    <tr>\n",
       "      <th>11</th>\n",
       "      <td>Maria</td>\n",
       "      <td>Silva</td>\n",
       "      <td>bbarb@email.com</td>\n",
       "    </tr>\n",
       "    <tr>\n",
       "      <th>12</th>\n",
       "      <td>Maria</td>\n",
       "      <td>Silva</td>\n",
       "      <td>dariojulio@gmail1.com</td>\n",
       "    </tr>\n",
       "    <tr>\n",
       "      <th>13</th>\n",
       "      <td>Maria</td>\n",
       "      <td>Silva</td>\n",
       "      <td>joaquim@emailqualquer.com</td>\n",
       "    </tr>\n",
       "    <tr>\n",
       "      <th>14</th>\n",
       "      <td>Luiza</td>\n",
       "      <td>Matos</td>\n",
       "      <td>skooby@emailegal.com</td>\n",
       "    </tr>\n",
       "    <tr>\n",
       "      <th>15</th>\n",
       "      <td>Luiza</td>\n",
       "      <td>Matos</td>\n",
       "      <td>msilva@emailqualquer.com</td>\n",
       "    </tr>\n",
       "    <tr>\n",
       "      <th>16</th>\n",
       "      <td>Luiza</td>\n",
       "      <td>Matos</td>\n",
       "      <td>luizamatos@yahoo.com</td>\n",
       "    </tr>\n",
       "    <tr>\n",
       "      <th>17</th>\n",
       "      <td>Luiza</td>\n",
       "      <td>Matos</td>\n",
       "      <td>lorranoliveir@gemail.com</td>\n",
       "    </tr>\n",
       "    <tr>\n",
       "      <th>18</th>\n",
       "      <td>Luiza</td>\n",
       "      <td>Matos</td>\n",
       "      <td>bbarb@email.com</td>\n",
       "    </tr>\n",
       "    <tr>\n",
       "      <th>19</th>\n",
       "      <td>Luiza</td>\n",
       "      <td>Matos</td>\n",
       "      <td>dariojulio@gmail1.com</td>\n",
       "    </tr>\n",
       "    <tr>\n",
       "      <th>20</th>\n",
       "      <td>Luiza</td>\n",
       "      <td>Matos</td>\n",
       "      <td>joaquim@emailqualquer.com</td>\n",
       "    </tr>\n",
       "    <tr>\n",
       "      <th>21</th>\n",
       "      <td>Lorran</td>\n",
       "      <td>Oliveira</td>\n",
       "      <td>skooby@emailegal.com</td>\n",
       "    </tr>\n",
       "    <tr>\n",
       "      <th>22</th>\n",
       "      <td>Lorran</td>\n",
       "      <td>Oliveira</td>\n",
       "      <td>msilva@emailqualquer.com</td>\n",
       "    </tr>\n",
       "    <tr>\n",
       "      <th>23</th>\n",
       "      <td>Lorran</td>\n",
       "      <td>Oliveira</td>\n",
       "      <td>luizamatos@yahoo.com</td>\n",
       "    </tr>\n",
       "    <tr>\n",
       "      <th>24</th>\n",
       "      <td>Lorran</td>\n",
       "      <td>Oliveira</td>\n",
       "      <td>lorranoliveir@gemail.com</td>\n",
       "    </tr>\n",
       "    <tr>\n",
       "      <th>25</th>\n",
       "      <td>Lorran</td>\n",
       "      <td>Oliveira</td>\n",
       "      <td>bbarb@email.com</td>\n",
       "    </tr>\n",
       "    <tr>\n",
       "      <th>26</th>\n",
       "      <td>Lorran</td>\n",
       "      <td>Oliveira</td>\n",
       "      <td>dariojulio@gmail1.com</td>\n",
       "    </tr>\n",
       "    <tr>\n",
       "      <th>27</th>\n",
       "      <td>Lorran</td>\n",
       "      <td>Oliveira</td>\n",
       "      <td>joaquim@emailqualquer.com</td>\n",
       "    </tr>\n",
       "    <tr>\n",
       "      <th>28</th>\n",
       "      <td>Bruno</td>\n",
       "      <td>Barbosa</td>\n",
       "      <td>skooby@emailegal.com</td>\n",
       "    </tr>\n",
       "    <tr>\n",
       "      <th>29</th>\n",
       "      <td>Bruno</td>\n",
       "      <td>Barbosa</td>\n",
       "      <td>msilva@emailqualquer.com</td>\n",
       "    </tr>\n",
       "    <tr>\n",
       "      <th>30</th>\n",
       "      <td>Bruno</td>\n",
       "      <td>Barbosa</td>\n",
       "      <td>luizamatos@yahoo.com</td>\n",
       "    </tr>\n",
       "    <tr>\n",
       "      <th>31</th>\n",
       "      <td>Bruno</td>\n",
       "      <td>Barbosa</td>\n",
       "      <td>lorranoliveir@gemail.com</td>\n",
       "    </tr>\n",
       "    <tr>\n",
       "      <th>32</th>\n",
       "      <td>Bruno</td>\n",
       "      <td>Barbosa</td>\n",
       "      <td>bbarb@email.com</td>\n",
       "    </tr>\n",
       "    <tr>\n",
       "      <th>33</th>\n",
       "      <td>Bruno</td>\n",
       "      <td>Barbosa</td>\n",
       "      <td>dariojulio@gmail1.com</td>\n",
       "    </tr>\n",
       "    <tr>\n",
       "      <th>34</th>\n",
       "      <td>Bruno</td>\n",
       "      <td>Barbosa</td>\n",
       "      <td>joaquim@emailqualquer.com</td>\n",
       "    </tr>\n",
       "  </tbody>\n",
       "</table>\n",
       "</div>"
      ],
      "text/plain": [
       "      Nome Sobrenome                      email\n",
       "0    Pedro    Skooby       skooby@emailegal.com\n",
       "1    Pedro    Skooby   msilva@emailqualquer.com\n",
       "2    Pedro    Skooby       luizamatos@yahoo.com\n",
       "3    Pedro    Skooby   lorranoliveir@gemail.com\n",
       "4    Pedro    Skooby            bbarb@email.com\n",
       "5    Pedro    Skooby      dariojulio@gmail1.com\n",
       "6    Pedro    Skooby  joaquim@emailqualquer.com\n",
       "7    Maria     Silva       skooby@emailegal.com\n",
       "8    Maria     Silva   msilva@emailqualquer.com\n",
       "9    Maria     Silva       luizamatos@yahoo.com\n",
       "10   Maria     Silva   lorranoliveir@gemail.com\n",
       "11   Maria     Silva            bbarb@email.com\n",
       "12   Maria     Silva      dariojulio@gmail1.com\n",
       "13   Maria     Silva  joaquim@emailqualquer.com\n",
       "14   Luiza     Matos       skooby@emailegal.com\n",
       "15   Luiza     Matos   msilva@emailqualquer.com\n",
       "16   Luiza     Matos       luizamatos@yahoo.com\n",
       "17   Luiza     Matos   lorranoliveir@gemail.com\n",
       "18   Luiza     Matos            bbarb@email.com\n",
       "19   Luiza     Matos      dariojulio@gmail1.com\n",
       "20   Luiza     Matos  joaquim@emailqualquer.com\n",
       "21  Lorran  Oliveira       skooby@emailegal.com\n",
       "22  Lorran  Oliveira   msilva@emailqualquer.com\n",
       "23  Lorran  Oliveira       luizamatos@yahoo.com\n",
       "24  Lorran  Oliveira   lorranoliveir@gemail.com\n",
       "25  Lorran  Oliveira            bbarb@email.com\n",
       "26  Lorran  Oliveira      dariojulio@gmail1.com\n",
       "27  Lorran  Oliveira  joaquim@emailqualquer.com\n",
       "28   Bruno   Barbosa       skooby@emailegal.com\n",
       "29   Bruno   Barbosa   msilva@emailqualquer.com\n",
       "30   Bruno   Barbosa       luizamatos@yahoo.com\n",
       "31   Bruno   Barbosa   lorranoliveir@gemail.com\n",
       "32   Bruno   Barbosa            bbarb@email.com\n",
       "33   Bruno   Barbosa      dariojulio@gmail1.com\n",
       "34   Bruno   Barbosa  joaquim@emailqualquer.com"
      ]
     },
     "execution_count": 76,
     "metadata": {},
     "output_type": "execute_result"
    },
    {
     "data": {
      "application/javascript": [
       "\n",
       "            setTimeout(function() {\n",
       "                var nbb_cell_id = 76;\n",
       "                var nbb_unformatted_code = \"consulta = \\\"\\\"\\\"SELECT\\n    f.primeiro_nome AS Nome,\\n    f.ultimo_nome AS Sobrenome,\\n    c.email \\nFROM\\n    FUNCIONARIOS f\\nCROSS JOIN CONTATOS c;\\\"\\\"\\\"\\n\\ncursor.execute(consulta)\\n\\n# print(cursor.fetchall())\\n\\ndf = pd.read_sql(consulta, conn)\\n\\ndf\";\n",
       "                var nbb_formatted_code = \"consulta = \\\"\\\"\\\"SELECT\\n    f.primeiro_nome AS Nome,\\n    f.ultimo_nome AS Sobrenome,\\n    c.email \\nFROM\\n    FUNCIONARIOS f\\nCROSS JOIN CONTATOS c;\\\"\\\"\\\"\\n\\ncursor.execute(consulta)\\n\\n# print(cursor.fetchall())\\n\\ndf = pd.read_sql(consulta, conn)\\n\\ndf\";\n",
       "                var nbb_cells = Jupyter.notebook.get_cells();\n",
       "                for (var i = 0; i < nbb_cells.length; ++i) {\n",
       "                    if (nbb_cells[i].input_prompt_number == nbb_cell_id) {\n",
       "                        if (nbb_cells[i].get_text() == nbb_unformatted_code) {\n",
       "                             nbb_cells[i].set_text(nbb_formatted_code);\n",
       "                        }\n",
       "                        break;\n",
       "                    }\n",
       "                }\n",
       "            }, 500);\n",
       "            "
      ],
      "text/plain": [
       "<IPython.core.display.Javascript object>"
      ]
     },
     "metadata": {},
     "output_type": "display_data"
    }
   ],
   "source": [
    "consulta = \"\"\"SELECT\n",
    "    f.primeiro_nome AS Nome,\n",
    "    f.ultimo_nome AS Sobrenome,\n",
    "    c.email \n",
    "FROM\n",
    "    FUNCIONARIOS f\n",
    "CROSS JOIN CONTATOS c;\"\"\"\n",
    "\n",
    "cursor.execute(consulta)\n",
    "\n",
    "# print(cursor.fetchall())\n",
    "\n",
    "df = pd.read_sql(consulta, conn)\n",
    "\n",
    "df"
   ]
  },
  {
   "cell_type": "code",
   "execution_count": 77,
   "id": "621d9148",
   "metadata": {},
   "outputs": [
    {
     "data": {
      "application/javascript": [
       "\n",
       "            setTimeout(function() {\n",
       "                var nbb_cell_id = 77;\n",
       "                var nbb_unformatted_code = \"# Fechando a conex\\u00e3o com o BD\\n\\nconn.close()\";\n",
       "                var nbb_formatted_code = \"# Fechando a conex\\u00e3o com o BD\\n\\nconn.close()\";\n",
       "                var nbb_cells = Jupyter.notebook.get_cells();\n",
       "                for (var i = 0; i < nbb_cells.length; ++i) {\n",
       "                    if (nbb_cells[i].input_prompt_number == nbb_cell_id) {\n",
       "                        if (nbb_cells[i].get_text() == nbb_unformatted_code) {\n",
       "                             nbb_cells[i].set_text(nbb_formatted_code);\n",
       "                        }\n",
       "                        break;\n",
       "                    }\n",
       "                }\n",
       "            }, 500);\n",
       "            "
      ],
      "text/plain": [
       "<IPython.core.display.Javascript object>"
      ]
     },
     "metadata": {},
     "output_type": "display_data"
    }
   ],
   "source": [
    "# Fechando a conexão com o BD\n",
    "\n",
    "conn.close()"
   ]
  },
  {
   "cell_type": "markdown",
   "id": "ebca6e64",
   "metadata": {},
   "source": [
    "## CRIANDO UM NOVO BD:"
   ]
  },
  {
   "cell_type": "code",
   "execution_count": 86,
   "id": "cd1f1853",
   "metadata": {},
   "outputs": [
    {
     "name": "stdout",
     "output_type": "stream",
     "text": [
      "TABELA_A criada com sucesso........\n",
      "TABELA_B criada com sucesso........\n"
     ]
    },
    {
     "data": {
      "application/javascript": [
       "\n",
       "            setTimeout(function() {\n",
       "                var nbb_cell_id = 86;\n",
       "                var nbb_unformatted_code = \"# importando a biblioteca Sqlite3 (nativa do Python, n\\u00e3o precisa ser instalada)\\n# acesso ao m\\u00f3dulo Sqlite3\\n\\nimport sqlite3\\n\\n# a fun\\u00e7\\u00e3o .connect() retorna um objeto de conex\\u00e3o que usaremos para interagir com o BD\\n# contido no caminho especificado. No nosso caso esse BD ainda n\\u00e3o existe. (ser\\u00e1 criado automaticamente)\\nconn = sqlite3.connect(\\\"exemplo1.db\\\")\\n\\n# Criando um objeto cursor usando o m\\u00e9todo .cursor()\\n# esse m\\u00e9todo permite que enviemos instru\\u00e7\\u00f5es SQL para um banco de dados SQLite\\ncursor = conn.cursor()\\n\\n\\n# TABELA_A\\n# consulta para dropar a tabela se ela j\\u00e1 existir\\nconsulta = \\\"\\\"\\\"DROP TABLE IF EXISTS TABELA_A\\\"\\\"\\\"\\n\\n# executa a query que queremos no BD\\ncursor.execute(consulta)\\n\\n\\n# CRIEI UMA TABELA FUNCIONARIOS\\n\\nconsulta = \\\"\\\"\\\"CREATE TABLE TABELA_A (id INTEGER PRIMARY KEY, nome TEXT);\\\"\\\"\\\"\\n\\ncursor.execute(consulta)\\nprint(\\\"TABELA_A criada com sucesso........\\\")\\n\\n# TABELA_B\\n# consulta para dropar a tabela se ela j\\u00e1 existir\\nconsulta = \\\"\\\"\\\"DROP TABLE IF EXISTS TABELA_B\\\"\\\"\\\"\\n\\n# executa a query que queremos no BD\\ncursor.execute(consulta)\\n\\n\\n# CRIEI UMA TABELA FUNCIONARIOS\\n\\nconsulta = \\\"\\\"\\\"CREATE TABLE TABELA_B (id INTEGER PRIMARY KEY, nome TEXT);\\\"\\\"\\\"\\n\\ncursor.execute(consulta)\\nprint(\\\"TABELA_B criada com sucesso........\\\")\";\n",
       "                var nbb_formatted_code = \"# importando a biblioteca Sqlite3 (nativa do Python, n\\u00e3o precisa ser instalada)\\n# acesso ao m\\u00f3dulo Sqlite3\\n\\nimport sqlite3\\n\\n# a fun\\u00e7\\u00e3o .connect() retorna um objeto de conex\\u00e3o que usaremos para interagir com o BD\\n# contido no caminho especificado. No nosso caso esse BD ainda n\\u00e3o existe. (ser\\u00e1 criado automaticamente)\\nconn = sqlite3.connect(\\\"exemplo1.db\\\")\\n\\n# Criando um objeto cursor usando o m\\u00e9todo .cursor()\\n# esse m\\u00e9todo permite que enviemos instru\\u00e7\\u00f5es SQL para um banco de dados SQLite\\ncursor = conn.cursor()\\n\\n\\n# TABELA_A\\n# consulta para dropar a tabela se ela j\\u00e1 existir\\nconsulta = \\\"\\\"\\\"DROP TABLE IF EXISTS TABELA_A\\\"\\\"\\\"\\n\\n# executa a query que queremos no BD\\ncursor.execute(consulta)\\n\\n\\n# CRIEI UMA TABELA FUNCIONARIOS\\n\\nconsulta = \\\"\\\"\\\"CREATE TABLE TABELA_A (id INTEGER PRIMARY KEY, nome TEXT);\\\"\\\"\\\"\\n\\ncursor.execute(consulta)\\nprint(\\\"TABELA_A criada com sucesso........\\\")\\n\\n# TABELA_B\\n# consulta para dropar a tabela se ela j\\u00e1 existir\\nconsulta = \\\"\\\"\\\"DROP TABLE IF EXISTS TABELA_B\\\"\\\"\\\"\\n\\n# executa a query que queremos no BD\\ncursor.execute(consulta)\\n\\n\\n# CRIEI UMA TABELA FUNCIONARIOS\\n\\nconsulta = \\\"\\\"\\\"CREATE TABLE TABELA_B (id INTEGER PRIMARY KEY, nome TEXT);\\\"\\\"\\\"\\n\\ncursor.execute(consulta)\\nprint(\\\"TABELA_B criada com sucesso........\\\")\";\n",
       "                var nbb_cells = Jupyter.notebook.get_cells();\n",
       "                for (var i = 0; i < nbb_cells.length; ++i) {\n",
       "                    if (nbb_cells[i].input_prompt_number == nbb_cell_id) {\n",
       "                        if (nbb_cells[i].get_text() == nbb_unformatted_code) {\n",
       "                             nbb_cells[i].set_text(nbb_formatted_code);\n",
       "                        }\n",
       "                        break;\n",
       "                    }\n",
       "                }\n",
       "            }, 500);\n",
       "            "
      ],
      "text/plain": [
       "<IPython.core.display.Javascript object>"
      ]
     },
     "metadata": {},
     "output_type": "display_data"
    }
   ],
   "source": [
    "# importando a biblioteca Sqlite3 (nativa do Python, não precisa ser instalada)\n",
    "# acesso ao módulo Sqlite3\n",
    "\n",
    "import sqlite3\n",
    "\n",
    "# a função .connect() retorna um objeto de conexão que usaremos para interagir com o BD\n",
    "# contido no caminho especificado. No nosso caso esse BD ainda não existe. (será criado automaticamente)\n",
    "conn = sqlite3.connect(\"exemplo1.db\")\n",
    "\n",
    "# Criando um objeto cursor usando o método .cursor()\n",
    "# esse método permite que enviemos instruções SQL para um banco de dados SQLite\n",
    "cursor = conn.cursor()\n",
    "\n",
    "\n",
    "# TABELA_A\n",
    "# consulta para dropar a tabela se ela já existir\n",
    "consulta = \"\"\"DROP TABLE IF EXISTS TABELA_A\"\"\"\n",
    "\n",
    "# executa a query que queremos no BD\n",
    "cursor.execute(consulta)\n",
    "\n",
    "\n",
    "# CRIEI UMA TABELA FUNCIONARIOS\n",
    "\n",
    "consulta = \"\"\"CREATE TABLE TABELA_A (id INTEGER PRIMARY KEY, nome TEXT);\"\"\"\n",
    "\n",
    "cursor.execute(consulta)\n",
    "print(\"TABELA_A criada com sucesso........\")\n",
    "\n",
    "# TABELA_B\n",
    "# consulta para dropar a tabela se ela já existir\n",
    "consulta = \"\"\"DROP TABLE IF EXISTS TABELA_B\"\"\"\n",
    "\n",
    "# executa a query que queremos no BD\n",
    "cursor.execute(consulta)\n",
    "\n",
    "\n",
    "# CRIEI UMA TABELA FUNCIONARIOS\n",
    "\n",
    "consulta = \"\"\"CREATE TABLE TABELA_B (id INTEGER PRIMARY KEY, nome TEXT);\"\"\"\n",
    "\n",
    "cursor.execute(consulta)\n",
    "print(\"TABELA_B criada com sucesso........\")"
   ]
  },
  {
   "cell_type": "code",
   "execution_count": 87,
   "id": "c65dae7e",
   "metadata": {},
   "outputs": [
    {
     "name": "stdout",
     "output_type": "stream",
     "text": [
      "Dados inseridos.........\n",
      "(1, 'nome_1')\n",
      "(2, 'nome_2')\n",
      "(3, 'nome_3')\n",
      "(4, 'nome_4')\n"
     ]
    },
    {
     "data": {
      "application/javascript": [
       "\n",
       "            setTimeout(function() {\n",
       "                var nbb_cell_id = 87;\n",
       "                var nbb_unformatted_code = \"# Criando consultas de inser\\u00e7\\u00e3o de dados\\n\\ncursor.execute(\\n    \\\"\\\"\\\"INSERT INTO TABELA_A (nome)\\n        VALUES \\n        (\\\"nome_1\\\"),\\n        (\\\"nome_2\\\"),\\n        (\\\"nome_3\\\"),\\n        (\\\"nome_4\\\");\\n        \\\"\\\"\\\"\\n)\\n\\nconn.commit()\\nprint(\\\"Dados inseridos.........\\\")\\n\\ndados = cursor.execute(\\\"\\\"\\\"SELECT * from TABELA_A\\\"\\\"\\\")\\n#print(cursor.fetchall())\\n\\nfor linha in dados:\\n    print(linha)\";\n",
       "                var nbb_formatted_code = \"# Criando consultas de inser\\u00e7\\u00e3o de dados\\n\\ncursor.execute(\\n    \\\"\\\"\\\"INSERT INTO TABELA_A (nome)\\n        VALUES \\n        (\\\"nome_1\\\"),\\n        (\\\"nome_2\\\"),\\n        (\\\"nome_3\\\"),\\n        (\\\"nome_4\\\");\\n        \\\"\\\"\\\"\\n)\\n\\nconn.commit()\\nprint(\\\"Dados inseridos.........\\\")\\n\\ndados = cursor.execute(\\\"\\\"\\\"SELECT * from TABELA_A\\\"\\\"\\\")\\n# print(cursor.fetchall())\\n\\nfor linha in dados:\\n    print(linha)\";\n",
       "                var nbb_cells = Jupyter.notebook.get_cells();\n",
       "                for (var i = 0; i < nbb_cells.length; ++i) {\n",
       "                    if (nbb_cells[i].input_prompt_number == nbb_cell_id) {\n",
       "                        if (nbb_cells[i].get_text() == nbb_unformatted_code) {\n",
       "                             nbb_cells[i].set_text(nbb_formatted_code);\n",
       "                        }\n",
       "                        break;\n",
       "                    }\n",
       "                }\n",
       "            }, 500);\n",
       "            "
      ],
      "text/plain": [
       "<IPython.core.display.Javascript object>"
      ]
     },
     "metadata": {},
     "output_type": "display_data"
    }
   ],
   "source": [
    "# Criando consultas de inserção de dados\n",
    "\n",
    "cursor.execute(\n",
    "    \"\"\"INSERT INTO TABELA_A (nome)\n",
    "        VALUES \n",
    "        (\"nome_1\"),\n",
    "        (\"nome_2\"),\n",
    "        (\"nome_3\"),\n",
    "        (\"nome_4\");\n",
    "        \"\"\"\n",
    ")\n",
    "\n",
    "conn.commit()\n",
    "print(\"Dados inseridos.........\")\n",
    "\n",
    "dados = cursor.execute(\"\"\"SELECT * from TABELA_A\"\"\")\n",
    "#print(cursor.fetchall())\n",
    "\n",
    "for linha in dados:\n",
    "    print(linha)\n"
   ]
  },
  {
   "cell_type": "code",
   "execution_count": 88,
   "id": "95e9ccb9",
   "metadata": {},
   "outputs": [
    {
     "name": "stdout",
     "output_type": "stream",
     "text": [
      "Dados inseridos.........\n",
      "(1, 'nome_5')\n",
      "(2, 'nome_1')\n",
      "(3, 'nome_6')\n",
      "(4, 'nome_3')\n"
     ]
    },
    {
     "data": {
      "application/javascript": [
       "\n",
       "            setTimeout(function() {\n",
       "                var nbb_cell_id = 88;\n",
       "                var nbb_unformatted_code = \"# Criando consultas de inser\\u00e7\\u00e3o de dados\\n\\ncursor.execute(\\n    \\\"\\\"\\\"INSERT INTO TABELA_B (nome)\\n        VALUES \\n        (\\\"nome_5\\\"),\\n        (\\\"nome_1\\\"),\\n        (\\\"nome_6\\\"),\\n        (\\\"nome_3\\\");\\n        \\\"\\\"\\\"\\n)\\n\\nconn.commit()\\nprint(\\\"Dados inseridos.........\\\")\\n\\ndados = cursor.execute(\\\"\\\"\\\"SELECT * from TABELA_B\\\"\\\"\\\")\\n#print(cursor.fetchall())\\n\\nfor linha in dados:\\n    print(linha)\";\n",
       "                var nbb_formatted_code = \"# Criando consultas de inser\\u00e7\\u00e3o de dados\\n\\ncursor.execute(\\n    \\\"\\\"\\\"INSERT INTO TABELA_B (nome)\\n        VALUES \\n        (\\\"nome_5\\\"),\\n        (\\\"nome_1\\\"),\\n        (\\\"nome_6\\\"),\\n        (\\\"nome_3\\\");\\n        \\\"\\\"\\\"\\n)\\n\\nconn.commit()\\nprint(\\\"Dados inseridos.........\\\")\\n\\ndados = cursor.execute(\\\"\\\"\\\"SELECT * from TABELA_B\\\"\\\"\\\")\\n# print(cursor.fetchall())\\n\\nfor linha in dados:\\n    print(linha)\";\n",
       "                var nbb_cells = Jupyter.notebook.get_cells();\n",
       "                for (var i = 0; i < nbb_cells.length; ++i) {\n",
       "                    if (nbb_cells[i].input_prompt_number == nbb_cell_id) {\n",
       "                        if (nbb_cells[i].get_text() == nbb_unformatted_code) {\n",
       "                             nbb_cells[i].set_text(nbb_formatted_code);\n",
       "                        }\n",
       "                        break;\n",
       "                    }\n",
       "                }\n",
       "            }, 500);\n",
       "            "
      ],
      "text/plain": [
       "<IPython.core.display.Javascript object>"
      ]
     },
     "metadata": {},
     "output_type": "display_data"
    }
   ],
   "source": [
    "# Criando consultas de inserção de dados\n",
    "\n",
    "cursor.execute(\n",
    "    \"\"\"INSERT INTO TABELA_B (nome)\n",
    "        VALUES \n",
    "        (\"nome_5\"),\n",
    "        (\"nome_1\"),\n",
    "        (\"nome_6\"),\n",
    "        (\"nome_3\");\n",
    "        \"\"\"\n",
    ")\n",
    "\n",
    "conn.commit()\n",
    "print(\"Dados inseridos.........\")\n",
    "\n",
    "dados = cursor.execute(\"\"\"SELECT * from TABELA_B\"\"\")\n",
    "#print(cursor.fetchall())\n",
    "\n",
    "for linha in dados:\n",
    "    print(linha)\n"
   ]
  },
  {
   "cell_type": "markdown",
   "id": "7098eb2f",
   "metadata": {},
   "source": [
    "#### INNER JOIN "
   ]
  },
  {
   "cell_type": "markdown",
   "id": "89d8f558",
   "metadata": {},
   "source": [
    "![title](img/inner_join.png)"
   ]
  },
  {
   "cell_type": "code",
   "execution_count": 89,
   "id": "34c5a8ff",
   "metadata": {},
   "outputs": [
    {
     "data": {
      "text/html": [
       "<div>\n",
       "<style scoped>\n",
       "    .dataframe tbody tr th:only-of-type {\n",
       "        vertical-align: middle;\n",
       "    }\n",
       "\n",
       "    .dataframe tbody tr th {\n",
       "        vertical-align: top;\n",
       "    }\n",
       "\n",
       "    .dataframe thead th {\n",
       "        text-align: right;\n",
       "    }\n",
       "</style>\n",
       "<table border=\"1\" class=\"dataframe\">\n",
       "  <thead>\n",
       "    <tr style=\"text-align: right;\">\n",
       "      <th></th>\n",
       "      <th>id</th>\n",
       "      <th>nome</th>\n",
       "      <th>id</th>\n",
       "      <th>nome</th>\n",
       "    </tr>\n",
       "  </thead>\n",
       "  <tbody>\n",
       "    <tr>\n",
       "      <th>0</th>\n",
       "      <td>1</td>\n",
       "      <td>nome_1</td>\n",
       "      <td>2</td>\n",
       "      <td>nome_1</td>\n",
       "    </tr>\n",
       "    <tr>\n",
       "      <th>1</th>\n",
       "      <td>3</td>\n",
       "      <td>nome_3</td>\n",
       "      <td>4</td>\n",
       "      <td>nome_3</td>\n",
       "    </tr>\n",
       "  </tbody>\n",
       "</table>\n",
       "</div>"
      ],
      "text/plain": [
       "   id    nome  id    nome\n",
       "0   1  nome_1   2  nome_1\n",
       "1   3  nome_3   4  nome_3"
      ]
     },
     "execution_count": 89,
     "metadata": {},
     "output_type": "execute_result"
    },
    {
     "data": {
      "application/javascript": [
       "\n",
       "            setTimeout(function() {\n",
       "                var nbb_cell_id = 89;\n",
       "                var nbb_unformatted_code = \"consulta = ''' SELECT *\\n               FROM TABELA_A\\n               INNER JOIN TABELA_B\\n               ON TABELA_A.nome = TABELA_B.nome;'''\\n\\ncursor.execute(consulta)\\n\\ndf = pd.read_sql(consulta, conn)\\n\\ndf\";\n",
       "                var nbb_formatted_code = \"consulta = \\\"\\\"\\\" SELECT *\\n               FROM TABELA_A\\n               INNER JOIN TABELA_B\\n               ON TABELA_A.nome = TABELA_B.nome;\\\"\\\"\\\"\\n\\ncursor.execute(consulta)\\n\\ndf = pd.read_sql(consulta, conn)\\n\\ndf\";\n",
       "                var nbb_cells = Jupyter.notebook.get_cells();\n",
       "                for (var i = 0; i < nbb_cells.length; ++i) {\n",
       "                    if (nbb_cells[i].input_prompt_number == nbb_cell_id) {\n",
       "                        if (nbb_cells[i].get_text() == nbb_unformatted_code) {\n",
       "                             nbb_cells[i].set_text(nbb_formatted_code);\n",
       "                        }\n",
       "                        break;\n",
       "                    }\n",
       "                }\n",
       "            }, 500);\n",
       "            "
      ],
      "text/plain": [
       "<IPython.core.display.Javascript object>"
      ]
     },
     "metadata": {},
     "output_type": "display_data"
    }
   ],
   "source": [
    "consulta = \"\"\" SELECT *\n",
    "               FROM TABELA_A\n",
    "               INNER JOIN TABELA_B\n",
    "               ON TABELA_A.nome = TABELA_B.nome;\n",
    "               \"\"\"\n",
    "\n",
    "cursor.execute(consulta)\n",
    "\n",
    "df = pd.read_sql(consulta, conn)\n",
    "\n",
    "df"
   ]
  },
  {
   "cell_type": "markdown",
   "id": "85712e04",
   "metadata": {},
   "source": [
    "#### LEFT OUTER JOIN"
   ]
  },
  {
   "cell_type": "markdown",
   "id": "68c96520",
   "metadata": {},
   "source": [
    "![title](img/left_join.png)"
   ]
  },
  {
   "cell_type": "code",
   "execution_count": 94,
   "id": "76a5acfc",
   "metadata": {},
   "outputs": [
    {
     "data": {
      "text/html": [
       "<div>\n",
       "<style scoped>\n",
       "    .dataframe tbody tr th:only-of-type {\n",
       "        vertical-align: middle;\n",
       "    }\n",
       "\n",
       "    .dataframe tbody tr th {\n",
       "        vertical-align: top;\n",
       "    }\n",
       "\n",
       "    .dataframe thead th {\n",
       "        text-align: right;\n",
       "    }\n",
       "</style>\n",
       "<table border=\"1\" class=\"dataframe\">\n",
       "  <thead>\n",
       "    <tr style=\"text-align: right;\">\n",
       "      <th></th>\n",
       "      <th>id</th>\n",
       "      <th>nome</th>\n",
       "      <th>id</th>\n",
       "      <th>nome</th>\n",
       "    </tr>\n",
       "  </thead>\n",
       "  <tbody>\n",
       "    <tr>\n",
       "      <th>0</th>\n",
       "      <td>1</td>\n",
       "      <td>nome_1</td>\n",
       "      <td>2.0</td>\n",
       "      <td>nome_1</td>\n",
       "    </tr>\n",
       "    <tr>\n",
       "      <th>1</th>\n",
       "      <td>2</td>\n",
       "      <td>nome_2</td>\n",
       "      <td>NaN</td>\n",
       "      <td>None</td>\n",
       "    </tr>\n",
       "    <tr>\n",
       "      <th>2</th>\n",
       "      <td>3</td>\n",
       "      <td>nome_3</td>\n",
       "      <td>4.0</td>\n",
       "      <td>nome_3</td>\n",
       "    </tr>\n",
       "    <tr>\n",
       "      <th>3</th>\n",
       "      <td>4</td>\n",
       "      <td>nome_4</td>\n",
       "      <td>NaN</td>\n",
       "      <td>None</td>\n",
       "    </tr>\n",
       "  </tbody>\n",
       "</table>\n",
       "</div>"
      ],
      "text/plain": [
       "   id    nome   id    nome\n",
       "0   1  nome_1  2.0  nome_1\n",
       "1   2  nome_2  NaN    None\n",
       "2   3  nome_3  4.0  nome_3\n",
       "3   4  nome_4  NaN    None"
      ]
     },
     "execution_count": 94,
     "metadata": {},
     "output_type": "execute_result"
    },
    {
     "data": {
      "application/javascript": [
       "\n",
       "            setTimeout(function() {\n",
       "                var nbb_cell_id = 94;\n",
       "                var nbb_unformatted_code = \"consulta = \\\"\\\"\\\" SELECT *\\n               FROM TABELA_A\\n               LEFT JOIN TABELA_B\\n               ON TABELA_A.nome = TABELA_B.nome;\\\"\\\"\\\"\\n\\ncursor.execute(consulta)\\n\\ndf = pd.read_sql(consulta, conn)\\n\\ndf\";\n",
       "                var nbb_formatted_code = \"consulta = \\\"\\\"\\\" SELECT *\\n               FROM TABELA_A\\n               LEFT JOIN TABELA_B\\n               ON TABELA_A.nome = TABELA_B.nome;\\\"\\\"\\\"\\n\\ncursor.execute(consulta)\\n\\ndf = pd.read_sql(consulta, conn)\\n\\ndf\";\n",
       "                var nbb_cells = Jupyter.notebook.get_cells();\n",
       "                for (var i = 0; i < nbb_cells.length; ++i) {\n",
       "                    if (nbb_cells[i].input_prompt_number == nbb_cell_id) {\n",
       "                        if (nbb_cells[i].get_text() == nbb_unformatted_code) {\n",
       "                             nbb_cells[i].set_text(nbb_formatted_code);\n",
       "                        }\n",
       "                        break;\n",
       "                    }\n",
       "                }\n",
       "            }, 500);\n",
       "            "
      ],
      "text/plain": [
       "<IPython.core.display.Javascript object>"
      ]
     },
     "metadata": {},
     "output_type": "display_data"
    }
   ],
   "source": [
    "consulta = \"\"\" SELECT *\n",
    "               FROM TABELA_A\n",
    "               LEFT JOIN TABELA_B\n",
    "               ON TABELA_A.nome = TABELA_B.nome;\"\"\"\n",
    "\n",
    "cursor.execute(consulta)\n",
    "\n",
    "df = pd.read_sql(consulta, conn)\n",
    "\n",
    "df"
   ]
  },
  {
   "cell_type": "markdown",
   "id": "a8dd0177",
   "metadata": {},
   "source": [
    "#### RIGTH OUTER JOIN "
   ]
  },
  {
   "cell_type": "markdown",
   "id": "527ae005",
   "metadata": {},
   "source": [
    "![title](img/rigth_join.png)"
   ]
  },
  {
   "cell_type": "code",
   "execution_count": 91,
   "id": "8212d80d",
   "metadata": {},
   "outputs": [
    {
     "data": {
      "text/html": [
       "<div>\n",
       "<style scoped>\n",
       "    .dataframe tbody tr th:only-of-type {\n",
       "        vertical-align: middle;\n",
       "    }\n",
       "\n",
       "    .dataframe tbody tr th {\n",
       "        vertical-align: top;\n",
       "    }\n",
       "\n",
       "    .dataframe thead th {\n",
       "        text-align: right;\n",
       "    }\n",
       "</style>\n",
       "<table border=\"1\" class=\"dataframe\">\n",
       "  <thead>\n",
       "    <tr style=\"text-align: right;\">\n",
       "      <th></th>\n",
       "      <th>id</th>\n",
       "      <th>nome</th>\n",
       "      <th>id</th>\n",
       "      <th>nome</th>\n",
       "    </tr>\n",
       "  </thead>\n",
       "  <tbody>\n",
       "    <tr>\n",
       "      <th>0</th>\n",
       "      <td>1</td>\n",
       "      <td>nome_5</td>\n",
       "      <td>NaN</td>\n",
       "      <td>None</td>\n",
       "    </tr>\n",
       "    <tr>\n",
       "      <th>1</th>\n",
       "      <td>2</td>\n",
       "      <td>nome_1</td>\n",
       "      <td>1.0</td>\n",
       "      <td>nome_1</td>\n",
       "    </tr>\n",
       "    <tr>\n",
       "      <th>2</th>\n",
       "      <td>3</td>\n",
       "      <td>nome_6</td>\n",
       "      <td>NaN</td>\n",
       "      <td>None</td>\n",
       "    </tr>\n",
       "    <tr>\n",
       "      <th>3</th>\n",
       "      <td>4</td>\n",
       "      <td>nome_3</td>\n",
       "      <td>3.0</td>\n",
       "      <td>nome_3</td>\n",
       "    </tr>\n",
       "  </tbody>\n",
       "</table>\n",
       "</div>"
      ],
      "text/plain": [
       "   id    nome   id    nome\n",
       "0   1  nome_5  NaN    None\n",
       "1   2  nome_1  1.0  nome_1\n",
       "2   3  nome_6  NaN    None\n",
       "3   4  nome_3  3.0  nome_3"
      ]
     },
     "execution_count": 91,
     "metadata": {},
     "output_type": "execute_result"
    },
    {
     "data": {
      "application/javascript": [
       "\n",
       "            setTimeout(function() {\n",
       "                var nbb_cell_id = 91;\n",
       "                var nbb_unformatted_code = \"consulta = \\\"\\\"\\\" SELECT *\\n               FROM TABELA_B\\n               LEFT OUTER JOIN TABELA_A\\n               ON TABELA_A.nome = TABELA_B.nome;\\\"\\\"\\\"\\n\\ncursor.execute(consulta)\\n\\ndf = pd.read_sql(consulta, conn)\\n\\ndf\";\n",
       "                var nbb_formatted_code = \"consulta = \\\"\\\"\\\" SELECT *\\n               FROM TABELA_B\\n               LEFT OUTER JOIN TABELA_A\\n               ON TABELA_A.nome = TABELA_B.nome;\\\"\\\"\\\"\\n\\ncursor.execute(consulta)\\n\\ndf = pd.read_sql(consulta, conn)\\n\\ndf\";\n",
       "                var nbb_cells = Jupyter.notebook.get_cells();\n",
       "                for (var i = 0; i < nbb_cells.length; ++i) {\n",
       "                    if (nbb_cells[i].input_prompt_number == nbb_cell_id) {\n",
       "                        if (nbb_cells[i].get_text() == nbb_unformatted_code) {\n",
       "                             nbb_cells[i].set_text(nbb_formatted_code);\n",
       "                        }\n",
       "                        break;\n",
       "                    }\n",
       "                }\n",
       "            }, 500);\n",
       "            "
      ],
      "text/plain": [
       "<IPython.core.display.Javascript object>"
      ]
     },
     "metadata": {},
     "output_type": "display_data"
    }
   ],
   "source": [
    "consulta = \"\"\" SELECT *\n",
    "               FROM TABELA_B\n",
    "               LEFT OUTER JOIN TABELA_A\n",
    "               ON TABELA_A.nome = TABELA_B.nome;\"\"\"\n",
    "\n",
    "cursor.execute(consulta)\n",
    "\n",
    "df = pd.read_sql(consulta, conn)\n",
    "\n",
    "df"
   ]
  },
  {
   "cell_type": "markdown",
   "id": "87ee5d41",
   "metadata": {},
   "source": [
    "#### EMULANDO FULL OUTER JOIN "
   ]
  },
  {
   "cell_type": "markdown",
   "id": "c92d2b15",
   "metadata": {},
   "source": [
    "![title](img/full_join.png)"
   ]
  },
  {
   "cell_type": "code",
   "execution_count": 93,
   "id": "51d2dff6",
   "metadata": {},
   "outputs": [
    {
     "data": {
      "text/html": [
       "<div>\n",
       "<style scoped>\n",
       "    .dataframe tbody tr th:only-of-type {\n",
       "        vertical-align: middle;\n",
       "    }\n",
       "\n",
       "    .dataframe tbody tr th {\n",
       "        vertical-align: top;\n",
       "    }\n",
       "\n",
       "    .dataframe thead th {\n",
       "        text-align: right;\n",
       "    }\n",
       "</style>\n",
       "<table border=\"1\" class=\"dataframe\">\n",
       "  <thead>\n",
       "    <tr style=\"text-align: right;\">\n",
       "      <th></th>\n",
       "      <th>id</th>\n",
       "      <th>nome</th>\n",
       "      <th>id</th>\n",
       "      <th>nome</th>\n",
       "    </tr>\n",
       "  </thead>\n",
       "  <tbody>\n",
       "    <tr>\n",
       "      <th>0</th>\n",
       "      <td>1.0</td>\n",
       "      <td>nome_1</td>\n",
       "      <td>2.0</td>\n",
       "      <td>nome_1</td>\n",
       "    </tr>\n",
       "    <tr>\n",
       "      <th>1</th>\n",
       "      <td>2.0</td>\n",
       "      <td>nome_2</td>\n",
       "      <td>NaN</td>\n",
       "      <td>None</td>\n",
       "    </tr>\n",
       "    <tr>\n",
       "      <th>2</th>\n",
       "      <td>3.0</td>\n",
       "      <td>nome_3</td>\n",
       "      <td>4.0</td>\n",
       "      <td>nome_3</td>\n",
       "    </tr>\n",
       "    <tr>\n",
       "      <th>3</th>\n",
       "      <td>4.0</td>\n",
       "      <td>nome_4</td>\n",
       "      <td>NaN</td>\n",
       "      <td>None</td>\n",
       "    </tr>\n",
       "    <tr>\n",
       "      <th>4</th>\n",
       "      <td>NaN</td>\n",
       "      <td>None</td>\n",
       "      <td>1.0</td>\n",
       "      <td>nome_5</td>\n",
       "    </tr>\n",
       "    <tr>\n",
       "      <th>5</th>\n",
       "      <td>NaN</td>\n",
       "      <td>None</td>\n",
       "      <td>3.0</td>\n",
       "      <td>nome_6</td>\n",
       "    </tr>\n",
       "  </tbody>\n",
       "</table>\n",
       "</div>"
      ],
      "text/plain": [
       "    id    nome   id    nome\n",
       "0  1.0  nome_1  2.0  nome_1\n",
       "1  2.0  nome_2  NaN    None\n",
       "2  3.0  nome_3  4.0  nome_3\n",
       "3  4.0  nome_4  NaN    None\n",
       "4  NaN    None  1.0  nome_5\n",
       "5  NaN    None  3.0  nome_6"
      ]
     },
     "execution_count": 93,
     "metadata": {},
     "output_type": "execute_result"
    },
    {
     "data": {
      "application/javascript": [
       "\n",
       "            setTimeout(function() {\n",
       "                var nbb_cell_id = 93;\n",
       "                var nbb_unformatted_code = \"consulta = \\\"\\\"\\\"  SELECT TABELA_A.id, TABELA_A.nome, TABELA_B.id, TABELA_B.nome\\n                FROM TABELA_A\\n                LEFT JOIN TABELA_B USING(nome)\\n                UNION ALL\\n                SELECT TABELA_A.id, TABELA_A.nome, TABELA_B.id, TABELA_B.nome\\n                FROM TABELA_B\\n                LEFT JOIN TABELA_A USING(nome)\\n                WHERE TABELA_A.nome IS NULL;\\\"\\\"\\\"\\n\\ncursor.execute(consulta)\\n\\ndf = pd.read_sql(consulta, conn)\\n\\ndf\";\n",
       "                var nbb_formatted_code = \"consulta = \\\"\\\"\\\"  SELECT TABELA_A.id, TABELA_A.nome, TABELA_B.id, TABELA_B.nome\\n                FROM TABELA_A\\n                LEFT JOIN TABELA_B USING(nome)\\n                UNION ALL\\n                SELECT TABELA_A.id, TABELA_A.nome, TABELA_B.id, TABELA_B.nome\\n                FROM TABELA_B\\n                LEFT JOIN TABELA_A USING(nome)\\n                WHERE TABELA_A.nome IS NULL;\\\"\\\"\\\"\\n\\ncursor.execute(consulta)\\n\\ndf = pd.read_sql(consulta, conn)\\n\\ndf\";\n",
       "                var nbb_cells = Jupyter.notebook.get_cells();\n",
       "                for (var i = 0; i < nbb_cells.length; ++i) {\n",
       "                    if (nbb_cells[i].input_prompt_number == nbb_cell_id) {\n",
       "                        if (nbb_cells[i].get_text() == nbb_unformatted_code) {\n",
       "                             nbb_cells[i].set_text(nbb_formatted_code);\n",
       "                        }\n",
       "                        break;\n",
       "                    }\n",
       "                }\n",
       "            }, 500);\n",
       "            "
      ],
      "text/plain": [
       "<IPython.core.display.Javascript object>"
      ]
     },
     "metadata": {},
     "output_type": "display_data"
    }
   ],
   "source": [
    "consulta = \"\"\"  SELECT TABELA_A.id, TABELA_A.nome, TABELA_B.id, TABELA_B.nome\n",
    "                FROM TABELA_A\n",
    "                LEFT JOIN TABELA_B USING(nome)\n",
    "                UNION ALL\n",
    "                SELECT TABELA_A.id, TABELA_A.nome, TABELA_B.id, TABELA_B.nome\n",
    "                FROM TABELA_B\n",
    "                LEFT JOIN TABELA_A USING(nome)\n",
    "                WHERE TABELA_A.nome IS NULL;\"\"\"\n",
    "\n",
    "cursor.execute(consulta)\n",
    "\n",
    "df = pd.read_sql(consulta, conn)\n",
    "\n",
    "df"
   ]
  },
  {
   "cell_type": "markdown",
   "id": "f2a674cf",
   "metadata": {},
   "source": [
    "referências: https://danielle-leppert-simenauer.medium.com/sqlite-complex-joins-32459860bcb7\n",
    "             https://www.techagilist.com/mainframe/db2/db2-join-inner-joins-and-outer-joins/"
   ]
  },
  {
   "cell_type": "code",
   "execution_count": 85,
   "id": "635059dd",
   "metadata": {},
   "outputs": [
    {
     "data": {
      "application/javascript": [
       "\n",
       "            setTimeout(function() {\n",
       "                var nbb_cell_id = 85;\n",
       "                var nbb_unformatted_code = \"# Fechando a conex\\u00e3o com o BD\\n\\nconn.close()\";\n",
       "                var nbb_formatted_code = \"# Fechando a conex\\u00e3o com o BD\\n\\nconn.close()\";\n",
       "                var nbb_cells = Jupyter.notebook.get_cells();\n",
       "                for (var i = 0; i < nbb_cells.length; ++i) {\n",
       "                    if (nbb_cells[i].input_prompt_number == nbb_cell_id) {\n",
       "                        if (nbb_cells[i].get_text() == nbb_unformatted_code) {\n",
       "                             nbb_cells[i].set_text(nbb_formatted_code);\n",
       "                        }\n",
       "                        break;\n",
       "                    }\n",
       "                }\n",
       "            }, 500);\n",
       "            "
      ],
      "text/plain": [
       "<IPython.core.display.Javascript object>"
      ]
     },
     "metadata": {},
     "output_type": "display_data"
    }
   ],
   "source": [
    "# Fechando a conexão com o BD\n",
    "\n",
    "conn.close()"
   ]
  },
  {
   "cell_type": "code",
   "execution_count": null,
   "id": "ccd6c825",
   "metadata": {},
   "outputs": [],
   "source": []
  }
 ],
 "metadata": {
  "kernelspec": {
   "display_name": "Python 3 (ipykernel)",
   "language": "python",
   "name": "python3"
  },
  "language_info": {
   "codemirror_mode": {
    "name": "ipython",
    "version": 3
   },
   "file_extension": ".py",
   "mimetype": "text/x-python",
   "name": "python",
   "nbconvert_exporter": "python",
   "pygments_lexer": "ipython3",
   "version": "3.9.7"
  }
 },
 "nbformat": 4,
 "nbformat_minor": 5
}
