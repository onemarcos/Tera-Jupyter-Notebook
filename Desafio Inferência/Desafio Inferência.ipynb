{
 "cells": [
  {
   "cell_type": "code",
   "execution_count": 1,
   "id": "08739b01",
   "metadata": {},
   "outputs": [],
   "source": [
    "import pandas as pd\n",
    "import seaborn as sns\n",
    "import numpy as np\n",
    "import matplotlib.pyplot as plt\n",
    "\n",
    "df = pd.read_csv('DEMO_PHQ.csv')\n",
    "df2 = pd.read_csv('PAG_HEI.csv')"
   ]
  },
  {
   "cell_type": "code",
   "execution_count": 2,
   "id": "3988c315",
   "metadata": {},
   "outputs": [
    {
     "data": {
      "text/plain": [
       "SEQN          0\n",
       "DPQ010      498\n",
       "DPQ020      498\n",
       "DPQ030      498\n",
       "DPQ040      498\n",
       "DPQ050      498\n",
       "DPQ060      498\n",
       "DPQ070      498\n",
       "DPQ080      498\n",
       "DPQ090      498\n",
       "RIAGENDR      0\n",
       "RIDAGEYR      0\n",
       "RIDRETH1      0\n",
       "DMDEDUC       0\n",
       "INDFMINC     47\n",
       "dtype: int64"
      ]
     },
     "execution_count": 2,
     "metadata": {},
     "output_type": "execute_result"
    }
   ],
   "source": [
    "df.isnull().sum()"
   ]
  },
  {
   "cell_type": "code",
   "execution_count": 3,
   "id": "1fbb8538",
   "metadata": {},
   "outputs": [
    {
     "data": {
      "text/plain": [
       "array([ 4., 11., 12.,  3.,  1.,  7.,  5., 10.,  8.,  6.,  2.,  9., 13.,\n",
       "       99., nan, 77.])"
      ]
     },
     "execution_count": 3,
     "metadata": {},
     "output_type": "execute_result"
    }
   ],
   "source": [
    "df['INDFMINC'].unique()"
   ]
  },
  {
   "cell_type": "code",
   "execution_count": 4,
   "id": "052ead30",
   "metadata": {
    "scrolled": true
   },
   "outputs": [],
   "source": [
    "#This goes replace all NaN to 9 from tables DPQ010 to DPQ090  [9 = Não sabe (not know)] | 498 values must be affecteds\n",
    "# Also 47 values INDFMINC Nan to 77 = Se recusou a responder(refused to answer)\n",
    "df.fillna({\"DPQ010\": 9, \"DPQ020\": 9, \"DPQ030\": 9, \"DPQ040\": 9, \"DPQ050\": 9, \"DPQ060\": 9, \"DPQ070\": 9, \"DPQ080\": 9, \"DPQ090\": 9, \"INDFMINC\": 77}, inplace=True)"
   ]
  },
  {
   "cell_type": "code",
   "execution_count": 5,
   "id": "83027aa2",
   "metadata": {},
   "outputs": [
    {
     "data": {
      "text/plain": [
       "SEQN        0\n",
       "DPQ010      0\n",
       "DPQ020      0\n",
       "DPQ030      0\n",
       "DPQ040      0\n",
       "DPQ050      0\n",
       "DPQ060      0\n",
       "DPQ070      0\n",
       "DPQ080      0\n",
       "DPQ090      0\n",
       "RIAGENDR    0\n",
       "RIDAGEYR    0\n",
       "RIDRETH1    0\n",
       "DMDEDUC     0\n",
       "INDFMINC    0\n",
       "dtype: int64"
      ]
     },
     "execution_count": 5,
     "metadata": {},
     "output_type": "execute_result"
    }
   ],
   "source": [
    "df.isnull().sum()"
   ]
  },
  {
   "cell_type": "code",
   "execution_count": 6,
   "id": "4666886b",
   "metadata": {},
   "outputs": [],
   "source": [
    "df_full = pd.merge(df, df2, on=\"SEQN\", how=\"inner\")"
   ]
  },
  {
   "cell_type": "code",
   "execution_count": 7,
   "id": "a0a3e65d",
   "metadata": {},
   "outputs": [],
   "source": [
    "df_full[df_full.columns[1:10]] = df_full.iloc[:, 1:10].astype('int')"
   ]
  },
  {
   "cell_type": "code",
   "execution_count": 8,
   "id": "be79ec82",
   "metadata": {},
   "outputs": [
    {
     "data": {
      "text/plain": [
       "5"
      ]
     },
     "execution_count": 8,
     "metadata": {},
     "output_type": "execute_result"
    }
   ],
   "source": [
    "df_full.DPQ010.nunique()"
   ]
  },
  {
   "cell_type": "code",
   "execution_count": 9,
   "id": "50741acc",
   "metadata": {},
   "outputs": [
    {
     "data": {
      "text/plain": [
       "array([9, 0, 1, 2, 3])"
      ]
     },
     "execution_count": 9,
     "metadata": {},
     "output_type": "execute_result"
    }
   ],
   "source": [
    "df_full['DPQ010'].unique()"
   ]
  },
  {
   "cell_type": "code",
   "execution_count": 10,
   "id": "2dbdf867",
   "metadata": {},
   "outputs": [],
   "source": [
    "#values=[7,9]\n",
    "#filtered_df = df_full[~df.DPQ010.isin(values)]"
   ]
  },
  {
   "cell_type": "code",
   "execution_count": 11,
   "id": "83c5df66",
   "metadata": {},
   "outputs": [
    {
     "data": {
      "text/html": [
       "<div>\n",
       "<style scoped>\n",
       "    .dataframe tbody tr th:only-of-type {\n",
       "        vertical-align: middle;\n",
       "    }\n",
       "\n",
       "    .dataframe tbody tr th {\n",
       "        vertical-align: top;\n",
       "    }\n",
       "\n",
       "    .dataframe thead th {\n",
       "        text-align: right;\n",
       "    }\n",
       "</style>\n",
       "<table border=\"1\" class=\"dataframe\">\n",
       "  <thead>\n",
       "    <tr style=\"text-align: right;\">\n",
       "      <th></th>\n",
       "      <th>SEQN</th>\n",
       "      <th>DPQ010</th>\n",
       "      <th>DPQ020</th>\n",
       "      <th>DPQ030</th>\n",
       "      <th>DPQ040</th>\n",
       "      <th>DPQ050</th>\n",
       "      <th>DPQ060</th>\n",
       "      <th>DPQ070</th>\n",
       "      <th>DPQ080</th>\n",
       "      <th>DPQ090</th>\n",
       "      <th>...</th>\n",
       "      <th>HEI2015C6_TOTALDAIRY</th>\n",
       "      <th>HEI2015C7_TOTPROT</th>\n",
       "      <th>HEI2015C8_SEAPLANT_PROT</th>\n",
       "      <th>HEI2015C9_FATTYACID</th>\n",
       "      <th>HEI2015C10_SODIUM</th>\n",
       "      <th>HEI2015C11_REFINEDGRAIN</th>\n",
       "      <th>HEI2015C12_SFAT</th>\n",
       "      <th>HEI2015C13_ADDSUG</th>\n",
       "      <th>HEI2015_TOTAL_SCORE</th>\n",
       "      <th>PHQ9</th>\n",
       "    </tr>\n",
       "  </thead>\n",
       "  <tbody>\n",
       "    <tr>\n",
       "      <th>0</th>\n",
       "      <td>31130</td>\n",
       "      <td>9</td>\n",
       "      <td>9</td>\n",
       "      <td>9</td>\n",
       "      <td>9</td>\n",
       "      <td>9</td>\n",
       "      <td>9</td>\n",
       "      <td>9</td>\n",
       "      <td>9</td>\n",
       "      <td>9</td>\n",
       "      <td>...</td>\n",
       "      <td>NaN</td>\n",
       "      <td>NaN</td>\n",
       "      <td>NaN</td>\n",
       "      <td>NaN</td>\n",
       "      <td>NaN</td>\n",
       "      <td>NaN</td>\n",
       "      <td>NaN</td>\n",
       "      <td>NaN</td>\n",
       "      <td>NaN</td>\n",
       "      <td>0</td>\n",
       "    </tr>\n",
       "    <tr>\n",
       "      <th>1</th>\n",
       "      <td>31131</td>\n",
       "      <td>0</td>\n",
       "      <td>0</td>\n",
       "      <td>0</td>\n",
       "      <td>0</td>\n",
       "      <td>0</td>\n",
       "      <td>0</td>\n",
       "      <td>0</td>\n",
       "      <td>0</td>\n",
       "      <td>0</td>\n",
       "      <td>...</td>\n",
       "      <td>3.141062</td>\n",
       "      <td>4.071959</td>\n",
       "      <td>2.052399</td>\n",
       "      <td>0.684985</td>\n",
       "      <td>2.297100</td>\n",
       "      <td>9.512964</td>\n",
       "      <td>0.438428</td>\n",
       "      <td>3.919226</td>\n",
       "      <td>35.553899</td>\n",
       "      <td>0</td>\n",
       "    </tr>\n",
       "    <tr>\n",
       "      <th>2</th>\n",
       "      <td>31132</td>\n",
       "      <td>0</td>\n",
       "      <td>0</td>\n",
       "      <td>0</td>\n",
       "      <td>0</td>\n",
       "      <td>0</td>\n",
       "      <td>0</td>\n",
       "      <td>0</td>\n",
       "      <td>0</td>\n",
       "      <td>0</td>\n",
       "      <td>...</td>\n",
       "      <td>4.448512</td>\n",
       "      <td>5.000000</td>\n",
       "      <td>0.000000</td>\n",
       "      <td>2.050769</td>\n",
       "      <td>7.369489</td>\n",
       "      <td>8.887880</td>\n",
       "      <td>8.186877</td>\n",
       "      <td>9.099088</td>\n",
       "      <td>63.551696</td>\n",
       "      <td>0</td>\n",
       "    </tr>\n",
       "    <tr>\n",
       "      <th>3</th>\n",
       "      <td>31134</td>\n",
       "      <td>0</td>\n",
       "      <td>0</td>\n",
       "      <td>0</td>\n",
       "      <td>0</td>\n",
       "      <td>0</td>\n",
       "      <td>0</td>\n",
       "      <td>0</td>\n",
       "      <td>0</td>\n",
       "      <td>0</td>\n",
       "      <td>...</td>\n",
       "      <td>2.313900</td>\n",
       "      <td>5.000000</td>\n",
       "      <td>1.268648</td>\n",
       "      <td>2.958985</td>\n",
       "      <td>0.000000</td>\n",
       "      <td>5.627488</td>\n",
       "      <td>5.863078</td>\n",
       "      <td>5.878686</td>\n",
       "      <td>42.886826</td>\n",
       "      <td>0</td>\n",
       "    </tr>\n",
       "    <tr>\n",
       "      <th>4</th>\n",
       "      <td>31139</td>\n",
       "      <td>0</td>\n",
       "      <td>0</td>\n",
       "      <td>0</td>\n",
       "      <td>0</td>\n",
       "      <td>3</td>\n",
       "      <td>1</td>\n",
       "      <td>0</td>\n",
       "      <td>0</td>\n",
       "      <td>0</td>\n",
       "      <td>...</td>\n",
       "      <td>0.000000</td>\n",
       "      <td>4.088849</td>\n",
       "      <td>4.221442</td>\n",
       "      <td>10.000000</td>\n",
       "      <td>2.845774</td>\n",
       "      <td>0.000000</td>\n",
       "      <td>10.000000</td>\n",
       "      <td>9.658507</td>\n",
       "      <td>47.074393</td>\n",
       "      <td>4</td>\n",
       "    </tr>\n",
       "    <tr>\n",
       "      <th>...</th>\n",
       "      <td>...</td>\n",
       "      <td>...</td>\n",
       "      <td>...</td>\n",
       "      <td>...</td>\n",
       "      <td>...</td>\n",
       "      <td>...</td>\n",
       "      <td>...</td>\n",
       "      <td>...</td>\n",
       "      <td>...</td>\n",
       "      <td>...</td>\n",
       "      <td>...</td>\n",
       "      <td>...</td>\n",
       "      <td>...</td>\n",
       "      <td>...</td>\n",
       "      <td>...</td>\n",
       "      <td>...</td>\n",
       "      <td>...</td>\n",
       "      <td>...</td>\n",
       "      <td>...</td>\n",
       "      <td>...</td>\n",
       "      <td>...</td>\n",
       "    </tr>\n",
       "    <tr>\n",
       "      <th>5329</th>\n",
       "      <td>41466</td>\n",
       "      <td>0</td>\n",
       "      <td>0</td>\n",
       "      <td>1</td>\n",
       "      <td>1</td>\n",
       "      <td>0</td>\n",
       "      <td>0</td>\n",
       "      <td>0</td>\n",
       "      <td>0</td>\n",
       "      <td>0</td>\n",
       "      <td>...</td>\n",
       "      <td>2.555736</td>\n",
       "      <td>5.000000</td>\n",
       "      <td>4.672204</td>\n",
       "      <td>4.633477</td>\n",
       "      <td>0.000000</td>\n",
       "      <td>6.580006</td>\n",
       "      <td>8.393244</td>\n",
       "      <td>9.360990</td>\n",
       "      <td>59.949915</td>\n",
       "      <td>2</td>\n",
       "    </tr>\n",
       "    <tr>\n",
       "      <th>5330</th>\n",
       "      <td>41468</td>\n",
       "      <td>0</td>\n",
       "      <td>2</td>\n",
       "      <td>0</td>\n",
       "      <td>1</td>\n",
       "      <td>1</td>\n",
       "      <td>2</td>\n",
       "      <td>1</td>\n",
       "      <td>3</td>\n",
       "      <td>0</td>\n",
       "      <td>...</td>\n",
       "      <td>5.000000</td>\n",
       "      <td>3.759596</td>\n",
       "      <td>2.344264</td>\n",
       "      <td>4.780282</td>\n",
       "      <td>3.134216</td>\n",
       "      <td>1.986137</td>\n",
       "      <td>5.850269</td>\n",
       "      <td>10.000000</td>\n",
       "      <td>57.747869</td>\n",
       "      <td>10</td>\n",
       "    </tr>\n",
       "    <tr>\n",
       "      <th>5331</th>\n",
       "      <td>41469</td>\n",
       "      <td>1</td>\n",
       "      <td>0</td>\n",
       "      <td>0</td>\n",
       "      <td>1</td>\n",
       "      <td>0</td>\n",
       "      <td>0</td>\n",
       "      <td>0</td>\n",
       "      <td>0</td>\n",
       "      <td>0</td>\n",
       "      <td>...</td>\n",
       "      <td>2.151846</td>\n",
       "      <td>5.000000</td>\n",
       "      <td>0.000000</td>\n",
       "      <td>9.344947</td>\n",
       "      <td>3.535211</td>\n",
       "      <td>4.326307</td>\n",
       "      <td>5.269780</td>\n",
       "      <td>8.195564</td>\n",
       "      <td>42.993323</td>\n",
       "      <td>1</td>\n",
       "    </tr>\n",
       "    <tr>\n",
       "      <th>5332</th>\n",
       "      <td>41472</td>\n",
       "      <td>0</td>\n",
       "      <td>0</td>\n",
       "      <td>0</td>\n",
       "      <td>0</td>\n",
       "      <td>0</td>\n",
       "      <td>0</td>\n",
       "      <td>0</td>\n",
       "      <td>0</td>\n",
       "      <td>0</td>\n",
       "      <td>...</td>\n",
       "      <td>5.000000</td>\n",
       "      <td>5.000000</td>\n",
       "      <td>5.000000</td>\n",
       "      <td>2.090534</td>\n",
       "      <td>8.409844</td>\n",
       "      <td>8.936854</td>\n",
       "      <td>3.063795</td>\n",
       "      <td>0.000000</td>\n",
       "      <td>46.134467</td>\n",
       "      <td>0</td>\n",
       "    </tr>\n",
       "    <tr>\n",
       "      <th>5333</th>\n",
       "      <td>41473</td>\n",
       "      <td>0</td>\n",
       "      <td>0</td>\n",
       "      <td>2</td>\n",
       "      <td>1</td>\n",
       "      <td>0</td>\n",
       "      <td>1</td>\n",
       "      <td>0</td>\n",
       "      <td>0</td>\n",
       "      <td>0</td>\n",
       "      <td>...</td>\n",
       "      <td>5.000000</td>\n",
       "      <td>5.000000</td>\n",
       "      <td>5.000000</td>\n",
       "      <td>0.000000</td>\n",
       "      <td>7.458058</td>\n",
       "      <td>10.000000</td>\n",
       "      <td>1.676912</td>\n",
       "      <td>2.751168</td>\n",
       "      <td>45.793478</td>\n",
       "      <td>4</td>\n",
       "    </tr>\n",
       "  </tbody>\n",
       "</table>\n",
       "<p>5334 rows × 32 columns</p>\n",
       "</div>"
      ],
      "text/plain": [
       "       SEQN  DPQ010  DPQ020  DPQ030  DPQ040  DPQ050  DPQ060  DPQ070  DPQ080  \\\n",
       "0     31130       9       9       9       9       9       9       9       9   \n",
       "1     31131       0       0       0       0       0       0       0       0   \n",
       "2     31132       0       0       0       0       0       0       0       0   \n",
       "3     31134       0       0       0       0       0       0       0       0   \n",
       "4     31139       0       0       0       0       3       1       0       0   \n",
       "...     ...     ...     ...     ...     ...     ...     ...     ...     ...   \n",
       "5329  41466       0       0       1       1       0       0       0       0   \n",
       "5330  41468       0       2       0       1       1       2       1       3   \n",
       "5331  41469       1       0       0       1       0       0       0       0   \n",
       "5332  41472       0       0       0       0       0       0       0       0   \n",
       "5333  41473       0       0       2       1       0       1       0       0   \n",
       "\n",
       "      DPQ090  ...  HEI2015C6_TOTALDAIRY  HEI2015C7_TOTPROT  \\\n",
       "0          9  ...                   NaN                NaN   \n",
       "1          0  ...              3.141062           4.071959   \n",
       "2          0  ...              4.448512           5.000000   \n",
       "3          0  ...              2.313900           5.000000   \n",
       "4          0  ...              0.000000           4.088849   \n",
       "...      ...  ...                   ...                ...   \n",
       "5329       0  ...              2.555736           5.000000   \n",
       "5330       0  ...              5.000000           3.759596   \n",
       "5331       0  ...              2.151846           5.000000   \n",
       "5332       0  ...              5.000000           5.000000   \n",
       "5333       0  ...              5.000000           5.000000   \n",
       "\n",
       "      HEI2015C8_SEAPLANT_PROT  HEI2015C9_FATTYACID  HEI2015C10_SODIUM  \\\n",
       "0                         NaN                  NaN                NaN   \n",
       "1                    2.052399             0.684985           2.297100   \n",
       "2                    0.000000             2.050769           7.369489   \n",
       "3                    1.268648             2.958985           0.000000   \n",
       "4                    4.221442            10.000000           2.845774   \n",
       "...                       ...                  ...                ...   \n",
       "5329                 4.672204             4.633477           0.000000   \n",
       "5330                 2.344264             4.780282           3.134216   \n",
       "5331                 0.000000             9.344947           3.535211   \n",
       "5332                 5.000000             2.090534           8.409844   \n",
       "5333                 5.000000             0.000000           7.458058   \n",
       "\n",
       "      HEI2015C11_REFINEDGRAIN  HEI2015C12_SFAT  HEI2015C13_ADDSUG  \\\n",
       "0                         NaN              NaN                NaN   \n",
       "1                    9.512964         0.438428           3.919226   \n",
       "2                    8.887880         8.186877           9.099088   \n",
       "3                    5.627488         5.863078           5.878686   \n",
       "4                    0.000000        10.000000           9.658507   \n",
       "...                       ...              ...                ...   \n",
       "5329                 6.580006         8.393244           9.360990   \n",
       "5330                 1.986137         5.850269          10.000000   \n",
       "5331                 4.326307         5.269780           8.195564   \n",
       "5332                 8.936854         3.063795           0.000000   \n",
       "5333                10.000000         1.676912           2.751168   \n",
       "\n",
       "      HEI2015_TOTAL_SCORE  PHQ9  \n",
       "0                     NaN     0  \n",
       "1               35.553899     0  \n",
       "2               63.551696     0  \n",
       "3               42.886826     0  \n",
       "4               47.074393     4  \n",
       "...                   ...   ...  \n",
       "5329            59.949915     2  \n",
       "5330            57.747869    10  \n",
       "5331            42.993323     1  \n",
       "5332            46.134467     0  \n",
       "5333            45.793478     4  \n",
       "\n",
       "[5334 rows x 32 columns]"
      ]
     },
     "execution_count": 11,
     "metadata": {},
     "output_type": "execute_result"
    }
   ],
   "source": [
    "#Sum rows from columns DPQ010 to DPQ090 where valeu is <=3 into a new column PHQ9 \n",
    "df_full['PHQ9'] = df.iloc[:,2:9].where(df <= 3).sum(axis=1) \n",
    "#Convert PHQ9 to int\n",
    "df_full['PHQ9'] = df_full['PHQ9'].astype('int')\n",
    "df_full"
   ]
  },
  {
   "cell_type": "code",
   "execution_count": 12,
   "id": "d14ce672",
   "metadata": {},
   "outputs": [],
   "source": [
    "#function for classifying depression based on values\n",
    "def f(row):\n",
    "    if row['PHQ9'] <5:\n",
    "        val = 'Sem Sintomas'\n",
    "    elif row['PHQ9'] < 10:\n",
    "        val = 'Sintomas Leves'\n",
    "    elif row['PHQ9'] < 15:\n",
    "        val = 'Sintomas Moderados'\n",
    "    elif row['PHQ9'] < 19:\n",
    "        val = 'Sintomas Moderados Severos'\n",
    "    else:\n",
    "        val = 'Sintomas Severos'\n",
    "    return val\n",
    "\n",
    "df_full['PHQ_GRP'] = df_full.apply(f, axis=1)"
   ]
  },
  {
   "cell_type": "code",
   "execution_count": 13,
   "id": "4b9b41e3",
   "metadata": {},
   "outputs": [
    {
     "data": {
      "text/plain": [
       "SEQN                          0\n",
       "DPQ010                        0\n",
       "DPQ020                        0\n",
       "DPQ030                        0\n",
       "DPQ040                        0\n",
       "DPQ050                        0\n",
       "DPQ060                        0\n",
       "DPQ070                        0\n",
       "DPQ080                        0\n",
       "DPQ090                        0\n",
       "RIAGENDR                      0\n",
       "RIDAGEYR                      0\n",
       "RIDRETH1                      0\n",
       "DMDEDUC                       0\n",
       "INDFMINC                      0\n",
       "PAG_MINW                      0\n",
       "ADHERENCE                     0\n",
       "HEI2015C1_TOTALVEG          274\n",
       "HEI2015C2_GREEN_AND_BEAN    274\n",
       "HEI2015C3_TOTALFRUIT        274\n",
       "HEI2015C4_WHOLEFRUIT        274\n",
       "HEI2015C5_WHOLEGRAIN        274\n",
       "HEI2015C6_TOTALDAIRY        274\n",
       "HEI2015C7_TOTPROT           274\n",
       "HEI2015C8_SEAPLANT_PROT     274\n",
       "HEI2015C9_FATTYACID         274\n",
       "HEI2015C10_SODIUM           274\n",
       "HEI2015C11_REFINEDGRAIN     274\n",
       "HEI2015C12_SFAT             274\n",
       "HEI2015C13_ADDSUG           274\n",
       "HEI2015_TOTAL_SCORE         274\n",
       "PHQ9                          0\n",
       "PHQ_GRP                       0\n",
       "dtype: int64"
      ]
     },
     "execution_count": 13,
     "metadata": {},
     "output_type": "execute_result"
    }
   ],
   "source": [
    "df_full.isnull().sum()"
   ]
  },
  {
   "cell_type": "code",
   "execution_count": 14,
   "id": "c0b8f695",
   "metadata": {},
   "outputs": [],
   "source": [
    "# Removing NaN for analysis\n",
    "df_clean = df_full.dropna()\n",
    "# remove prefix\n",
    "df_clean.columns = df_clean.columns.str.replace(\"HEI2015\", \"\")"
   ]
  },
  {
   "cell_type": "code",
   "execution_count": 15,
   "id": "1a9f81ee",
   "metadata": {},
   "outputs": [],
   "source": [
    "#df_clean = df_clean.loc[:,\"C7_TOTPROT\":\"PHQ_GRP\"]\n",
    "#df_clean"
   ]
  },
  {
   "cell_type": "code",
   "execution_count": 16,
   "id": "b73bdc62",
   "metadata": {
    "scrolled": true
   },
   "outputs": [
    {
     "data": {
      "text/html": [
       "<div>\n",
       "<style scoped>\n",
       "    .dataframe tbody tr th:only-of-type {\n",
       "        vertical-align: middle;\n",
       "    }\n",
       "\n",
       "    .dataframe tbody tr th {\n",
       "        vertical-align: top;\n",
       "    }\n",
       "\n",
       "    .dataframe thead th {\n",
       "        text-align: right;\n",
       "    }\n",
       "</style>\n",
       "<table border=\"1\" class=\"dataframe\">\n",
       "  <thead>\n",
       "    <tr style=\"text-align: right;\">\n",
       "      <th></th>\n",
       "      <th>SEQN</th>\n",
       "      <th>DPQ010</th>\n",
       "      <th>DPQ020</th>\n",
       "      <th>DPQ030</th>\n",
       "      <th>DPQ040</th>\n",
       "      <th>DPQ050</th>\n",
       "      <th>DPQ060</th>\n",
       "      <th>DPQ070</th>\n",
       "      <th>DPQ080</th>\n",
       "      <th>DPQ090</th>\n",
       "      <th>...</th>\n",
       "      <th>C6_TOTALDAIRY</th>\n",
       "      <th>C7_TOTPROT</th>\n",
       "      <th>C8_SEAPLANT_PROT</th>\n",
       "      <th>C9_FATTYACID</th>\n",
       "      <th>C10_SODIUM</th>\n",
       "      <th>C11_REFINEDGRAIN</th>\n",
       "      <th>C12_SFAT</th>\n",
       "      <th>C13_ADDSUG</th>\n",
       "      <th>_TOTAL_SCORE</th>\n",
       "      <th>PHQ9</th>\n",
       "    </tr>\n",
       "  </thead>\n",
       "  <tbody>\n",
       "    <tr>\n",
       "      <th>count</th>\n",
       "      <td>5060.000000</td>\n",
       "      <td>5060.000000</td>\n",
       "      <td>5060.000000</td>\n",
       "      <td>5060.000000</td>\n",
       "      <td>5060.000000</td>\n",
       "      <td>5060.000000</td>\n",
       "      <td>5060.000000</td>\n",
       "      <td>5060.000000</td>\n",
       "      <td>5060.000000</td>\n",
       "      <td>5060.000000</td>\n",
       "      <td>...</td>\n",
       "      <td>5060.000000</td>\n",
       "      <td>5060.000000</td>\n",
       "      <td>5060.000000</td>\n",
       "      <td>5060.000000</td>\n",
       "      <td>5060.000000</td>\n",
       "      <td>5060.000000</td>\n",
       "      <td>5060.000000</td>\n",
       "      <td>5060.000000</td>\n",
       "      <td>5060.000000</td>\n",
       "      <td>5060.000000</td>\n",
       "    </tr>\n",
       "    <tr>\n",
       "      <th>mean</th>\n",
       "      <td>36365.172727</td>\n",
       "      <td>0.860870</td>\n",
       "      <td>0.865020</td>\n",
       "      <td>1.085178</td>\n",
       "      <td>1.243478</td>\n",
       "      <td>0.871146</td>\n",
       "      <td>0.768577</td>\n",
       "      <td>0.785573</td>\n",
       "      <td>0.712253</td>\n",
       "      <td>0.621739</td>\n",
       "      <td>...</td>\n",
       "      <td>3.756967</td>\n",
       "      <td>4.434237</td>\n",
       "      <td>2.593381</td>\n",
       "      <td>4.706986</td>\n",
       "      <td>4.762261</td>\n",
       "      <td>5.798963</td>\n",
       "      <td>6.067985</td>\n",
       "      <td>6.220367</td>\n",
       "      <td>49.971421</td>\n",
       "      <td>2.249209</td>\n",
       "    </tr>\n",
       "    <tr>\n",
       "      <th>std</th>\n",
       "      <td>2967.060374</td>\n",
       "      <td>2.246433</td>\n",
       "      <td>2.231989</td>\n",
       "      <td>2.250048</td>\n",
       "      <td>2.208898</td>\n",
       "      <td>2.237260</td>\n",
       "      <td>2.229295</td>\n",
       "      <td>2.225850</td>\n",
       "      <td>2.239073</td>\n",
       "      <td>2.210954</td>\n",
       "      <td>...</td>\n",
       "      <td>1.605226</td>\n",
       "      <td>1.008311</td>\n",
       "      <td>2.171836</td>\n",
       "      <td>3.237059</td>\n",
       "      <td>3.420252</td>\n",
       "      <td>3.496261</td>\n",
       "      <td>3.178186</td>\n",
       "      <td>3.330305</td>\n",
       "      <td>12.324533</td>\n",
       "      <td>3.145756</td>\n",
       "    </tr>\n",
       "    <tr>\n",
       "      <th>min</th>\n",
       "      <td>31131.000000</td>\n",
       "      <td>0.000000</td>\n",
       "      <td>0.000000</td>\n",
       "      <td>0.000000</td>\n",
       "      <td>0.000000</td>\n",
       "      <td>0.000000</td>\n",
       "      <td>0.000000</td>\n",
       "      <td>0.000000</td>\n",
       "      <td>0.000000</td>\n",
       "      <td>0.000000</td>\n",
       "      <td>...</td>\n",
       "      <td>0.000000</td>\n",
       "      <td>0.000000</td>\n",
       "      <td>0.000000</td>\n",
       "      <td>0.000000</td>\n",
       "      <td>0.000000</td>\n",
       "      <td>0.000000</td>\n",
       "      <td>0.000000</td>\n",
       "      <td>0.000000</td>\n",
       "      <td>16.059212</td>\n",
       "      <td>0.000000</td>\n",
       "    </tr>\n",
       "    <tr>\n",
       "      <th>25%</th>\n",
       "      <td>33839.500000</td>\n",
       "      <td>0.000000</td>\n",
       "      <td>0.000000</td>\n",
       "      <td>0.000000</td>\n",
       "      <td>0.000000</td>\n",
       "      <td>0.000000</td>\n",
       "      <td>0.000000</td>\n",
       "      <td>0.000000</td>\n",
       "      <td>0.000000</td>\n",
       "      <td>0.000000</td>\n",
       "      <td>...</td>\n",
       "      <td>2.591999</td>\n",
       "      <td>4.171156</td>\n",
       "      <td>0.000000</td>\n",
       "      <td>2.023710</td>\n",
       "      <td>1.587909</td>\n",
       "      <td>2.925413</td>\n",
       "      <td>3.697080</td>\n",
       "      <td>3.724867</td>\n",
       "      <td>41.032289</td>\n",
       "      <td>0.000000</td>\n",
       "    </tr>\n",
       "    <tr>\n",
       "      <th>50%</th>\n",
       "      <td>36364.000000</td>\n",
       "      <td>0.000000</td>\n",
       "      <td>0.000000</td>\n",
       "      <td>0.000000</td>\n",
       "      <td>1.000000</td>\n",
       "      <td>0.000000</td>\n",
       "      <td>0.000000</td>\n",
       "      <td>0.000000</td>\n",
       "      <td>0.000000</td>\n",
       "      <td>0.000000</td>\n",
       "      <td>...</td>\n",
       "      <td>4.940948</td>\n",
       "      <td>5.000000</td>\n",
       "      <td>2.588240</td>\n",
       "      <td>4.430397</td>\n",
       "      <td>4.833553</td>\n",
       "      <td>6.234319</td>\n",
       "      <td>6.414811</td>\n",
       "      <td>6.864138</td>\n",
       "      <td>49.512445</td>\n",
       "      <td>1.000000</td>\n",
       "    </tr>\n",
       "    <tr>\n",
       "      <th>75%</th>\n",
       "      <td>38919.250000</td>\n",
       "      <td>1.000000</td>\n",
       "      <td>1.000000</td>\n",
       "      <td>1.000000</td>\n",
       "      <td>1.000000</td>\n",
       "      <td>1.000000</td>\n",
       "      <td>0.000000</td>\n",
       "      <td>0.000000</td>\n",
       "      <td>0.000000</td>\n",
       "      <td>0.000000</td>\n",
       "      <td>...</td>\n",
       "      <td>5.000000</td>\n",
       "      <td>5.000000</td>\n",
       "      <td>5.000000</td>\n",
       "      <td>7.270784</td>\n",
       "      <td>7.650807</td>\n",
       "      <td>9.253265</td>\n",
       "      <td>8.997076</td>\n",
       "      <td>9.454234</td>\n",
       "      <td>58.168013</td>\n",
       "      <td>3.000000</td>\n",
       "    </tr>\n",
       "    <tr>\n",
       "      <th>max</th>\n",
       "      <td>41473.000000</td>\n",
       "      <td>9.000000</td>\n",
       "      <td>9.000000</td>\n",
       "      <td>9.000000</td>\n",
       "      <td>9.000000</td>\n",
       "      <td>9.000000</td>\n",
       "      <td>9.000000</td>\n",
       "      <td>9.000000</td>\n",
       "      <td>9.000000</td>\n",
       "      <td>9.000000</td>\n",
       "      <td>...</td>\n",
       "      <td>5.000000</td>\n",
       "      <td>5.000000</td>\n",
       "      <td>5.000000</td>\n",
       "      <td>10.000000</td>\n",
       "      <td>10.000000</td>\n",
       "      <td>10.000000</td>\n",
       "      <td>10.000000</td>\n",
       "      <td>10.000000</td>\n",
       "      <td>89.529383</td>\n",
       "      <td>21.000000</td>\n",
       "    </tr>\n",
       "  </tbody>\n",
       "</table>\n",
       "<p>8 rows × 32 columns</p>\n",
       "</div>"
      ],
      "text/plain": [
       "               SEQN       DPQ010       DPQ020       DPQ030       DPQ040  \\\n",
       "count   5060.000000  5060.000000  5060.000000  5060.000000  5060.000000   \n",
       "mean   36365.172727     0.860870     0.865020     1.085178     1.243478   \n",
       "std     2967.060374     2.246433     2.231989     2.250048     2.208898   \n",
       "min    31131.000000     0.000000     0.000000     0.000000     0.000000   \n",
       "25%    33839.500000     0.000000     0.000000     0.000000     0.000000   \n",
       "50%    36364.000000     0.000000     0.000000     0.000000     1.000000   \n",
       "75%    38919.250000     1.000000     1.000000     1.000000     1.000000   \n",
       "max    41473.000000     9.000000     9.000000     9.000000     9.000000   \n",
       "\n",
       "            DPQ050       DPQ060       DPQ070       DPQ080       DPQ090  ...  \\\n",
       "count  5060.000000  5060.000000  5060.000000  5060.000000  5060.000000  ...   \n",
       "mean      0.871146     0.768577     0.785573     0.712253     0.621739  ...   \n",
       "std       2.237260     2.229295     2.225850     2.239073     2.210954  ...   \n",
       "min       0.000000     0.000000     0.000000     0.000000     0.000000  ...   \n",
       "25%       0.000000     0.000000     0.000000     0.000000     0.000000  ...   \n",
       "50%       0.000000     0.000000     0.000000     0.000000     0.000000  ...   \n",
       "75%       1.000000     0.000000     0.000000     0.000000     0.000000  ...   \n",
       "max       9.000000     9.000000     9.000000     9.000000     9.000000  ...   \n",
       "\n",
       "       C6_TOTALDAIRY   C7_TOTPROT  C8_SEAPLANT_PROT  C9_FATTYACID  \\\n",
       "count    5060.000000  5060.000000       5060.000000   5060.000000   \n",
       "mean        3.756967     4.434237          2.593381      4.706986   \n",
       "std         1.605226     1.008311          2.171836      3.237059   \n",
       "min         0.000000     0.000000          0.000000      0.000000   \n",
       "25%         2.591999     4.171156          0.000000      2.023710   \n",
       "50%         4.940948     5.000000          2.588240      4.430397   \n",
       "75%         5.000000     5.000000          5.000000      7.270784   \n",
       "max         5.000000     5.000000          5.000000     10.000000   \n",
       "\n",
       "        C10_SODIUM  C11_REFINEDGRAIN     C12_SFAT   C13_ADDSUG  _TOTAL_SCORE  \\\n",
       "count  5060.000000       5060.000000  5060.000000  5060.000000   5060.000000   \n",
       "mean      4.762261          5.798963     6.067985     6.220367     49.971421   \n",
       "std       3.420252          3.496261     3.178186     3.330305     12.324533   \n",
       "min       0.000000          0.000000     0.000000     0.000000     16.059212   \n",
       "25%       1.587909          2.925413     3.697080     3.724867     41.032289   \n",
       "50%       4.833553          6.234319     6.414811     6.864138     49.512445   \n",
       "75%       7.650807          9.253265     8.997076     9.454234     58.168013   \n",
       "max      10.000000         10.000000    10.000000    10.000000     89.529383   \n",
       "\n",
       "              PHQ9  \n",
       "count  5060.000000  \n",
       "mean      2.249209  \n",
       "std       3.145756  \n",
       "min       0.000000  \n",
       "25%       0.000000  \n",
       "50%       1.000000  \n",
       "75%       3.000000  \n",
       "max      21.000000  \n",
       "\n",
       "[8 rows x 32 columns]"
      ]
     },
     "execution_count": 16,
     "metadata": {},
     "output_type": "execute_result"
    }
   ],
   "source": [
    "df_clean.describe()"
   ]
  },
  {
   "cell_type": "code",
   "execution_count": 47,
   "id": "7a0128e8",
   "metadata": {},
   "outputs": [
    {
     "data": {
      "text/plain": [
       "Text(0.5, 1.0, 'Gender')"
      ]
     },
     "execution_count": 47,
     "metadata": {},
     "output_type": "execute_result"
    },
    {
     "data": {
      "image/png": "[encoded data removed]",
      "text/plain": [
       "<Figure size 432x288 with 1 Axes>"
      ]
     },
     "metadata": {
      "needs_background": "light"
     },
     "output_type": "display_data"
    }
   ],
   "source": [
    "#Gender 1 = Men & 2 = Women\n",
    "#df_clean = df_clean.replace({'RIAGENDR': {1: 'Male', 2: 'Female'}})\n",
    "sns.countplot(data=df_clean, x='RIAGENDR')\n",
    "plt.title(\"Gender\")"
   ]
  },
  {
   "cell_type": "code",
   "execution_count": 44,
   "id": "151a5c91",
   "metadata": {},
   "outputs": [
    {
     "data": {
      "text/plain": [
       "Text(0.5, 1.0, 'Age')"
      ]
     },
     "execution_count": 44,
     "metadata": {},
     "output_type": "execute_result"
    },
    {
     "data": {
      "image/png": "[encoded data removed]",
      "text/plain": [
       "<Figure size 432x288 with 1 Axes>"
      ]
     },
     "metadata": {
      "needs_background": "light"
     },
     "output_type": "display_data"
    }
   ],
   "source": [
    "sns.histplot(data=df_clean, x='RIDAGEYR')\n",
    "plt.title(\"Age\")"
   ]
  },
  {
   "cell_type": "code",
   "execution_count": 42,
   "id": "40af04ed",
   "metadata": {
    "scrolled": true
   },
   "outputs": [
    {
     "data": {
      "text/plain": [
       "Text(0.5, 1.0, 'Depression Levels')"
      ]
     },
     "execution_count": 42,
     "metadata": {},
     "output_type": "execute_result"
    },
    {
     "data": {
      "image/png": "[encoded data removed]",
      "text/plain": [
       "<Figure size 432x288 with 1 Axes>"
      ]
     },
     "metadata": {
      "needs_background": "light"
     },
     "output_type": "display_data"
    }
   ],
   "source": [
    "sns.histplot(data=df_clean, y='PHQ_GRP')\n",
    "plt.title(\"Depression Levels\")"
   ]
  },
  {
   "cell_type": "code",
   "execution_count": 20,
   "id": "7ad6cff2",
   "metadata": {
    "scrolled": true
   },
   "outputs": [],
   "source": [
    "#Plot everything\n",
    "#sns.pairplot(df_clean) "
   ]
  },
  {
   "cell_type": "code",
   "execution_count": 21,
   "id": "f7eeddbb",
   "metadata": {},
   "outputs": [
    {
     "data": {
      "text/plain": [
       "<seaborn.axisgrid.FacetGrid at 0x2114cf4f250>"
      ]
     },
     "execution_count": 21,
     "metadata": {},
     "output_type": "execute_result"
    },
    {
     "data": {
      "image/png": "[encoded data removed]",
      "text/plain": [
       "<Figure size 360x360 with 1 Axes>"
      ]
     },
     "metadata": {
      "needs_background": "light"
     },
     "output_type": "display_data"
    }
   ],
   "source": [
    "sns.displot(df_clean, x=\"C13_ADDSUG\", y=\"PHQ_GRP\")"
   ]
  },
  {
   "cell_type": "code",
   "execution_count": 51,
   "id": "1838c72e",
   "metadata": {},
   "outputs": [
    {
     "data": {
      "text/plain": [
       "Text(0.5, 1.0, 'Education x Depression Levels')"
      ]
     },
     "execution_count": 51,
     "metadata": {},
     "output_type": "execute_result"
    },
    {
     "data": {
      "image/png": "[encoded data removed]",
      "text/plain": [
       "<Figure size 432x288 with 1 Axes>"
      ]
     },
     "metadata": {
      "needs_background": "light"
     },
     "output_type": "display_data"
    }
   ],
   "source": [
    "df_clean.plot.scatter(x=\"DMDEDUC\", y=\"PHQ9\")\n",
    "plt.title(\"Education x Depression Levels\")"
   ]
  },
  {
   "cell_type": "code",
   "execution_count": 23,
   "id": "11f23bde",
   "metadata": {},
   "outputs": [
    {
     "data": {
      "text/plain": [
       "<AxesSubplot:>"
      ]
     },
     "execution_count": 23,
     "metadata": {},
     "output_type": "execute_result"
    },
    {
     "data": {
      "image/png": "[encoded data removed]",
      "text/plain": [
       "<Figure size 432x288 with 1 Axes>"
      ]
     },
     "metadata": {
      "needs_background": "light"
     },
     "output_type": "display_data"
    }
   ],
   "source": [
    "df_clean['PHQ9'].value_counts().sort_index().plot.line()"
   ]
  },
  {
   "cell_type": "code",
   "execution_count": 24,
   "id": "ae26b65f",
   "metadata": {
    "scrolled": false
   },
   "outputs": [
    {
     "data": {
      "text/plain": [
       "<AxesSubplot:xlabel='RIAGENDR', ylabel='PHQ9'>"
      ]
     },
     "execution_count": 24,
     "metadata": {},
     "output_type": "execute_result"
    },
    {
     "data": {
      "image/png": "[encoded data removed]",
      "text/plain": [
       "<Figure size 432x288 with 1 Axes>"
      ]
     },
     "metadata": {
      "needs_background": "light"
     },
     "output_type": "display_data"
    }
   ],
   "source": [
    "sns.histplot(x=\"RIAGENDR\", y=\"PHQ9\", data=df_clean)"
   ]
  },
  {
   "cell_type": "code",
   "execution_count": 25,
   "id": "cb93df33",
   "metadata": {
    "scrolled": true
   },
   "outputs": [
    {
     "data": {
      "text/plain": [
       "<AxesSubplot:xlabel='RIDRETH1', ylabel='PHQ9'>"
      ]
     },
     "execution_count": 25,
     "metadata": {},
     "output_type": "execute_result"
    },
    {
     "data": {
      "image/png": "[encoded data removed]",
      "text/plain": [
       "<Figure size 432x288 with 1 Axes>"
      ]
     },
     "metadata": {
      "needs_background": "light"
     },
     "output_type": "display_data"
    }
   ],
   "source": [
    "sns.histplot(x=\"RIDRETH1\", y=\"PHQ9\", data=df_clean)"
   ]
  },
  {
   "cell_type": "code",
   "execution_count": 26,
   "id": "e7c46c88",
   "metadata": {},
   "outputs": [
    {
     "data": {
      "text/plain": [
       "<seaborn.axisgrid.JointGrid at 0x2114d2bedf0>"
      ]
     },
     "execution_count": 26,
     "metadata": {},
     "output_type": "execute_result"
    },
    {
     "data": {
      "image/png": "[encoded data removed]",
      "text/plain": [
       "<Figure size 432x432 with 3 Axes>"
      ]
     },
     "metadata": {
      "needs_background": "light"
     },
     "output_type": "display_data"
    }
   ],
   "source": [
    "sns.jointplot(x=\"PHQ9\", y=\"INDFMINC\", data=df_clean, kind='reg')"
   ]
  },
  {
   "cell_type": "code",
   "execution_count": 27,
   "id": "b9144738",
   "metadata": {},
   "outputs": [
    {
     "data": {
      "text/plain": [
       "<seaborn.axisgrid.FacetGrid at 0x2114d3b1d30>"
      ]
     },
     "execution_count": 27,
     "metadata": {},
     "output_type": "execute_result"
    },
    {
     "data": {
      "image/png": "[encoded data removed]",
      "text/plain": [
       "<Figure size 360x360 with 1 Axes>"
      ]
     },
     "metadata": {
      "needs_background": "light"
     },
     "output_type": "display_data"
    }
   ],
   "source": [
    "sns.relplot(x=\"DMDEDUC\", y=\"PHQ9\", data=df_clean)"
   ]
  },
  {
   "cell_type": "code",
   "execution_count": 28,
   "id": "bf239358",
   "metadata": {
    "scrolled": true
   },
   "outputs": [
    {
     "data": {
      "text/plain": [
       "<seaborn.axisgrid.FacetGrid at 0x2114cf4f310>"
      ]
     },
     "execution_count": 28,
     "metadata": {},
     "output_type": "execute_result"
    },
    {
     "data": {
      "image/png": "[encoded data removed]",
      "text/plain": [
       "<Figure size 360x360 with 1 Axes>"
      ]
     },
     "metadata": {
      "needs_background": "light"
     },
     "output_type": "display_data"
    }
   ],
   "source": [
    "sns.relplot(x=\"INDFMINC\", y=\"PHQ9\", data=df_clean)"
   ]
  },
  {
   "cell_type": "code",
   "execution_count": 29,
   "id": "4dfdcd1b",
   "metadata": {},
   "outputs": [
    {
     "data": {
      "text/plain": [
       "<function seaborn.distributions.displot(data=None, *, x=None, y=None, hue=None, row=None, col=None, weights=None, kind='hist', rug=False, rug_kws=None, log_scale=None, legend=True, palette=None, hue_order=None, hue_norm=None, color=None, col_wrap=None, row_order=None, col_order=None, height=5, aspect=1, facet_kws=None, **kwargs)>"
      ]
     },
     "execution_count": 29,
     "metadata": {},
     "output_type": "execute_result"
    }
   ],
   "source": [
    "sns.displot"
   ]
  }
 ],
 "metadata": {
  "kernelspec": {
   "display_name": "Python 3 (ipykernel)",
   "language": "python",
   "name": "python3"
  },
  "language_info": {
   "codemirror_mode": {
    "name": "ipython",
    "version": 3
   },
   "file_extension": ".py",
   "mimetype": "text/x-python",
   "name": "python",
   "nbconvert_exporter": "python",
   "pygments_lexer": "ipython3",
   "version": "3.9.7"
  }
 },
 "nbformat": 4,
 "nbformat_minor": 5
}
