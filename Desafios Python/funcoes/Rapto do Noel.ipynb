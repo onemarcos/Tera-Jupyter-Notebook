{
 "cells": [
  {
   "cell_type": "markdown",
   "metadata": {},
   "source": [
    "# URGENTE!!! AJUDEM A ENCONTRAR O NOEL!!!\n",
    "![](https://media.giphy.com/media/11EEXw1EIEoHaE/giphy.gif)"
   ]
  },
  {
   "cell_type": "markdown",
   "metadata": {},
   "source": [
    "<h1>Atenção a todos os cientistas de dados!</h1><br>\n",
    "O Noel, o dogginho mais fofinho da Tera, foi raptado! Nós temos poucas pistas e contamos com suas habilidades afiadas de Python para nos ajudar a encontrar o vil ser que foi responsável por abduzir tal criaturinha. Para realizar esta árdua tarefa, você deverá desenvolver sua capacidade de criar e iterar listas e dicionários, e em especial desenvolver funções que irão nos permitir chegar rapidamente ao culpado. Pegue sua água e seu lanchinho, alongue seus dedos e se prepare para por as mãos na massa!"
   ]
  },
  {
   "cell_type": "code",
   "execution_count": 1,
   "metadata": {},
   "outputs": [],
   "source": [
    "# Aqui temos um dicionário com as informações de todos os suspeitos levantados pela polícia do rapto de Noel\n",
    "# note que todos são moradores do mesmo prédio, apenas de andares diferentes\n",
    "\n",
    "suspeitos = {\n",
    "    'Nome' : ['André', 'Bianca', 'Leonardo', 'Kelly', 'Bernardo', 'Úrsula'],\n",
    "    'Idade' : [18, 30, 24, 20, 42, 37],\n",
    "    'Cor de Cabelo' : ['loiro', 'loiro', 'moreno', 'moreno', 'ruivo', 'moreno'],\n",
    "    'Andar' : [1, 4, 7, 12, 2, 6]\n",
    "}"
   ]
  },
  {
   "cell_type": "code",
   "execution_count": 2,
   "metadata": {},
   "outputs": [
    {
     "name": "stdout",
     "output_type": "stream",
     "text": [
      "Vi alguém moreno correndo para subir as escadas\n"
     ]
    }
   ],
   "source": [
    "# Aqui temos informações dadas pela primeira testemunha ocular, que mora no 3º andar\n",
    "\n",
    "print(\"Vi alguém moreno correndo para subir as escadas\")"
   ]
  },
  {
   "cell_type": "code",
   "execution_count": 3,
   "metadata": {},
   "outputs": [
    {
     "name": "stdout",
     "output_type": "stream",
     "text": [
      "Acredito que a pessoa tenha mais de 25 anos\n"
     ]
    }
   ],
   "source": [
    "# Aqui temos informações dadas pela segunda testemunha ocular, que não é residente do prédio\n",
    "\n",
    "print(\"Acredito que a pessoa tenha mais de 25 anos\")"
   ]
  },
  {
   "cell_type": "markdown",
   "metadata": {},
   "source": [
    "<h1>1. Sua primeira tarefa é criar uma função que retorne o input de nome dado na fórmula abaixo indicando se a pessoa é de fato é culpada pelo rapto do pobre Noel.</h1><br>\n",
    "Os retornos possíveis devem ser \"A pessoa não é culpada\" ou \"A pessoa é culpada\"."
   ]
  },
  {
   "cell_type": "code",
   "execution_count": 7,
   "metadata": {},
   "outputs": [
    {
     "name": "stdout",
     "output_type": "stream",
     "text": [
      "Digite o nome que deseja validar se é suspeito: Úrsula\n"
     ]
    }
   ],
   "source": [
    "# inpute aqui o nome de cada um dos suspeitos até encontrar o culpado!!!\n",
    "\n",
    "nome = str(input(\"Digite o nome que deseja validar se é suspeito: \"))"
   ]
  },
  {
   "cell_type": "code",
   "execution_count": 8,
   "metadata": {},
   "outputs": [],
   "source": [
    "# crie aqui a sua função\n",
    "def suspeito (nome):\n",
    "    index = suspeitos['Nome'].index(nome)\n",
    "    andar = suspeitos['Andar'][index]\n",
    "    cabelo = suspeitos['Cor de Cabelo'][index]\n",
    "    idade = suspeitos['Idade'][index]\n",
    "    if (andar > 3) and (cabelo == \"moreno\") and (idade > 25):\n",
    "        return(print(\"A pessoa é culpada\"))\n",
    "    else:\n",
    "        return(print(\"A pessoa não é culpada\"))"
   ]
  },
  {
   "cell_type": "code",
   "execution_count": 9,
   "metadata": {},
   "outputs": [
    {
     "name": "stdout",
     "output_type": "stream",
     "text": [
      "A pessoa é culpada\n"
     ]
    }
   ],
   "source": [
    "# coloque aqui o call da sua função\n",
    "suspeito(nome)"
   ]
  },
  {
   "cell_type": "code",
   "execution_count": 115,
   "metadata": {},
   "outputs": [
    {
     "name": "stdout",
     "output_type": "stream",
     "text": [
      "A pessoa não é culpada\n"
     ]
    }
   ],
   "source": [
    "Exemplo de output"
   ]
  },
  {
   "cell_type": "markdown",
   "metadata": {},
   "source": [
    "# Parabéns!!! Você conseguiu salvar o Noel!!!\n",
    "![](https://img1.picmix.com/output/pic/normal/4/4/7/9/3269744_d1e01.gif)"
   ]
  },
  {
   "cell_type": "markdown",
   "metadata": {},
   "source": [
    "<h1>Agora precisamos preparar os cuidados pós trauma dele...</h1><br>\n",
    "Você agora irá separar as comidas orgânicas gourmet feitas à mão por monges do mosteiro de São Bento para deixar preparado para que qualquer cuidador possa assumir o controle da situação. Você também irá preparar os exercícios de agility do Noel, para garantir que ele está em forma!<br>\n",
    "Primeiro vamos preparar a comidinha do Noel, já que ele é bem criterioso com o que come e está com muita fome.\n",
    "\n",
    "- Quando o petisco é da marca 'ossinhos' o Noel come 3 por dia\n",
    "- Quando o petisco é da marca 'banquete' o Noel come 5 por dia\n",
    "- Nos dias que ele faz Agility ele precisa de 50% mais petiscos para o seu treino\n",
    "- Geralmente ele faz Agility 2 vezes por semana"
   ]
  },
  {
   "cell_type": "markdown",
   "metadata": {},
   "source": [
    "<h1>2. Sua segunda tarefa é criar uma função que irá calcular quantos petiscos precisaremos durante a semana. Nomeie sua função: <code>calcular_petiscos<code>"
   ]
  },
  {
   "cell_type": "code",
   "execution_count": 11,
   "metadata": {},
   "outputs": [],
   "source": [
    "# Escreva sua função aqui. \n",
    "def calcular_petiscos(marca, agility=2):\n",
    "    ossinhos = 3\n",
    "    banquete = 5\n",
    "        \n",
    "    if agility > 7:\n",
    "        return 'A semana só tem 7 dias!'\n",
    "    elif agility < 0:\n",
    "        return 'Coloque um número positivo'\n",
    "    \n",
    "    if marca == 'ossinhos':\n",
    "        quantidade = (7-agility)*ossinhos + agility*ossinhos*1.5\n",
    "        return quantidade\n",
    "    elif marca == 'banquete':\n",
    "        quantidade = (7-agility)*banquete + agility*banquete*1.5\n",
    "        return quantidade\n",
    "    else:\n",
    "        return 'marca inválida'\n",
    "    "
   ]
  },
  {
   "cell_type": "code",
   "execution_count": 12,
   "metadata": {},
   "outputs": [
    {
     "name": "stdout",
     "output_type": "stream",
     "text": [
      "25.5\n",
      "47.5\n",
      "40.0\n",
      "24.0\n",
      "A semana só tem 7 dias!\n"
     ]
    }
   ],
   "source": [
    "#Teste para esses parâmetros\n",
    "print(calcular_petiscos('ossinhos', 3))\n",
    "print(calcular_petiscos('banquete', 5))\n",
    "print(calcular_petiscos('banquete'))\n",
    "print(calcular_petiscos('ossinhos'))\n",
    "print(calcular_petiscos('ossinhos', 8))\n",
    "\n",
    "\n"
   ]
  },
  {
   "cell_type": "code",
   "execution_count": null,
   "metadata": {},
   "outputs": [],
   "source": []
  }
 ],
 "metadata": {
  "kernelspec": {
   "display_name": "Python 3 (ipykernel)",
   "language": "python",
   "name": "python3"
  },
  "language_info": {
   "codemirror_mode": {
    "name": "ipython",
    "version": 3
   },
   "file_extension": ".py",
   "mimetype": "text/x-python",
   "name": "python",
   "nbconvert_exporter": "python",
   "pygments_lexer": "ipython3",
   "version": "3.9.7"
  }
 },
 "nbformat": 4,
 "nbformat_minor": 4
}
